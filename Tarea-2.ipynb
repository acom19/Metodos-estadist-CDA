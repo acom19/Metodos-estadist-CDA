{
 "cells": [
  {
   "cell_type": "markdown",
   "id": "99191957-4b63-47d2-8d5c-66d487fa961f",
   "metadata": {},
   "source": [
    "## Tarea 2"
   ]
  },
  {
   "cell_type": "markdown",
   "id": "7e89a259-c9ec-42e0-a32d-ed975c6fa8b7",
   "metadata": {},
   "source": [
    "### Cargar los datos"
   ]
  },
  {
   "cell_type": "code",
   "execution_count": 3,
   "id": "bd984ef3-d34d-4106-89eb-32bf7736b0d7",
   "metadata": {},
   "outputs": [],
   "source": [
    "import pandas as pd\n",
    "import numpy as np\n",
    "import matplotlib.pyplot as plt"
   ]
  },
  {
   "cell_type": "code",
   "execution_count": 4,
   "id": "338ae9f5-a62e-4c95-b046-b4e4bfc21fba",
   "metadata": {},
   "outputs": [],
   "source": [
    "datos = pd.read_csv(\"../actividad/dynamic_pricing.csv\")"
   ]
  },
  {
   "cell_type": "code",
   "execution_count": 5,
   "id": "ab876122-fb32-4391-b033-49f09ef33256",
   "metadata": {},
   "outputs": [
    {
     "name": "stdout",
     "output_type": "stream",
     "text": [
      "<class 'pandas.core.frame.DataFrame'>\n",
      "RangeIndex: 1000 entries, 0 to 999\n",
      "Data columns (total 10 columns):\n",
      " #   Column                   Non-Null Count  Dtype  \n",
      "---  ------                   --------------  -----  \n",
      " 0   Number_of_Riders         1000 non-null   int64  \n",
      " 1   Number_of_Drivers        1000 non-null   int64  \n",
      " 2   Location_Category        1000 non-null   object \n",
      " 3   Customer_Loyalty_Status  1000 non-null   object \n",
      " 4   Number_of_Past_Rides     1000 non-null   int64  \n",
      " 5   Average_Ratings          1000 non-null   float64\n",
      " 6   Time_of_Booking          1000 non-null   object \n",
      " 7   Vehicle_Type             1000 non-null   object \n",
      " 8   Expected_Ride_Duration   1000 non-null   int64  \n",
      " 9   Historical_Cost_of_Ride  1000 non-null   float64\n",
      "dtypes: float64(2), int64(4), object(4)\n",
      "memory usage: 78.2+ KB\n"
     ]
    }
   ],
   "source": [
    "datos.info()"
   ]
  },
  {
   "cell_type": "code",
   "execution_count": 6,
   "id": "622f4b19-3d65-458a-a25d-dd768a3560a9",
   "metadata": {},
   "outputs": [
    {
     "data": {
      "text/html": [
       "<div>\n",
       "<style scoped>\n",
       "    .dataframe tbody tr th:only-of-type {\n",
       "        vertical-align: middle;\n",
       "    }\n",
       "\n",
       "    .dataframe tbody tr th {\n",
       "        vertical-align: top;\n",
       "    }\n",
       "\n",
       "    .dataframe thead th {\n",
       "        text-align: right;\n",
       "    }\n",
       "</style>\n",
       "<table border=\"1\" class=\"dataframe\">\n",
       "  <thead>\n",
       "    <tr style=\"text-align: right;\">\n",
       "      <th></th>\n",
       "      <th>Number_of_Riders</th>\n",
       "      <th>Number_of_Drivers</th>\n",
       "      <th>Number_of_Past_Rides</th>\n",
       "      <th>Average_Ratings</th>\n",
       "      <th>Expected_Ride_Duration</th>\n",
       "      <th>Historical_Cost_of_Ride</th>\n",
       "    </tr>\n",
       "  </thead>\n",
       "  <tbody>\n",
       "    <tr>\n",
       "      <th>count</th>\n",
       "      <td>1000.000000</td>\n",
       "      <td>1000.000000</td>\n",
       "      <td>1000.000000</td>\n",
       "      <td>1000.000000</td>\n",
       "      <td>1000.00000</td>\n",
       "      <td>1000.000000</td>\n",
       "    </tr>\n",
       "    <tr>\n",
       "      <th>mean</th>\n",
       "      <td>60.372000</td>\n",
       "      <td>27.076000</td>\n",
       "      <td>50.031000</td>\n",
       "      <td>4.257220</td>\n",
       "      <td>99.58800</td>\n",
       "      <td>372.502623</td>\n",
       "    </tr>\n",
       "    <tr>\n",
       "      <th>std</th>\n",
       "      <td>23.701506</td>\n",
       "      <td>19.068346</td>\n",
       "      <td>29.313774</td>\n",
       "      <td>0.435781</td>\n",
       "      <td>49.16545</td>\n",
       "      <td>187.158756</td>\n",
       "    </tr>\n",
       "    <tr>\n",
       "      <th>min</th>\n",
       "      <td>20.000000</td>\n",
       "      <td>5.000000</td>\n",
       "      <td>0.000000</td>\n",
       "      <td>3.500000</td>\n",
       "      <td>10.00000</td>\n",
       "      <td>25.993449</td>\n",
       "    </tr>\n",
       "    <tr>\n",
       "      <th>25%</th>\n",
       "      <td>40.000000</td>\n",
       "      <td>11.000000</td>\n",
       "      <td>25.000000</td>\n",
       "      <td>3.870000</td>\n",
       "      <td>59.75000</td>\n",
       "      <td>221.365202</td>\n",
       "    </tr>\n",
       "    <tr>\n",
       "      <th>50%</th>\n",
       "      <td>60.000000</td>\n",
       "      <td>22.000000</td>\n",
       "      <td>51.000000</td>\n",
       "      <td>4.270000</td>\n",
       "      <td>102.00000</td>\n",
       "      <td>362.019426</td>\n",
       "    </tr>\n",
       "    <tr>\n",
       "      <th>75%</th>\n",
       "      <td>81.000000</td>\n",
       "      <td>38.000000</td>\n",
       "      <td>75.000000</td>\n",
       "      <td>4.632500</td>\n",
       "      <td>143.00000</td>\n",
       "      <td>510.497504</td>\n",
       "    </tr>\n",
       "    <tr>\n",
       "      <th>max</th>\n",
       "      <td>100.000000</td>\n",
       "      <td>89.000000</td>\n",
       "      <td>100.000000</td>\n",
       "      <td>5.000000</td>\n",
       "      <td>180.00000</td>\n",
       "      <td>836.116419</td>\n",
       "    </tr>\n",
       "  </tbody>\n",
       "</table>\n",
       "</div>"
      ],
      "text/plain": [
       "       Number_of_Riders  Number_of_Drivers  Number_of_Past_Rides  \\\n",
       "count       1000.000000        1000.000000           1000.000000   \n",
       "mean          60.372000          27.076000             50.031000   \n",
       "std           23.701506          19.068346             29.313774   \n",
       "min           20.000000           5.000000              0.000000   \n",
       "25%           40.000000          11.000000             25.000000   \n",
       "50%           60.000000          22.000000             51.000000   \n",
       "75%           81.000000          38.000000             75.000000   \n",
       "max          100.000000          89.000000            100.000000   \n",
       "\n",
       "       Average_Ratings  Expected_Ride_Duration  Historical_Cost_of_Ride  \n",
       "count      1000.000000              1000.00000              1000.000000  \n",
       "mean          4.257220                99.58800               372.502623  \n",
       "std           0.435781                49.16545               187.158756  \n",
       "min           3.500000                10.00000                25.993449  \n",
       "25%           3.870000                59.75000               221.365202  \n",
       "50%           4.270000               102.00000               362.019426  \n",
       "75%           4.632500               143.00000               510.497504  \n",
       "max           5.000000               180.00000               836.116419  "
      ]
     },
     "execution_count": 6,
     "metadata": {},
     "output_type": "execute_result"
    }
   ],
   "source": [
    "datos.describe()"
   ]
  },
  {
   "cell_type": "markdown",
   "id": "0580988a-b522-46d2-9d30-86c86dd5c886",
   "metadata": {},
   "source": [
    "#### Mostrar distribuciones de cada variable mediante histogramas"
   ]
  },
  {
   "cell_type": "code",
   "execution_count": 8,
   "id": "a31e9366-c25d-4da9-8648-7857c4edfe02",
   "metadata": {
    "scrolled": true
   },
   "outputs": [
    {
     "data": {
      "image/png": "[encoded data removed]",
      "text/plain": [
       "<Figure size 640x480 with 6 Axes>"
      ]
     },
     "metadata": {},
     "output_type": "display_data"
    }
   ],
   "source": [
    "figure, axis = plt.subplots(2, 3, sharex = False, sharey = True) # Crear una figura para guardar los subplots\n",
    "datos['Number_of_Riders'].plot(kind='hist', ax = axis[0,0], title='Number_of_Riders')\n",
    "datos['Number_of_Drivers'].plot(kind='hist', ax = axis[0,1], title='Number_of_Drivers')\n",
    "datos['Number_of_Past_Rides'].plot(kind='hist', ax = axis[0,2], title='Number_of_Past_Rides')\n",
    "datos['Average_Ratings'].plot(kind='hist', ax = axis[1,0], title='Average_Ratings')\n",
    "datos['Expected_Ride_Duration'].plot(kind='hist', ax = axis[1,1], title='Expected_Ride_Duration')\n",
    "datos['Historical_Cost_of_Ride'].plot(kind='hist', ax = axis[1,2], title='Historical_Cost_of_Ride')\n",
    "# Ajustar el layout para evitar solapamientos\n",
    "plt.tight_layout()\n",
    "plt.show()"
   ]
  },
  {
   "cell_type": "markdown",
   "id": "ae15a1a0-1256-4bdd-b142-822bc36c69d7",
   "metadata": {},
   "source": [
    "### Regresión Lineal Simple\n",
    "\n",
    "Implementar dos modelos de regresión simple teniendo como variable de respuesta el costo histórico del viaje y como variable independiente el número de viajes pasados y el otro modelo tomar como variable de respuesta el costo histórico del viaje y como variable independiente la duración del viaje siga las siguientes actividades"
   ]
  },
  {
   "cell_type": "markdown",
   "id": "556ca728-1ec6-4035-a3b6-042105dbfa1c",
   "metadata": {},
   "source": [
    "* #### Calcular la ecuación de regresión, interpretar los parámetros (intercepto y coeficiente de regresión) e indicar si son significativos de acuerdo con el t-statistic."
   ]
  },
  {
   "cell_type": "code",
   "execution_count": 11,
   "id": "975210cd-27ce-4de1-814c-923f42342888",
   "metadata": {},
   "outputs": [],
   "source": [
    "# Se utiliza la librería statsmodel.formula.api\n",
    "import statsmodels.formula.api as smf"
   ]
  },
  {
   "cell_type": "code",
   "execution_count": 12,
   "id": "9d4e92a2-57a3-43fd-957a-ffa10789a29b",
   "metadata": {},
   "outputs": [],
   "source": [
    "lm_1 = smf.ols(formula='Historical_Cost_of_Ride ~ Number_of_Past_Rides',\n",
    "              data = datos).fit()"
   ]
  },
  {
   "cell_type": "code",
   "execution_count": 13,
   "id": "259bb481-c081-4e7f-9724-f27b8b1ba3fd",
   "metadata": {},
   "outputs": [],
   "source": [
    "lm_2 = smf.ols(formula='Historical_Cost_of_Ride ~ Expected_Ride_Duration',\n",
    "              data = datos).fit()"
   ]
  },
  {
   "cell_type": "code",
   "execution_count": 14,
   "id": "26df0cbd-709a-4e2f-859e-da0ef5681538",
   "metadata": {},
   "outputs": [
    {
     "data": {
      "text/html": [
       "<table class=\"simpletable\">\n",
       "<caption>OLS Regression Results</caption>\n",
       "<tr>\n",
       "  <th>Dep. Variable:</th>    <td>Historical_Cost_of_Ride</td> <th>  R-squared:         </th> <td>   0.001</td> \n",
       "</tr>\n",
       "<tr>\n",
       "  <th>Model:</th>                      <td>OLS</td>           <th>  Adj. R-squared:    </th> <td>   0.000</td> \n",
       "</tr>\n",
       "<tr>\n",
       "  <th>Method:</th>                <td>Least Squares</td>      <th>  F-statistic:       </th> <td>   1.285</td> \n",
       "</tr>\n",
       "<tr>\n",
       "  <th>Date:</th>                <td>Sat, 26 Oct 2024</td>     <th>  Prob (F-statistic):</th>  <td> 0.257</td>  \n",
       "</tr>\n",
       "<tr>\n",
       "  <th>Time:</th>                    <td>21:44:54</td>         <th>  Log-Likelihood:    </th> <td> -6649.8</td> \n",
       "</tr>\n",
       "<tr>\n",
       "  <th>No. Observations:</th>         <td>  1000</td>          <th>  AIC:               </th> <td>1.330e+04</td>\n",
       "</tr>\n",
       "<tr>\n",
       "  <th>Df Residuals:</th>             <td>   998</td>          <th>  BIC:               </th> <td>1.331e+04</td>\n",
       "</tr>\n",
       "<tr>\n",
       "  <th>Df Model:</th>                 <td>     1</td>          <th>                     </th>     <td> </td>    \n",
       "</tr>\n",
       "<tr>\n",
       "  <th>Covariance Type:</th>         <td>nonrobust</td>        <th>                     </th>     <td> </td>    \n",
       "</tr>\n",
       "</table>\n",
       "<table class=\"simpletable\">\n",
       "<tr>\n",
       "            <td></td>              <th>coef</th>     <th>std err</th>      <th>t</th>      <th>P>|t|</th>  <th>[0.025</th>    <th>0.975]</th>  \n",
       "</tr>\n",
       "<tr>\n",
       "  <th>Intercept</th>            <td>  361.0482</td> <td>   11.710</td> <td>   30.832</td> <td> 0.000</td> <td>  338.069</td> <td>  384.028</td>\n",
       "</tr>\n",
       "<tr>\n",
       "  <th>Number_of_Past_Rides</th> <td>    0.2289</td> <td>    0.202</td> <td>    1.134</td> <td> 0.257</td> <td>   -0.167</td> <td>    0.625</td>\n",
       "</tr>\n",
       "</table>\n",
       "<table class=\"simpletable\">\n",
       "<tr>\n",
       "  <th>Omnibus:</th>       <td>80.521</td> <th>  Durbin-Watson:     </th> <td>   1.998</td>\n",
       "</tr>\n",
       "<tr>\n",
       "  <th>Prob(Omnibus):</th> <td> 0.000</td> <th>  Jarque-Bera (JB):  </th> <td>  32.181</td>\n",
       "</tr>\n",
       "<tr>\n",
       "  <th>Skew:</th>          <td> 0.203</td> <th>  Prob(JB):          </th> <td>1.03e-07</td>\n",
       "</tr>\n",
       "<tr>\n",
       "  <th>Kurtosis:</th>      <td> 2.221</td> <th>  Cond. No.          </th> <td>    115.</td>\n",
       "</tr>\n",
       "</table><br/><br/>Notes:<br/>[1] Standard Errors assume that the covariance matrix of the errors is correctly specified."
      ],
      "text/latex": [
       "\\begin{center}\n",
       "\\begin{tabular}{lclc}\n",
       "\\toprule\n",
       "\\textbf{Dep. Variable:}          & Historical\\_Cost\\_of\\_Ride & \\textbf{  R-squared:         } &     0.001   \\\\\n",
       "\\textbf{Model:}                  &            OLS             & \\textbf{  Adj. R-squared:    } &     0.000   \\\\\n",
       "\\textbf{Method:}                 &       Least Squares        & \\textbf{  F-statistic:       } &     1.285   \\\\\n",
       "\\textbf{Date:}                   &      Sat, 26 Oct 2024      & \\textbf{  Prob (F-statistic):} &    0.257    \\\\\n",
       "\\textbf{Time:}                   &          21:44:54          & \\textbf{  Log-Likelihood:    } &   -6649.8   \\\\\n",
       "\\textbf{No. Observations:}       &             1000           & \\textbf{  AIC:               } & 1.330e+04   \\\\\n",
       "\\textbf{Df Residuals:}           &              998           & \\textbf{  BIC:               } & 1.331e+04   \\\\\n",
       "\\textbf{Df Model:}               &                1           & \\textbf{                     } &             \\\\\n",
       "\\textbf{Covariance Type:}        &         nonrobust          & \\textbf{                     } &             \\\\\n",
       "\\bottomrule\n",
       "\\end{tabular}\n",
       "\\begin{tabular}{lcccccc}\n",
       "                                 & \\textbf{coef} & \\textbf{std err} & \\textbf{t} & \\textbf{P$> |$t$|$} & \\textbf{[0.025} & \\textbf{0.975]}  \\\\\n",
       "\\midrule\n",
       "\\textbf{Intercept}               &     361.0482  &       11.710     &    30.832  &         0.000        &      338.069    &      384.028     \\\\\n",
       "\\textbf{Number\\_of\\_Past\\_Rides} &       0.2289  &        0.202     &     1.134  &         0.257        &       -0.167    &        0.625     \\\\\n",
       "\\bottomrule\n",
       "\\end{tabular}\n",
       "\\begin{tabular}{lclc}\n",
       "\\textbf{Omnibus:}       & 80.521 & \\textbf{  Durbin-Watson:     } &    1.998  \\\\\n",
       "\\textbf{Prob(Omnibus):} &  0.000 & \\textbf{  Jarque-Bera (JB):  } &   32.181  \\\\\n",
       "\\textbf{Skew:}          &  0.203 & \\textbf{  Prob(JB):          } & 1.03e-07  \\\\\n",
       "\\textbf{Kurtosis:}      &  2.221 & \\textbf{  Cond. No.          } &     115.  \\\\\n",
       "\\bottomrule\n",
       "\\end{tabular}\n",
       "%\\caption{OLS Regression Results}\n",
       "\\end{center}\n",
       "\n",
       "Notes: \\newline\n",
       " [1] Standard Errors assume that the covariance matrix of the errors is correctly specified."
      ],
      "text/plain": [
       "<class 'statsmodels.iolib.summary.Summary'>\n",
       "\"\"\"\n",
       "                               OLS Regression Results                              \n",
       "===================================================================================\n",
       "Dep. Variable:     Historical_Cost_of_Ride   R-squared:                       0.001\n",
       "Model:                                 OLS   Adj. R-squared:                  0.000\n",
       "Method:                      Least Squares   F-statistic:                     1.285\n",
       "Date:                     Sat, 26 Oct 2024   Prob (F-statistic):              0.257\n",
       "Time:                             21:44:54   Log-Likelihood:                -6649.8\n",
       "No. Observations:                     1000   AIC:                         1.330e+04\n",
       "Df Residuals:                          998   BIC:                         1.331e+04\n",
       "Df Model:                                1                                         \n",
       "Covariance Type:                 nonrobust                                         \n",
       "========================================================================================\n",
       "                           coef    std err          t      P>|t|      [0.025      0.975]\n",
       "----------------------------------------------------------------------------------------\n",
       "Intercept              361.0482     11.710     30.832      0.000     338.069     384.028\n",
       "Number_of_Past_Rides     0.2289      0.202      1.134      0.257      -0.167       0.625\n",
       "==============================================================================\n",
       "Omnibus:                       80.521   Durbin-Watson:                   1.998\n",
       "Prob(Omnibus):                  0.000   Jarque-Bera (JB):               32.181\n",
       "Skew:                           0.203   Prob(JB):                     1.03e-07\n",
       "Kurtosis:                       2.221   Cond. No.                         115.\n",
       "==============================================================================\n",
       "\n",
       "Notes:\n",
       "[1] Standard Errors assume that the covariance matrix of the errors is correctly specified.\n",
       "\"\"\""
      ]
     },
     "execution_count": 14,
     "metadata": {},
     "output_type": "execute_result"
    }
   ],
   "source": [
    "lm_1.summary()"
   ]
  },
  {
   "cell_type": "code",
   "execution_count": 15,
   "id": "fb02f454-4262-4a3d-8502-8bd2db894c5c",
   "metadata": {},
   "outputs": [
    {
     "data": {
      "text/html": [
       "<table class=\"simpletable\">\n",
       "<caption>OLS Regression Results</caption>\n",
       "<tr>\n",
       "  <th>Dep. Variable:</th>    <td>Historical_Cost_of_Ride</td> <th>  R-squared:         </th> <td>   0.860</td> \n",
       "</tr>\n",
       "<tr>\n",
       "  <th>Model:</th>                      <td>OLS</td>           <th>  Adj. R-squared:    </th> <td>   0.860</td> \n",
       "</tr>\n",
       "<tr>\n",
       "  <th>Method:</th>                <td>Least Squares</td>      <th>  F-statistic:       </th> <td>   6148.</td> \n",
       "</tr>\n",
       "<tr>\n",
       "  <th>Date:</th>                <td>Sat, 26 Oct 2024</td>     <th>  Prob (F-statistic):</th>  <td>  0.00</td>  \n",
       "</tr>\n",
       "<tr>\n",
       "  <th>Time:</th>                    <td>21:44:54</td>         <th>  Log-Likelihood:    </th> <td> -5666.1</td> \n",
       "</tr>\n",
       "<tr>\n",
       "  <th>No. Observations:</th>         <td>  1000</td>          <th>  AIC:               </th> <td>1.134e+04</td>\n",
       "</tr>\n",
       "<tr>\n",
       "  <th>Df Residuals:</th>             <td>   998</td>          <th>  BIC:               </th> <td>1.135e+04</td>\n",
       "</tr>\n",
       "<tr>\n",
       "  <th>Df Model:</th>                 <td>     1</td>          <th>                     </th>     <td> </td>    \n",
       "</tr>\n",
       "<tr>\n",
       "  <th>Covariance Type:</th>         <td>nonrobust</td>        <th>                     </th>     <td> </td>    \n",
       "</tr>\n",
       "</table>\n",
       "<table class=\"simpletable\">\n",
       "<tr>\n",
       "             <td></td>               <th>coef</th>     <th>std err</th>      <th>t</th>      <th>P>|t|</th>  <th>[0.025</th>    <th>0.975]</th>  \n",
       "</tr>\n",
       "<tr>\n",
       "  <th>Intercept</th>              <td>   20.8668</td> <td>    5.001</td> <td>    4.173</td> <td> 0.000</td> <td>   11.053</td> <td>   30.680</td>\n",
       "</tr>\n",
       "<tr>\n",
       "  <th>Expected_Ride_Duration</th> <td>    3.5309</td> <td>    0.045</td> <td>   78.410</td> <td> 0.000</td> <td>    3.443</td> <td>    3.619</td>\n",
       "</tr>\n",
       "</table>\n",
       "<table class=\"simpletable\">\n",
       "<tr>\n",
       "  <th>Omnibus:</th>       <td> 0.286</td> <th>  Durbin-Watson:     </th> <td>   1.946</td>\n",
       "</tr>\n",
       "<tr>\n",
       "  <th>Prob(Omnibus):</th> <td> 0.867</td> <th>  Jarque-Bera (JB):  </th> <td>   0.362</td>\n",
       "</tr>\n",
       "<tr>\n",
       "  <th>Skew:</th>          <td> 0.028</td> <th>  Prob(JB):          </th> <td>   0.834</td>\n",
       "</tr>\n",
       "<tr>\n",
       "  <th>Kurtosis:</th>      <td> 2.926</td> <th>  Cond. No.          </th> <td>    251.</td>\n",
       "</tr>\n",
       "</table><br/><br/>Notes:<br/>[1] Standard Errors assume that the covariance matrix of the errors is correctly specified."
      ],
      "text/latex": [
       "\\begin{center}\n",
       "\\begin{tabular}{lclc}\n",
       "\\toprule\n",
       "\\textbf{Dep. Variable:}           & Historical\\_Cost\\_of\\_Ride & \\textbf{  R-squared:         } &     0.860   \\\\\n",
       "\\textbf{Model:}                   &            OLS             & \\textbf{  Adj. R-squared:    } &     0.860   \\\\\n",
       "\\textbf{Method:}                  &       Least Squares        & \\textbf{  F-statistic:       } &     6148.   \\\\\n",
       "\\textbf{Date:}                    &      Sat, 26 Oct 2024      & \\textbf{  Prob (F-statistic):} &     0.00    \\\\\n",
       "\\textbf{Time:}                    &          21:44:54          & \\textbf{  Log-Likelihood:    } &   -5666.1   \\\\\n",
       "\\textbf{No. Observations:}        &             1000           & \\textbf{  AIC:               } & 1.134e+04   \\\\\n",
       "\\textbf{Df Residuals:}            &              998           & \\textbf{  BIC:               } & 1.135e+04   \\\\\n",
       "\\textbf{Df Model:}                &                1           & \\textbf{                     } &             \\\\\n",
       "\\textbf{Covariance Type:}         &         nonrobust          & \\textbf{                     } &             \\\\\n",
       "\\bottomrule\n",
       "\\end{tabular}\n",
       "\\begin{tabular}{lcccccc}\n",
       "                                  & \\textbf{coef} & \\textbf{std err} & \\textbf{t} & \\textbf{P$> |$t$|$} & \\textbf{[0.025} & \\textbf{0.975]}  \\\\\n",
       "\\midrule\n",
       "\\textbf{Intercept}                &      20.8668  &        5.001     &     4.173  &         0.000        &       11.053    &       30.680     \\\\\n",
       "\\textbf{Expected\\_Ride\\_Duration} &       3.5309  &        0.045     &    78.410  &         0.000        &        3.443    &        3.619     \\\\\n",
       "\\bottomrule\n",
       "\\end{tabular}\n",
       "\\begin{tabular}{lclc}\n",
       "\\textbf{Omnibus:}       &  0.286 & \\textbf{  Durbin-Watson:     } &    1.946  \\\\\n",
       "\\textbf{Prob(Omnibus):} &  0.867 & \\textbf{  Jarque-Bera (JB):  } &    0.362  \\\\\n",
       "\\textbf{Skew:}          &  0.028 & \\textbf{  Prob(JB):          } &    0.834  \\\\\n",
       "\\textbf{Kurtosis:}      &  2.926 & \\textbf{  Cond. No.          } &     251.  \\\\\n",
       "\\bottomrule\n",
       "\\end{tabular}\n",
       "%\\caption{OLS Regression Results}\n",
       "\\end{center}\n",
       "\n",
       "Notes: \\newline\n",
       " [1] Standard Errors assume that the covariance matrix of the errors is correctly specified."
      ],
      "text/plain": [
       "<class 'statsmodels.iolib.summary.Summary'>\n",
       "\"\"\"\n",
       "                               OLS Regression Results                              \n",
       "===================================================================================\n",
       "Dep. Variable:     Historical_Cost_of_Ride   R-squared:                       0.860\n",
       "Model:                                 OLS   Adj. R-squared:                  0.860\n",
       "Method:                      Least Squares   F-statistic:                     6148.\n",
       "Date:                     Sat, 26 Oct 2024   Prob (F-statistic):               0.00\n",
       "Time:                             21:44:54   Log-Likelihood:                -5666.1\n",
       "No. Observations:                     1000   AIC:                         1.134e+04\n",
       "Df Residuals:                          998   BIC:                         1.135e+04\n",
       "Df Model:                                1                                         \n",
       "Covariance Type:                 nonrobust                                         \n",
       "==========================================================================================\n",
       "                             coef    std err          t      P>|t|      [0.025      0.975]\n",
       "------------------------------------------------------------------------------------------\n",
       "Intercept                 20.8668      5.001      4.173      0.000      11.053      30.680\n",
       "Expected_Ride_Duration     3.5309      0.045     78.410      0.000       3.443       3.619\n",
       "==============================================================================\n",
       "Omnibus:                        0.286   Durbin-Watson:                   1.946\n",
       "Prob(Omnibus):                  0.867   Jarque-Bera (JB):                0.362\n",
       "Skew:                           0.028   Prob(JB):                        0.834\n",
       "Kurtosis:                       2.926   Cond. No.                         251.\n",
       "==============================================================================\n",
       "\n",
       "Notes:\n",
       "[1] Standard Errors assume that the covariance matrix of the errors is correctly specified.\n",
       "\"\"\""
      ]
     },
     "execution_count": 15,
     "metadata": {},
     "output_type": "execute_result"
    }
   ],
   "source": [
    "lm_2.summary()"
   ]
  },
  {
   "cell_type": "markdown",
   "id": "87cdd3e5-3974-44eb-add7-78a7dcb094a0",
   "metadata": {},
   "source": [
    "##### intercepto y coeficiente de regresión"
   ]
  },
  {
   "cell_type": "code",
   "execution_count": 17,
   "id": "b17c1be9-2557-4cbf-bbf6-53a1a62d3839",
   "metadata": {},
   "outputs": [
    {
     "name": "stdout",
     "output_type": "stream",
     "text": [
      "Resultados del modelo 1\n",
      "Intercepto del modelo 1 = 361.04824010409084 \n",
      " coeficiente de regresión modelo 1 = 0.22894571856533624\n",
      "Error del intercepto = 11.710159944581067\n",
      "Error del coeficiente de regresión = 0.20197320162925828\n",
      "Valor de R2 del modelo  = 0.0012858438069005551\n",
      "El valor de t-statistic para el intercepto = 30.83205027196641\n",
      "El valor de t-statistic para el coeficiente = 1.1335450283428625\n"
     ]
    }
   ],
   "source": [
    "# Mostrar resultados del modelo 1\n",
    "print('Resultados del modelo 1')\n",
    "print(f'Intercepto del modelo 1 = {lm_1.params[0]} \\n coeficiente de regresión modelo 1 = {lm_1.params[1]}')\n",
    "print(f'Error del intercepto = {lm_1.bse[\"Intercept\"]}')\n",
    "print(f'Error del coeficiente de regresión = {lm_1.bse[\"Number_of_Past_Rides\"]}')\n",
    "print(f'Valor de R2 del modelo  = {lm_1.rsquared}')\n",
    "print(f'El valor de t-statistic para el intercepto = {lm_1.tvalues[0]}')\n",
    "print(f'El valor de t-statistic para el coeficiente = {lm_1.tvalues[1]}')"
   ]
  },
  {
   "cell_type": "code",
   "execution_count": 18,
   "id": "45cd23d2-6fd2-4d4d-9f1c-82abfca0977c",
   "metadata": {},
   "outputs": [
    {
     "name": "stdout",
     "output_type": "stream",
     "text": [
      "Resultados del modelo 2\n",
      "Intercepto del modelo = 20.86676892425872 \n",
      " coeficiente de regresión modelo 2 = 3.5309058764647796\n",
      "Error del intercepto = 5.00083150374604\n",
      "Error del coeficiente de regresión = 0.04503135391114663\n",
      "Valor de R2 del modelo = 0.8603437774114745\n",
      "El valor de t-statistic = Intercept                  4.172660\n",
      "Expected_Ride_Duration    78.409943\n",
      "dtype: float64\n"
     ]
    }
   ],
   "source": [
    "# Mostrar resultados del modelo 2\n",
    "print('Resultados del modelo 2')\n",
    "print(f'Intercepto del modelo = {lm_2.params[0]} \\n coeficiente de regresión modelo 2 = {lm_2.params[1]}')\n",
    "print(f'Error del intercepto = {lm_2.bse[\"Intercept\"]}')\n",
    "print(f'Error del coeficiente de regresión = {lm_2.bse[\"Expected_Ride_Duration\"]}')\n",
    "print(f'Valor de R2 del modelo = {lm_2.rsquared}')\n",
    "print(f'El valor de t-statistic = {lm_2.tvalues}')"
   ]
  },
  {
   "cell_type": "markdown",
   "id": "72e82246-f1d6-4fb2-b94a-e0a87187ce20",
   "metadata": {},
   "source": [
    "#### Ecuaciones de regresión lineal para los modelos   \n",
    "$y = \\alpha + \\beta  x + \\epsilon$"
   ]
  },
  {
   "cell_type": "markdown",
   "id": "3eb256ef-8e42-4707-9013-12c4024c568e",
   "metadata": {},
   "source": [
    "* Modelo 1 = Historical_Cost_of_Ride ~ Number_of_Past_Rides  \n",
    "    $y = 361.04(±0.2019) + 0.229(±11.71) * x + \\epsilon$\n",
    "  \n",
    "* Modelo 2 = Historical_Cost_of_Ride ~ Expected_Ride_Duration  \n",
    "    $y = 20.86(±0.045) + 3.53(±5.00) * x + \\epsilon$"
   ]
  },
  {
   "cell_type": "markdown",
   "id": "b1ae86d3-ecad-4044-9498-9d8f741230d2",
   "metadata": {},
   "source": [
    "#### Interpretación de los parámetros (intercepto y coeficiente de regresión)"
   ]
  },
  {
   "cell_type": "markdown",
   "id": "17aed016-6086-4eb6-83c3-65dafc561b00",
   "metadata": {},
   "source": [
    "* Modelo 1\n",
    "  \n",
    "  $\\alpha = 0.229$; Intercepto: Indica el valor de y cuando x vale cero  \n",
    "  $\\beta = 361.04$; coeficiente de regresión: Indica cuanto varía y cuando x aumenta o disminuye una unidad  \n",
    "  $\\epsilon_{intercepto} = 11.71$; error del intercepto: Esto significa que la estimación del intercepto puede variar en aproximadamente 11.710 unidades.  \n",
    "  $\\epsilon_{coeficiente} = 0.2019$; error del coeficiente: Esto indica que la estimación del coeficiente para Number_of_Past_Rides puede variar en aproximadamente 0.202 unidades."
   ]
  },
  {
   "cell_type": "markdown",
   "id": "407b3760-c610-440c-b0d0-655d14a91eff",
   "metadata": {},
   "source": [
    "* Modelo 1\n",
    "  \n",
    "    Intercepto:($\\alpha$): 361.048  \n",
    "    Error Estándar: 11.710  \n",
    "    t-Statistic: 30.832  \n",
    "    p-valor: 0.000\n",
    "    Intercepto:  \n",
    "    El t-statistic es 30.832 y el p-valor es 0.000, que es menor que 0.05.  Como el p-valor es menor que 0.05, se rechaza la hipótesis nula ($H_0$) de que el intercepto es igual a cero. Esto indica que el intercepto es significativamente diferente de cero.\n",
    "\n",
    "    Number_of_Past_Rides:  \n",
    "    Coeficiente (β): 0.229  \n",
    "    Error Estándar: 0.202  \n",
    "    t-Statistic: 1.134  \n",
    "    p-valor: 0.257  \n",
    "    Number_of_Past_Rides:  \n",
    "    El t-statistic es 1.134 y el p-valor es 0.257, que es mayor que 0.05. Esto indica que el coeficiente de Number_of_Past_Rides no es significativo. No se puede rechazar la hipótesis nula de que el coeficiente es igual a cero.\n",
    "\n",
    "Aunque el modelo tiene un intercepto significativo, el número de viajes anteriores no tiene un impacto significativo en el costo histórico del viaje en este modelo.\n",
    "\n",
    "* Modelo 2 \t\t\t\n",
    "\n",
    "  Intercepto:($\\alpha$): 20.86  \n",
    "    Error Estándar: 5.001  \n",
    "    t-Statistic: 4.173  \n",
    "    p-valor: 0.000  \n",
    "    Intercepto:  \n",
    "    El t-statistic es 4.173 y el p-valor es 0.000, que es menor que 0.05.  Como el p-valor es menor que 0.05, se rechaza la hipótesis nula ($H_0$) de que el intercepto es igual a cero. Esto indica que el intercepto es significativamente diferente de cero.\n",
    "\n",
    "    Expected_Ride_Duration:  \n",
    "    Coeficiente (β): 3.5309  \n",
    "    Error Estándar: 0.045  \n",
    "    t-Statistic: 78.410   \n",
    "    p-valor: 0.000  \n",
    "    Expected_Ride_Duration:  \n",
    "    El t-statistic es 78.410  y el p-valor es 0.00, que es menor que 0.05. Un t-estadístico tan alto indica que el coeficiente es significativamente diferente de cero.\n",
    "\n",
    "    Un p-valor de 0.000 (menor que 0.05) sugiere que se rechaza la hipótesis nula de que el coeficiente es cero. Esto confirma que Expected_Ride_Duration es un predictor significativo en el modelo.  \n",
    "\n",
    "El coeficiente para Expected_Ride_Duration es significativo, ya que el p-valor es muy bajo y el t-estadístico es muy alto. Esto indica que Expected_Ride_Duration tiene un impacto considerable y estadísticamente significativo en la variable dependiente que se está modelando. "
   ]
  },
  {
   "cell_type": "code",
   "execution_count": 24,
   "id": "f836baea-63ba-4acd-b9d5-71835b600a7a",
   "metadata": {},
   "outputs": [
    {
     "data": {
      "text/plain": [
       "0    364.024534\n",
       "1    377.532332\n",
       "2    361.048240\n",
       "3    376.387603\n",
       "4    377.990223\n",
       "dtype: float64"
      ]
     },
     "execution_count": 24,
     "metadata": {},
     "output_type": "execute_result"
    }
   ],
   "source": [
    "# Generar una predicción de los datos con el modelo 1\n",
    "datos_predict = lm_1.predict(pd.DataFrame(datos['Number_of_Past_Rides']))\n",
    "datos_predict.head()"
   ]
  },
  {
   "cell_type": "code",
   "execution_count": 25,
   "id": "2f63e232-c886-40ce-9f80-bbeb6ed37386",
   "metadata": {},
   "outputs": [
    {
     "data": {
      "text/plain": [
       "0    338.648298\n",
       "1    172.695722\n",
       "2    289.215616\n",
       "3    494.008156\n",
       "4    546.971745\n",
       "dtype: float64"
      ]
     },
     "execution_count": 25,
     "metadata": {},
     "output_type": "execute_result"
    }
   ],
   "source": [
    "# Generar una predicción de los datos con el modelo 2\n",
    "datos_predict_2 = lm_2.predict(pd.DataFrame(datos['Expected_Ride_Duration']))\n",
    "datos_predict_2.head()"
   ]
  },
  {
   "cell_type": "markdown",
   "id": "fbfc7c6a-d52f-413d-9926-cc876b66c056",
   "metadata": {},
   "source": [
    "* #### Hacer el scatterplot con la línea de regresión, indicar lo que dice el gráfico"
   ]
  },
  {
   "cell_type": "code",
   "execution_count": 27,
   "id": "5d302c74-6a01-41e0-b304-1020784178ad",
   "metadata": {},
   "outputs": [
    {
     "data": {
      "text/plain": [
       "[<matplotlib.lines.Line2D at 0x2017b323dc0>]"
      ]
     },
     "execution_count": 27,
     "metadata": {},
     "output_type": "execute_result"
    },
    {
     "data": {
      "image/png": "[encoded data removed]",
      "text/plain": [
       "<Figure size 640x480 with 1 Axes>"
      ]
     },
     "metadata": {},
     "output_type": "display_data"
    }
   ],
   "source": [
    "# Graficar los datos observados Modelo 1\n",
    "datos.plot(kind='scatter', x = 'Number_of_Past_Rides', y = 'Historical_Cost_of_Ride')\n",
    "# Graficar los datos predichos por el modelo 1 (línea de regresión)\n",
    "plt.plot(pd.DataFrame(datos['Number_of_Past_Rides']), datos_predict, c = 'red', linewidth=1.5)"
   ]
  },
  {
   "cell_type": "markdown",
   "id": "cee763a8-0710-4cbe-912f-e36ff06bcbf6",
   "metadata": {},
   "source": [
    "Como se observa en esta gráfica, los residuos están muy dispersos, significa que el modelo no está capturando bien la relación entre la variable independiente y la variable dependiente. Puede ser que la relación no sea lineal entre estas dos variables."
   ]
  },
  {
   "cell_type": "code",
   "execution_count": 29,
   "id": "dd737cbb-c878-42b8-a4ce-5a23e6927cfa",
   "metadata": {},
   "outputs": [
    {
     "data": {
      "text/plain": [
       "[<matplotlib.lines.Line2D at 0x2017b4e8550>]"
      ]
     },
     "execution_count": 29,
     "metadata": {},
     "output_type": "execute_result"
    },
    {
     "data": {
      "image/png": "[encoded data removed]",
      "text/plain": [
       "<Figure size 640x480 with 1 Axes>"
      ]
     },
     "metadata": {},
     "output_type": "display_data"
    }
   ],
   "source": [
    "# Graficar los datos observados Modelo 2\n",
    "datos.plot(kind='scatter', x = 'Expected_Ride_Duration', y = 'Historical_Cost_of_Ride')\n",
    "# Graficar los datos predichos por el modelo 2 (línea de regresión)\n",
    "plt.plot(pd.DataFrame(datos['Expected_Ride_Duration']), datos_predict_2, c = 'red', linewidth=1.5)"
   ]
  },
  {
   "cell_type": "markdown",
   "id": "26dc26d5-0fd4-42d7-9d4a-aede01585939",
   "metadata": {},
   "source": [
    "Para valores bajos de la variable independiente, el modelo predice bastante bien y los residuos son pequeños y cercanos a cero. El modelo tiene un buen ajuste en este rango.  \n",
    "La variable dependiente crece significativamente con los valores de la variable independiente. Se puede observar una tendencia de los datos y el modelo sigue capturando la tendencia general de los datos.  \n",
    "La dispersión de los residuos en valores más altos de x indica que hay más variabilidad o incertidumbre en las predicciones del modelo para estos valores."
   ]
  },
  {
   "cell_type": "markdown",
   "id": "99eda0d6-b62c-42ad-9343-1bd4d42395bc",
   "metadata": {},
   "source": [
    "* #### Obtener los residuos y valores ajustados, la gráfica correspondiente y el análisis de residuos."
   ]
  },
  {
   "cell_type": "code",
   "execution_count": 32,
   "id": "ec65d3d2-be0e-4d05-92b2-6e2065af5723",
   "metadata": {},
   "outputs": [
    {
     "data": {
      "image/png": "[encoded data removed]",
      "text/plain": [
       "<Figure size 1000x600 with 1 Axes>"
      ]
     },
     "metadata": {},
     "output_type": "display_data"
    }
   ],
   "source": [
    "# Crear la gráfica de residuos del modelo 1\n",
    "plt.figure(figsize=(10, 6))\n",
    "plt.scatter(lm_1.fittedvalues, lm_1.resid)\n",
    "plt.axhline(y=0, color='r', linestyle='--')\n",
    "plt.xlabel('Valores Ajustados')\n",
    "plt.ylabel('Residuos')\n",
    "plt.title('Gráfica de Residuos')\n",
    "plt.show()"
   ]
  },
  {
   "cell_type": "markdown",
   "id": "42ad2e1d-e0bf-430f-85b8-9ce877d275b5",
   "metadata": {},
   "source": [
    "Dispersión en valores bajos tanto como en valores altos de x. Esto indica que el modelo tiene dificultad en capturar la relación en todo el rango. La presencia de variabilidad en los residuos a lo largo de todo el rango de x sugiere que podrían faltar variables en el modelo, o que la relación entre x e y no es adecuadamente lineal."
   ]
  },
  {
   "cell_type": "code",
   "execution_count": 34,
   "id": "83f820af-4ac6-4600-a402-438ae0ce7710",
   "metadata": {
    "scrolled": true
   },
   "outputs": [
    {
     "data": {
      "image/png": "[encoded data removed]",
      "text/plain": [
       "<Figure size 640x480 with 2 Axes>"
      ]
     },
     "metadata": {},
     "output_type": "display_data"
    }
   ],
   "source": [
    "figure, axis = plt.subplots(1, 2, sharex = False, sharey = True) # Crear una figura para guardar los subplots\n",
    "pd.DataFrame(lm_1.fittedvalues).plot(kind='hist', ax = axis[0], title='fittedvalues')\n",
    "pd.DataFrame(lm_1.resid).plot(kind='hist', ax = axis[1], title='Resid')\n",
    "# Ajustar el layout para evitar solapamientos\n",
    "plt.tight_layout()\n",
    "plt.show()"
   ]
  },
  {
   "cell_type": "markdown",
   "id": "01fffab5-04f9-43ad-8f55-d7d8fbb08cdd",
   "metadata": {},
   "source": [
    "* Gráfico de la izquierda (fittedvalues):\n",
    "\n",
    "En este gráfico, se visualizan los valores ajustados (fitted values) de el modelo 1. Estos valores son las predicciones que el modelo hace sobre los datos observados.\n",
    "\n",
    "El rango de los valores ajustados parece estar entre aproximadamente 360 y 385.\n",
    "La distribución es uniforme, lo que da un indicio que los valores ajustados están relativamente distribuidos de manera similar en este rango.\n",
    "\n",
    "* Gráfico de la derecha (Resid):\n",
    "\n",
    "Aquí se muestran los residuos del modelo, que son la diferencia entre los valores observados y los valores ajustados.\n",
    "\n",
    "La distribución de los residuos parece seguir una forma de campana, podrían estar distribuidos normalmente, pero con cierta asimetría, ya que hay más valores en el lado negativo (residuos menores a 0) que en el lado positivo.\n",
    "Los residuos parecen variar entre aproximadamente -200 y 400, con una concentración en torno a 0, lo que indica que la mayoría de las predicciones no se desvían demasiado de los valores reales."
   ]
  },
  {
   "cell_type": "code",
   "execution_count": 36,
   "id": "48e24f16-38bc-4263-8e63-f7b5878dc61d",
   "metadata": {},
   "outputs": [],
   "source": [
    "# Crear el DataFrame de residuos y valores ajustados con índice\n",
    "residuos_lm_1 = pd.DataFrame({\n",
    "    'index': range(len(lm_1.resid)),\n",
    "    'resid': lm_1.resid\n",
    "})\n",
    "\n",
    "valores_ajustados_lm_1 = pd.DataFrame({\n",
    "    'index': range(len(lm_1.fittedvalues)),\n",
    "    'fittedvalues': lm_1.fittedvalues\n",
    "})"
   ]
  },
  {
   "cell_type": "code",
   "execution_count": 37,
   "id": "acafbd23-665f-4e45-915b-3ae4b43e093a",
   "metadata": {
    "scrolled": true
   },
   "outputs": [
    {
     "data": {
      "image/png": "[encoded data removed]",
      "text/plain": [
       "<Figure size 640x480 with 2 Axes>"
      ]
     },
     "metadata": {},
     "output_type": "display_data"
    }
   ],
   "source": [
    "figure, axis = plt.subplots(1, 2, sharex = False, sharey = True) # Crear una figura para guardar los subplots\n",
    "residuos_lm_1.plot(kind='scatter', x='index', y='resid', ax = axis[0], title='Residuos m1')\n",
    "valores_ajustados_lm_1.plot(kind='scatter', x='index', y='fittedvalues', ax = axis[1], title='Valores ajustados m1')\n",
    "# Ajustar el layout para evitar solapamientos\n",
    "plt.tight_layout()\n",
    "plt.show()"
   ]
  },
  {
   "cell_type": "markdown",
   "id": "6763408f-01d4-43b4-90bb-1f863a5b80c2",
   "metadata": {},
   "source": [
    "* Gráfico de la izquierda (Residuos vs. Índice):\n",
    "  \n",
    "Eje X: Representa el índice o número de observaciones (del 0 al 1000).\n",
    "\n",
    "Eje Y: Representa los residuos (residuales), es decir, la diferencia entre los valores observados y los valores ajustados por el modelo.\n",
    "\n",
    "Los residuos parecen estar distribuidos simétricamente alrededor de cero, con valores que oscilan entre aproximadamente -200 y 400. Esto indica que no hay un sesgo evidente en las predicciones.\n",
    "No se observa una tendencia o patrón creciente o decreciente, lo que sugiere que los residuos son independientes y distribuidos homogéneamente.\n",
    "\n",
    "* Gráfico de la derecha (Valores ajustados vs. Índice):\n",
    "  \n",
    "Eje X: También muestra el índice de las observaciones (del 0 al 1000).\n",
    "\n",
    "Eje Y: Representa los valores ajustados (predicciones del modelo).\n",
    "\n",
    "En este gráfico, los valores ajustados están prácticamente en una misma línea horizontal, indicando que el modelo ajusta valores similares para todas las observaciones.\n",
    "\n",
    "La falta de variabilidad en los valores ajustados (una línea prácticamente constante) sugiere que el modelo está produciendo resultados muy homogéneos, es decir, predice casi el mismo valor para todos los datos. Esto podría ser una señal de un problema con el modelo, ya que se esperaría que los valores ajustados tengan más variación si están bien ajustados a los datos observados.\n",
    "Un patrón tan plano gpuede indicar que el modelo está subajustando (underfitting) los datos, es decir, que no está capturando bien la variabilidad presente en los datos reales."
   ]
  },
  {
   "cell_type": "code",
   "execution_count": 39,
   "id": "6206854e-e733-4602-9dde-b0e6663f72bb",
   "metadata": {},
   "outputs": [
    {
     "data": {
      "image/png": "[encoded data removed]",
      "text/plain": [
       "<Figure size 1000x600 with 1 Axes>"
      ]
     },
     "metadata": {},
     "output_type": "display_data"
    }
   ],
   "source": [
    "# Crear la gráfica de residuos Modelo 2\n",
    "plt.figure(figsize=(10, 6))\n",
    "plt.scatter(lm_2.fittedvalues, lm_2.resid)\n",
    "plt.axhline(y=0, color='r', linestyle='--')\n",
    "plt.xlabel('Valores Ajustados modelo 2')\n",
    "plt.ylabel('Residuos modelo 2')\n",
    "plt.title('Gráfica de Residuos modelo 2')\n",
    "plt.show()"
   ]
  },
  {
   "cell_type": "markdown",
   "id": "58cabdba-40ac-4fb7-ba3e-880e3f840ed8",
   "metadata": {},
   "source": [
    "Esta gráfica muestra como se comportan los residuos respecto a los valores predichos por el modelo 2.\n",
    "\n",
    "Cuando los valores en el eje x (valores ajustados) son bajos, los residuos en el eje y están más cerca de la línea horizontal en cero. Esto indica que el modelo ajusta bien los datos en esa región, es decir, los errores entre los valores observados y los valores predichos son pequeños.\n",
    "\n",
    "A medida que los valores ajustados en el eje x aumentan, los residuos (y) se dispersan más por encima y por debajo de la línea de cero. Esto indica que el modelo tiene un error de predicción mayor en esa región: los valores predichos se desvían más de los valores observados."
   ]
  },
  {
   "cell_type": "code",
   "execution_count": 41,
   "id": "876e5f03-e7ee-4ac5-9d49-128ad40dd990",
   "metadata": {
    "scrolled": true
   },
   "outputs": [
    {
     "data": {
      "image/png": "[encoded data removed]",
      "text/plain": [
       "<Figure size 640x480 with 2 Axes>"
      ]
     },
     "metadata": {},
     "output_type": "display_data"
    }
   ],
   "source": [
    "figure, axis = plt.subplots(1, 2, sharex = False, sharey = True) # Crear una figura para guardar los subplots\n",
    "pd.DataFrame(lm_2.fittedvalues).plot(kind='hist', ax = axis[0], title='fittedvalues m2')\n",
    "pd.DataFrame(lm_2.resid).plot(kind='hist', ax = axis[1], title='Resid m2')\n",
    "# Ajustar el layout para evitar solapamientos\n",
    "plt.tight_layout()\n",
    "plt.show()"
   ]
  },
  {
   "cell_type": "markdown",
   "id": "f520e3d5-2751-49b4-a060-9880f0bd708b",
   "metadata": {},
   "source": [
    "* Gráfico de la izquierda (fittedvalues):\n",
    "\n",
    "En este gráfico, se visualizan los valores ajustados (fitted values) de el modelo 1. Estos valores son las predicciones que el modelo hace sobre los datos observados.\n",
    "\n",
    "El rango de los valores ajustados parece estar entre aproximadamente 0 y 650.\n",
    "La distribución es uniforme, pero se evidencia una tendencia hacia valores mayores a 400 lo que da un indicio que los valores ajustados están relativamente distribuidos pero con cierta asimetría.\n",
    "\n",
    "* Gráfico de la derecha (Resid):\n",
    "\n",
    "Aquí se muestran los residuos del modelo, que son la diferencia entre los valores observados y los valores ajustados.\n",
    "\n",
    "La distribución de los residuos parece seguir una forma de campana, podrían estar distribuidos normalmente, pero con cierta asimetría, ya que hay más valores en el lado positivo (residuos mayores a 0).\n",
    "Los residuos parecen variar entre aproximadamente -200 y 200, con una concentración en torno a 0, lo que indica que la mayoría de las predicciones no se desvían demasiado de los valores reales."
   ]
  },
  {
   "cell_type": "code",
   "execution_count": 43,
   "id": "d975f12c-b929-48b7-89e6-a79863f0cf26",
   "metadata": {},
   "outputs": [],
   "source": [
    "# Crear el DataFrame de residuos y valores ajustados con índice\n",
    "residuos_lm_2 = pd.DataFrame({\n",
    "    'index': range(len(lm_2.resid)),\n",
    "    'resid': lm_2.resid\n",
    "})\n",
    "\n",
    "valores_ajustados_lm_2 = pd.DataFrame({\n",
    "    'index': range(len(lm_2.fittedvalues)),\n",
    "    'fittedvalues': lm_2.fittedvalues\n",
    "})"
   ]
  },
  {
   "cell_type": "code",
   "execution_count": 44,
   "id": "8c91c4df-fa68-4b9a-8471-401d7808c768",
   "metadata": {
    "scrolled": true
   },
   "outputs": [
    {
     "data": {
      "image/png": "[encoded data removed]",
      "text/plain": [
       "<Figure size 640x480 with 2 Axes>"
      ]
     },
     "metadata": {},
     "output_type": "display_data"
    }
   ],
   "source": [
    "figure, axis = plt.subplots(1, 2, sharex = False, sharey = True) # Crear una figura para guardar los subplots\n",
    "residuos_lm_2.plot(kind='scatter', x='index', y='resid', ax = axis[0], title='Residuos')\n",
    "valores_ajustados_lm_2.plot(kind='scatter', x='index', y='fittedvalues', ax = axis[1], title='Valores ajustados')\n",
    "# Ajustar el layout para evitar solapamientos\n",
    "plt.tight_layout()\n",
    "plt.show()"
   ]
  },
  {
   "cell_type": "markdown",
   "id": "d094bdba-77ce-4a90-9729-1a63b3994630",
   "metadata": {},
   "source": [
    "* Valores Ajustados\n",
    "  \n",
    "Los valores ajustados son las predicciones del modelo para la variable dependiente basadas en los valores de la variable independientes. Es decir, son los valores que el modelo predice usando la fórmula de regresión.\n",
    "\n",
    "Si los valores ajustados están cerca de los valores observados, significa que el modelo está haciendo un buen trabajo al predecir la variable dependiente.\n",
    "\n",
    "Se usan para crear gráficas de línea para ver cómo de bien se ajusta el modelo a los datos reales.\n",
    "\n",
    "* Residuos\n",
    "  \n",
    "Los residuos son las diferencias entre los valores observados y los valores ajustados. En esencia, miden el \"error\" o cuánto se desvía el modelo de los datos reales. Se calculan como: $Residuos = Valores Observados − Valores Ajustados$"
   ]
  },
  {
   "cell_type": "markdown",
   "id": "d26e0f9d-98d3-42f4-bd1b-7edb5ee50ea3",
   "metadata": {},
   "source": []
  },
  {
   "cell_type": "markdown",
   "id": "3d960f2f-601a-462d-8b71-ca2a548ce8f7",
   "metadata": {},
   "source": [
    "* #### Extraer conclusiones del modelo de regresión simple."
   ]
  },
  {
   "cell_type": "markdown",
   "id": "8a335478-42dd-4290-bf4f-19a75a20c726",
   "metadata": {},
   "source": [
    "* Modelo 1 Historical_Cost_of_Ride ~ Number_of_Past_Rides\n",
    "    * R-cuadrado: El valor de $𝑅^{2}=0.001$ \n",
    "  indica que el modelo explica solo el 0.1% de la variabilidad en el costo histórico del viaje (Historical_Cost_of_Ride). El modelo tiene un ajuste muy pobre.\n",
    "    * F-Statistic y Prob (F-statistic):\n",
    "      El estadístico F de 1.285 con un valor p de 0.257 indica que el modelo en general no es significativo. Esto significa que no hay evidencia suficiente para afirmar que la variable Number_of_Past_Rides tiene una relación significativa con el costo histórico del viaje.\n",
    "    * Intercepto: El coeficiente del intercepto es 361.05, lo que significa que, si el número de viajes pasados es cero, el costo histórico del viaje sería, en promedio, 361.05 unidades monetarias. Aunque este valor es significativo (p < 0.001), su relevancia práctica puede ser cuestionable, ya que un cliente que no ha realizado ningún viaje es poco probable.\n",
    "    * Coeficiente de Number_of_Past_Rides: El coeficiente es 0.229, indica que por cada viaje pasado adicional, el costo del viaje aumenta en promedio 0.229 unidades monetarias. Sin embargo, dado que el valor p es 0.257, este coeficiente no es estadísticamente significativo, lo que indica que no hay una relación concluyente entre el número de viajes pasados y el costo histórico del viaje.\n",
    "    * El modelo presenta un ajuste muy deficiente, explicando casi nada de la variabilidad en el costo de los viajes. La variable Number_of_Past_Rides no es un buen predictor del costo histórico del viaje en este caso. No hay relación clara entre el número de viajes pasados y el costo del viaje.\n",
    "\n",
    "\n",
    "* Modelo 2 Historical_Cost_of_Ride ~ Expected_Ride_Duration\n",
    "\n",
    "    * R-cuadrado: El valor de $𝑅^{2}=0.860$. Indica que el modelo explica el 86% de la variabilidad en la variable dependiente, que es el costo histórico del viaje (Historical_Cost_of_Ride). Es un ajuste muy bueno del modelo.\n",
    "    * F-Statistic y Prob (F-statistic): El estadístico F de 6148 y la probabilidad asociada de 0.00 indican que el modelo es altamente significativo. Esto significa que la variable independiente Expected_Ride_Duration tiene una relación significativa con la variable dependiente Historical_Cost_of_Ride.\n",
    "    * Intercepto: El coeficiente del intercepto es 20.87, significa que si la duración esperada del viaje (Expected_Ride_Duration) fuera cero, el costo histórico del viaje sería, en promedio, 20.87 unidades monetarias. Aunque este valor tiene sentido matemáticamente, en la práctica, un viaje de duración cero podría no tener relevancia.\n",
    "    * Coeficiente de Expected_Ride_Duration: El coeficiente es 3.53, significa que por cada unidad de aumento en la duración esperada del viaje, el costo del viaje aumenta en promedio 3.53 unidades monetarias. Esto es estadísticamente significativo, dado que el valor p asociado a este coeficiente es 0.000, indicando que la relación es altamente significativa.\n",
    "    * El modelo tiene un buen ajuste, explicando un alto porcentaje de la variabilidad en el costo del viaje. Además, la relación entre la duración esperada del viaje y el costo es fuerte y significativa."
   ]
  },
  {
   "cell_type": "markdown",
   "id": "8df0eacf-cce3-477c-9359-f9070d0b7699",
   "metadata": {},
   "source": []
  },
  {
   "cell_type": "markdown",
   "id": "422c1a3e-4675-4124-ac47-b6ae3bd580c5",
   "metadata": {
    "jp-MarkdownHeadingCollapsed": true
   },
   "source": [
    "### Regresión Lineal Múltiple.\n",
    "\n",
    "Implementar un modelo de regresión múltiple teniendo como variable de respuesta el costo histórico del viaje y como variables independientes el número de pasajeros, número de conductores, número de viajes pasados y duración el viaje esperado, siga las siguientes actividades"
   ]
  },
  {
   "cell_type": "code",
   "execution_count": 51,
   "id": "12101224-87c0-4324-9fba-b0eca8c6868a",
   "metadata": {
    "scrolled": true
   },
   "outputs": [
    {
     "name": "stdout",
     "output_type": "stream",
     "text": [
      "<class 'pandas.core.frame.DataFrame'>\n",
      "RangeIndex: 1000 entries, 0 to 999\n",
      "Data columns (total 10 columns):\n",
      " #   Column                   Non-Null Count  Dtype  \n",
      "---  ------                   --------------  -----  \n",
      " 0   Number_of_Riders         1000 non-null   int64  \n",
      " 1   Number_of_Drivers        1000 non-null   int64  \n",
      " 2   Location_Category        1000 non-null   object \n",
      " 3   Customer_Loyalty_Status  1000 non-null   object \n",
      " 4   Number_of_Past_Rides     1000 non-null   int64  \n",
      " 5   Average_Ratings          1000 non-null   float64\n",
      " 6   Time_of_Booking          1000 non-null   object \n",
      " 7   Vehicle_Type             1000 non-null   object \n",
      " 8   Expected_Ride_Duration   1000 non-null   int64  \n",
      " 9   Historical_Cost_of_Ride  1000 non-null   float64\n",
      "dtypes: float64(2), int64(4), object(4)\n",
      "memory usage: 78.2+ KB\n"
     ]
    }
   ],
   "source": [
    "datos.info()"
   ]
  },
  {
   "cell_type": "markdown",
   "id": "102f91cc-1406-44f3-b4f8-767afa6d1683",
   "metadata": {},
   "source": [
    "##### Generar el modelo de regresión lineal múltiple"
   ]
  },
  {
   "cell_type": "code",
   "execution_count": 53,
   "id": "46584e52-5bcd-43f9-a882-ac5ef0d6e1da",
   "metadata": {},
   "outputs": [],
   "source": [
    "rlm = smf.ols(formula='Historical_Cost_of_Ride ~ Number_of_Riders + Number_of_Drivers + Number_of_Past_Rides + Expected_Ride_Duration',\n",
    "              data = datos).fit()"
   ]
  },
  {
   "cell_type": "code",
   "execution_count": 54,
   "id": "e23bc2b0-78e6-4236-86cd-d4abda753989",
   "metadata": {},
   "outputs": [
    {
     "data": {
      "text/html": [
       "<table class=\"simpletable\">\n",
       "<caption>OLS Regression Results</caption>\n",
       "<tr>\n",
       "  <th>Dep. Variable:</th>    <td>Historical_Cost_of_Ride</td> <th>  R-squared:         </th> <td>   0.862</td> \n",
       "</tr>\n",
       "<tr>\n",
       "  <th>Model:</th>                      <td>OLS</td>           <th>  Adj. R-squared:    </th> <td>   0.861</td> \n",
       "</tr>\n",
       "<tr>\n",
       "  <th>Method:</th>                <td>Least Squares</td>      <th>  F-statistic:       </th> <td>   1554.</td> \n",
       "</tr>\n",
       "<tr>\n",
       "  <th>Date:</th>                <td>Sat, 26 Oct 2024</td>     <th>  Prob (F-statistic):</th>  <td>  0.00</td>  \n",
       "</tr>\n",
       "<tr>\n",
       "  <th>Time:</th>                    <td>21:45:00</td>         <th>  Log-Likelihood:    </th> <td> -5660.2</td> \n",
       "</tr>\n",
       "<tr>\n",
       "  <th>No. Observations:</th>         <td>  1000</td>          <th>  AIC:               </th> <td>1.133e+04</td>\n",
       "</tr>\n",
       "<tr>\n",
       "  <th>Df Residuals:</th>             <td>   995</td>          <th>  BIC:               </th> <td>1.135e+04</td>\n",
       "</tr>\n",
       "<tr>\n",
       "  <th>Df Model:</th>                 <td>     4</td>          <th>                     </th>     <td> </td>    \n",
       "</tr>\n",
       "<tr>\n",
       "  <th>Covariance Type:</th>         <td>nonrobust</td>        <th>                     </th>     <td> </td>    \n",
       "</tr>\n",
       "</table>\n",
       "<table class=\"simpletable\">\n",
       "<tr>\n",
       "             <td></td>               <th>coef</th>     <th>std err</th>      <th>t</th>      <th>P>|t|</th>  <th>[0.025</th>    <th>0.975]</th>  \n",
       "</tr>\n",
       "<tr>\n",
       "  <th>Intercept</th>              <td>   10.4521</td> <td>    8.328</td> <td>    1.255</td> <td> 0.210</td> <td>   -5.890</td> <td>   26.794</td>\n",
       "</tr>\n",
       "<tr>\n",
       "  <th>Number_of_Riders</th>       <td>   -0.0573</td> <td>    0.119</td> <td>   -0.480</td> <td> 0.631</td> <td>   -0.292</td> <td>    0.177</td>\n",
       "</tr>\n",
       "<tr>\n",
       "  <th>Number_of_Drivers</th>      <td>    0.4325</td> <td>    0.148</td> <td>    2.913</td> <td> 0.004</td> <td>    0.141</td> <td>    0.724</td>\n",
       "</tr>\n",
       "<tr>\n",
       "  <th>Number_of_Past_Rides</th>   <td>    0.0373</td> <td>    0.075</td> <td>    0.496</td> <td> 0.620</td> <td>   -0.110</td> <td>    0.185</td>\n",
       "</tr>\n",
       "<tr>\n",
       "  <th>Expected_Ride_Duration</th> <td>    3.5339</td> <td>    0.045</td> <td>   78.761</td> <td> 0.000</td> <td>    3.446</td> <td>    3.622</td>\n",
       "</tr>\n",
       "</table>\n",
       "<table class=\"simpletable\">\n",
       "<tr>\n",
       "  <th>Omnibus:</th>       <td> 0.084</td> <th>  Durbin-Watson:     </th> <td>   1.951</td>\n",
       "</tr>\n",
       "<tr>\n",
       "  <th>Prob(Omnibus):</th> <td> 0.959</td> <th>  Jarque-Bera (JB):  </th> <td>   0.135</td>\n",
       "</tr>\n",
       "<tr>\n",
       "  <th>Skew:</th>          <td> 0.016</td> <th>  Prob(JB):          </th> <td>   0.935</td>\n",
       "</tr>\n",
       "<tr>\n",
       "  <th>Kurtosis:</th>      <td> 2.953</td> <th>  Cond. No.          </th> <td>    516.</td>\n",
       "</tr>\n",
       "</table><br/><br/>Notes:<br/>[1] Standard Errors assume that the covariance matrix of the errors is correctly specified."
      ],
      "text/latex": [
       "\\begin{center}\n",
       "\\begin{tabular}{lclc}\n",
       "\\toprule\n",
       "\\textbf{Dep. Variable:}           & Historical\\_Cost\\_of\\_Ride & \\textbf{  R-squared:         } &     0.862   \\\\\n",
       "\\textbf{Model:}                   &            OLS             & \\textbf{  Adj. R-squared:    } &     0.861   \\\\\n",
       "\\textbf{Method:}                  &       Least Squares        & \\textbf{  F-statistic:       } &     1554.   \\\\\n",
       "\\textbf{Date:}                    &      Sat, 26 Oct 2024      & \\textbf{  Prob (F-statistic):} &     0.00    \\\\\n",
       "\\textbf{Time:}                    &          21:45:00          & \\textbf{  Log-Likelihood:    } &   -5660.2   \\\\\n",
       "\\textbf{No. Observations:}        &             1000           & \\textbf{  AIC:               } & 1.133e+04   \\\\\n",
       "\\textbf{Df Residuals:}            &              995           & \\textbf{  BIC:               } & 1.135e+04   \\\\\n",
       "\\textbf{Df Model:}                &                4           & \\textbf{                     } &             \\\\\n",
       "\\textbf{Covariance Type:}         &         nonrobust          & \\textbf{                     } &             \\\\\n",
       "\\bottomrule\n",
       "\\end{tabular}\n",
       "\\begin{tabular}{lcccccc}\n",
       "                                  & \\textbf{coef} & \\textbf{std err} & \\textbf{t} & \\textbf{P$> |$t$|$} & \\textbf{[0.025} & \\textbf{0.975]}  \\\\\n",
       "\\midrule\n",
       "\\textbf{Intercept}                &      10.4521  &        8.328     &     1.255  &         0.210        &       -5.890    &       26.794     \\\\\n",
       "\\textbf{Number\\_of\\_Riders}       &      -0.0573  &        0.119     &    -0.480  &         0.631        &       -0.292    &        0.177     \\\\\n",
       "\\textbf{Number\\_of\\_Drivers}      &       0.4325  &        0.148     &     2.913  &         0.004        &        0.141    &        0.724     \\\\\n",
       "\\textbf{Number\\_of\\_Past\\_Rides}  &       0.0373  &        0.075     &     0.496  &         0.620        &       -0.110    &        0.185     \\\\\n",
       "\\textbf{Expected\\_Ride\\_Duration} &       3.5339  &        0.045     &    78.761  &         0.000        &        3.446    &        3.622     \\\\\n",
       "\\bottomrule\n",
       "\\end{tabular}\n",
       "\\begin{tabular}{lclc}\n",
       "\\textbf{Omnibus:}       &  0.084 & \\textbf{  Durbin-Watson:     } &    1.951  \\\\\n",
       "\\textbf{Prob(Omnibus):} &  0.959 & \\textbf{  Jarque-Bera (JB):  } &    0.135  \\\\\n",
       "\\textbf{Skew:}          &  0.016 & \\textbf{  Prob(JB):          } &    0.935  \\\\\n",
       "\\textbf{Kurtosis:}      &  2.953 & \\textbf{  Cond. No.          } &     516.  \\\\\n",
       "\\bottomrule\n",
       "\\end{tabular}\n",
       "%\\caption{OLS Regression Results}\n",
       "\\end{center}\n",
       "\n",
       "Notes: \\newline\n",
       " [1] Standard Errors assume that the covariance matrix of the errors is correctly specified."
      ],
      "text/plain": [
       "<class 'statsmodels.iolib.summary.Summary'>\n",
       "\"\"\"\n",
       "                               OLS Regression Results                              \n",
       "===================================================================================\n",
       "Dep. Variable:     Historical_Cost_of_Ride   R-squared:                       0.862\n",
       "Model:                                 OLS   Adj. R-squared:                  0.861\n",
       "Method:                      Least Squares   F-statistic:                     1554.\n",
       "Date:                     Sat, 26 Oct 2024   Prob (F-statistic):               0.00\n",
       "Time:                             21:45:00   Log-Likelihood:                -5660.2\n",
       "No. Observations:                     1000   AIC:                         1.133e+04\n",
       "Df Residuals:                          995   BIC:                         1.135e+04\n",
       "Df Model:                                4                                         \n",
       "Covariance Type:                 nonrobust                                         \n",
       "==========================================================================================\n",
       "                             coef    std err          t      P>|t|      [0.025      0.975]\n",
       "------------------------------------------------------------------------------------------\n",
       "Intercept                 10.4521      8.328      1.255      0.210      -5.890      26.794\n",
       "Number_of_Riders          -0.0573      0.119     -0.480      0.631      -0.292       0.177\n",
       "Number_of_Drivers          0.4325      0.148      2.913      0.004       0.141       0.724\n",
       "Number_of_Past_Rides       0.0373      0.075      0.496      0.620      -0.110       0.185\n",
       "Expected_Ride_Duration     3.5339      0.045     78.761      0.000       3.446       3.622\n",
       "==============================================================================\n",
       "Omnibus:                        0.084   Durbin-Watson:                   1.951\n",
       "Prob(Omnibus):                  0.959   Jarque-Bera (JB):                0.135\n",
       "Skew:                           0.016   Prob(JB):                        0.935\n",
       "Kurtosis:                       2.953   Cond. No.                         516.\n",
       "==============================================================================\n",
       "\n",
       "Notes:\n",
       "[1] Standard Errors assume that the covariance matrix of the errors is correctly specified.\n",
       "\"\"\""
      ]
     },
     "execution_count": 54,
     "metadata": {},
     "output_type": "execute_result"
    }
   ],
   "source": [
    "rlm.summary()"
   ]
  },
  {
   "cell_type": "markdown",
   "id": "a7a6dc09-aa53-4104-a632-e707349071fd",
   "metadata": {},
   "source": [
    "* #### Calcular la ecuación de regresión, interpretar los coeficientes betas."
   ]
  },
  {
   "cell_type": "markdown",
   "id": "4fb4234a-210d-4f58-b665-7e173b46c5a9",
   "metadata": {},
   "source": [
    "intercepto = $\\alpha$  \n",
    "Number_of_Rides = $x_0$ ; $\\beta_{0}$  \n",
    "Number_of_Drivers = $x_1$ ; $\\beta_{1}$  \n",
    "Number_of_Past_Rides  = $x_2$ ; $\\beta_{2}$  \n",
    "Expected_Ride_Duration = $x_3$ ; $\\beta_{3}$  \n",
    "\n",
    "La ecuación de regresión para el modelo es la siguiente:  \n",
    "$$y = \\alpha + \\beta_{0}x_0 + \\beta_{1}x_1 + \\beta_{2}x_2 + \\beta_{3}x_3$$\n",
    "\n",
    "De acuerdo con los valores entregados por el modelo, la ecuación quedaría de la siguiente manera:  \n",
    "$$y = 10.4521 -0.0573x_0 + 0.4325x_1 + 0.0373x_2 + 3.5339x_3$$\n",
    "\n",
    "* Interpretación de coeficientes\n",
    "    - $\\alpha$: cuando todas las variables independientes tienen un valor de cero, el costo del viaje tendrá un valor de 10.4521 unidades monetarias\n",
    "    - $\\beta_{0}$: por cada unidad que varíe ***Number_of_Rides***, el valor del costo del viaje varía -0.0573 unidades monetarias\n",
    "    - $\\beta_{1}$: por cada unidad que varíe ***Number_of_Drivers***, el valor del costo del viaje varía 0.4325 unidades monetarias\n",
    "    - $\\beta_{2}$: por cada unidad que varíe ***Number_of_Past_Rides***, el valor del costo del viaje varía 0.0373 unidades monetarias\n",
    "    - $\\beta_{3}$: por cada unidad que varíe ***Expected_Ride_Duration***, el valor del costo del viaje varía 3.5339 unidades monetarias\n"
   ]
  },
  {
   "cell_type": "markdown",
   "id": "26fd478b-d4de-49f9-aee4-dc013562b9a4",
   "metadata": {},
   "source": []
  },
  {
   "cell_type": "markdown",
   "id": "87a296ff-5169-44de-9bf0-d84290c4c850",
   "metadata": {},
   "source": [
    "* #### Del resumen del modelo, indicar las variables significativas de acuerdo con el P-value."
   ]
  },
  {
   "cell_type": "code",
   "execution_count": 59,
   "id": "ed7155d4-c909-4142-8db4-c541018b74ea",
   "metadata": {},
   "outputs": [
    {
     "data": {
      "text/plain": [
       "Intercept                 0.209729\n",
       "Number_of_Riders          0.631353\n",
       "Number_of_Drivers         0.003658\n",
       "Number_of_Past_Rides      0.620354\n",
       "Expected_Ride_Duration    0.000000\n",
       "dtype: float64"
      ]
     },
     "execution_count": 59,
     "metadata": {},
     "output_type": "execute_result"
    }
   ],
   "source": [
    "p_values_rlm = rlm.pvalues\n",
    "p_values_rlm"
   ]
  },
  {
   "cell_type": "markdown",
   "id": "9d094a6b-3fa0-4497-8f60-28f57b312d3f",
   "metadata": {},
   "source": [
    "Los p-valores ayudan a determinar la significancia estadística de cada variable en el modelo.\n",
    "\n",
    "De acuerdo con la información que suministra el resumen del modelo, las variables significativas de acuerdo al p-valor son Number_of_Drivers con un p-valor de 0.003658 y Expected_Ride_Duration con un p-valor de 0.000000,, esto es porque el nivel de significancia que maneja el modelo es de 0.05 y el p-valor es inferior a este número.\n",
    "\n",
    "Las variables significativas (Number_of_Drivers y Expected_Ride_Duration) son aquellas que aportan información valiosa para explicar la variabilidad en la variable dependiente en el modelo."
   ]
  },
  {
   "cell_type": "markdown",
   "id": "3e85f3e2-ac0f-4221-9392-edb1bc0708a5",
   "metadata": {},
   "source": []
  },
  {
   "cell_type": "markdown",
   "id": "062e9c75-0dc0-42c3-8b7d-863234ffdb27",
   "metadata": {},
   "source": [
    "* #### Hacer la evaluación de modelo, con cada uno de sus componentes: RSE, RSEM, R-cuadrado, R-cuadrado ajustado."
   ]
  },
  {
   "cell_type": "markdown",
   "id": "5b2357df-ffe0-4a7a-b6b6-b7c583a0f5ca",
   "metadata": {},
   "source": [
    "##### Obtener $ŷ_i$: valores predichos"
   ]
  },
  {
   "cell_type": "code",
   "execution_count": 64,
   "id": "c4944789-285c-4cf5-a610-de3f3be8d9b7",
   "metadata": {},
   "outputs": [
    {
     "data": {
      "text/plain": [
       "0      343.293163\n",
       "1      178.640336\n",
       "2      290.028861\n",
       "3      493.502876\n",
       "4      544.807390\n",
       "          ...    \n",
       "995     58.277421\n",
       "996    353.799338\n",
       "997    154.865915\n",
       "998    226.968564\n",
       "999    553.234848\n",
       "Length: 1000, dtype: float64"
      ]
     },
     "execution_count": 64,
     "metadata": {},
     "output_type": "execute_result"
    }
   ],
   "source": [
    "# Primero hacer una predicción con el modelo\n",
    "y_pred_rlm = rlm.predict(datos[['Number_of_Riders','Number_of_Drivers','Number_of_Past_Rides','Expected_Ride_Duration']])\n",
    "y_pred_rlm"
   ]
  },
  {
   "cell_type": "markdown",
   "id": "78e7e2c3-1750-49d2-b8ce-515aa7838bc0",
   "metadata": {},
   "source": [
    "##### Calcular *MSE*\n",
    "\n",
    "MSE (Mean Squared Error): Es el promedio de los errores al cuadrado entre los valores observados y los valores predichos. \n",
    "\n",
    "$MSE = \\frac{1}{n} \\sum (y_i - ŷ_i)^2$"
   ]
  },
  {
   "cell_type": "code",
   "execution_count": 66,
   "id": "e67e4946-adb5-449e-91dd-d8fc56eb9429",
   "metadata": {},
   "outputs": [
    {
     "data": {
      "text/plain": [
       "4829.475748338188"
      ]
     },
     "execution_count": 66,
     "metadata": {},
     "output_type": "execute_result"
    }
   ],
   "source": [
    "# Calcular el MSE (Error Cuadrático Medio)\n",
    "mse = np.mean((datos['Historical_Cost_of_Ride'] - y_pred_rlm) ** 2)\n",
    "mse"
   ]
  },
  {
   "cell_type": "markdown",
   "id": "a6ad21bd-be4a-4e6f-b946-a78e9eaeba56",
   "metadata": {},
   "source": [
    "##### Calcular *RSEM*\n",
    "\n",
    "RSEM (Root Mean Squared Error): Es la raíz del error cuadrático medio, y mide lo bien que el modelo predice los datos de validación (si se tiene). Se calcula de manera similar al RSE, pero normalmente se utiliza sobre datos de validación.\n",
    "\n",
    "El RSEM o RMSE (Raíz del Error Cuadrático Medio) es una medida de la precisión del modelo que se utiliza generalmente para evaluar la calidad de las predicciones. No se ajusta por los grados de libertad.\n",
    "\n",
    "$RSE = \\sqrt{\\frac{1}{n} \\sum_{i=1}^{n} (y_i - ŷ_i)^2}$"
   ]
  },
  {
   "cell_type": "code",
   "execution_count": 68,
   "id": "0408f634-1a13-4960-b288-f864992ddd89",
   "metadata": {},
   "outputs": [
    {
     "data": {
      "text/plain": [
       "69.49442962092853"
      ]
     },
     "execution_count": 68,
     "metadata": {},
     "output_type": "execute_result"
    }
   ],
   "source": [
    "# Calcular el RSEM (Raíz del Error Cuadrático Medio)\n",
    "rsem = np.sqrt(mse)\n",
    "rsem"
   ]
  },
  {
   "cell_type": "markdown",
   "id": "17936914-3f2f-4102-a8ef-b6514f69727f",
   "metadata": {},
   "source": [
    "##### Calcular *RSE*\n",
    "\n",
    "RSE (Residual Standard Error): Es el error estándar residual. Mide la variabilidad de los datos que el modelo no logra explicar.\n",
    "El RSE es una medida del ajuste de un modelo de regresión, que indica la desviación estándar de los residuos (diferencias entre los valores observados y los valores predichos).\n",
    "\n",
    "RSE ajusta por el número de predictores restando los grados de libertad (k-1) y es una mejor representación del error estándar residual cuando se tiene múltiples predictores en un modelo\n",
    "\n",
    "$RSE = \\sqrt{\\frac{1}{n-k-1} \\sum_{i=1}^{n} (y_i - ŷ_i)^2}$"
   ]
  },
  {
   "cell_type": "code",
   "execution_count": 70,
   "id": "a0035dc7-876a-4632-9dce-87adee6a2d8d",
   "metadata": {},
   "outputs": [],
   "source": [
    "var_mod = datos[['Number_of_Riders','Number_of_Drivers','Number_of_Past_Rides','Expected_Ride_Duration']]\n",
    "n = len(y_pred_rlm) # Número de observaciones\n",
    "k = var_mod.shape[1] # Número de variabls predictoras"
   ]
  },
  {
   "cell_type": "code",
   "execution_count": 71,
   "id": "879bc348-50f5-4fda-9106-77ff8bb4dcd8",
   "metadata": {},
   "outputs": [
    {
     "data": {
      "text/plain": [
       "69.66881993181488"
      ]
     },
     "execution_count": 71,
     "metadata": {},
     "output_type": "execute_result"
    }
   ],
   "source": [
    "rse = np.sqrt(np.sum((datos['Historical_Cost_of_Ride'] - y_pred_rlm)**2) / (n-k-1))\n",
    "rse"
   ]
  },
  {
   "cell_type": "markdown",
   "id": "bf1523e8-f438-44f5-9a26-82140210c8c4",
   "metadata": {},
   "source": [
    "#### Usando los parámetros que retorna la función ols()\n",
    "\n",
    ".scale ajusta por el número de predictores restando los grados de libertad"
   ]
  },
  {
   "cell_type": "code",
   "execution_count": 73,
   "id": "28e61d36-5664-450a-80db-5d84cdfee015",
   "metadata": {},
   "outputs": [
    {
     "data": {
      "text/plain": [
       "4853.744470691645"
      ]
     },
     "execution_count": 73,
     "metadata": {},
     "output_type": "execute_result"
    }
   ],
   "source": [
    "#Equivalente\n",
    "#sum((datos['Historical_Cost_of_Ride'] - y_pred_rlm) ** 2)/(n-k-1)\n",
    "MSE = rlm.scale\n",
    "MSE"
   ]
  },
  {
   "cell_type": "code",
   "execution_count": 74,
   "id": "3dcef29f-f2fe-4d79-8073-ecb5c023d012",
   "metadata": {},
   "outputs": [
    {
     "data": {
      "text/plain": [
       "69.66881993181487"
      ]
     },
     "execution_count": 74,
     "metadata": {},
     "output_type": "execute_result"
    }
   ],
   "source": [
    "RSEM = np.sqrt(MSE)\n",
    "RSEM"
   ]
  },
  {
   "cell_type": "markdown",
   "id": "1718f46c-446f-4244-9aa7-38f4af31b6c9",
   "metadata": {},
   "source": [
    "#### $R^2$\n",
    "\n",
    "R-cuadrado (R²): Indica qué porcentaje de la variación en la variable dependiente es explicada por las variables independientes. Va de 0 a 1, donde 1 significa que el modelo explica toda la variabilidad:\n",
    "\n",
    "$R^2 = 1 - \\frac{\\sum(y_i - ŷ_i)^2}{\\sum(y_i - ȳ_i)^2}$\n",
    "\n",
    "$R^2 = 1 - \\frac{SSR}{SST}$\n"
   ]
  },
  {
   "cell_type": "markdown",
   "id": "aebb9a45-5de3-4afb-9b63-76565ce27a9b",
   "metadata": {},
   "source": [
    "##### Calcular la media de los valores observados"
   ]
  },
  {
   "cell_type": "code",
   "execution_count": 77,
   "id": "3c31ac8f-c518-4ceb-9f0a-0ddff319f785",
   "metadata": {},
   "outputs": [],
   "source": [
    "y_mean = np.mean(datos['Historical_Cost_of_Ride'])"
   ]
  },
  {
   "cell_type": "markdown",
   "id": "37b04fb4-e1ac-42b8-ab9e-b2f0a3ef3651",
   "metadata": {},
   "source": [
    "##### Calcular SST\n",
    "\n",
    "SST (Suma Total de los Cuadrados): Es la suma de las diferencias al cuadrado entre los valores observados y la media de los valores observados.\n",
    "\n",
    "$SST = \\sum_{i=1}^{n}(y_i - ȳ_i)^2$"
   ]
  },
  {
   "cell_type": "code",
   "execution_count": 79,
   "id": "9322aeb4-707c-4f7a-8089-d59b6bdf38bb",
   "metadata": {},
   "outputs": [
    {
     "data": {
      "text/plain": [
       "34993371.62985484"
      ]
     },
     "execution_count": 79,
     "metadata": {},
     "output_type": "execute_result"
    }
   ],
   "source": [
    "SST = np.sum((datos['Historical_Cost_of_Ride'] - y_mean)**2)\n",
    "SST"
   ]
  },
  {
   "cell_type": "markdown",
   "id": "2f5e9b99-56c3-4b82-bde5-be0c5125cb81",
   "metadata": {},
   "source": [
    "##### Calcular SSR\n",
    "\n",
    "SSR (Suma de los Cuadrados de los Residuos): Es la suma de las diferencias al cuadrado entre los valores observados y los valores predichos por el modelo.\n",
    "\n",
    "$SSR = \\sum_{i=1}^{n}(y_i - ŷ_i)^2$"
   ]
  },
  {
   "cell_type": "code",
   "execution_count": 81,
   "id": "82b826da-dd9d-4262-8e46-a56b9b93a05e",
   "metadata": {},
   "outputs": [
    {
     "data": {
      "text/plain": [
       "4829475.748338188"
      ]
     },
     "execution_count": 81,
     "metadata": {},
     "output_type": "execute_result"
    }
   ],
   "source": [
    "SSR = np.sum((datos['Historical_Cost_of_Ride'] - y_pred_rlm)**2)\n",
    "SSR"
   ]
  },
  {
   "cell_type": "markdown",
   "id": "d25833f1-5a87-4bec-b5d9-c952fc217cff",
   "metadata": {},
   "source": [
    "##### Calcular $R^2$"
   ]
  },
  {
   "cell_type": "code",
   "execution_count": 83,
   "id": "2d623992-449c-4192-94df-e9c0acd58fd8",
   "metadata": {},
   "outputs": [
    {
     "data": {
      "text/plain": [
       "0.8619888417891722"
      ]
     },
     "execution_count": 83,
     "metadata": {},
     "output_type": "execute_result"
    }
   ],
   "source": [
    "R2 = 1 - (SSR/SST)\n",
    "R2"
   ]
  },
  {
   "cell_type": "markdown",
   "id": "9b2d14c7-25bc-4c4c-95ce-3048e152cfe5",
   "metadata": {},
   "source": [
    "##### Usando los parámetros que retorna la función ols(), para obtener $R^2$"
   ]
  },
  {
   "cell_type": "code",
   "execution_count": 85,
   "id": "e26c81eb-8bdb-4726-bcc7-cbd2b6d77889",
   "metadata": {},
   "outputs": [
    {
     "data": {
      "text/plain": [
       "0.8619888417891723"
      ]
     },
     "execution_count": 85,
     "metadata": {},
     "output_type": "execute_result"
    }
   ],
   "source": [
    "rlm.rsquared"
   ]
  },
  {
   "cell_type": "markdown",
   "id": "e341b07c-a6fc-41a2-88b3-faf49e27f0b2",
   "metadata": {},
   "source": [
    "#### $R^2_{ajustado}$\n",
    "R-cuadrado ajustado (Adjusted R²): Es similar al R², pero ajusta el valor en función del número de predictores. Penaliza el aumento de predictores irrelevantes que no mejoran el modelo.\n",
    "\n",
    "$R^2_{ajustado}=1-(\\frac{(1-R^2)(n-1)}{n-k-1})$"
   ]
  },
  {
   "cell_type": "code",
   "execution_count": 87,
   "id": "3c894d9e-5eac-49f2-b869-ccdb18471325",
   "metadata": {},
   "outputs": [
    {
     "data": {
      "text/plain": [
       "0.8614340230626966"
      ]
     },
     "execution_count": 87,
     "metadata": {},
     "output_type": "execute_result"
    }
   ],
   "source": [
    "R2_adjs = 1-(((1-R2)*(n-1))/(n-k-1))\n",
    "R2_adjs"
   ]
  },
  {
   "cell_type": "markdown",
   "id": "9e4ea4d7-09fa-4e45-afed-2fd6fa5a2db5",
   "metadata": {},
   "source": [
    "##### Usando los parámetros que retorna la función ols(), para obtener $R^2_{ajustado}$"
   ]
  },
  {
   "cell_type": "code",
   "execution_count": 89,
   "id": "d1fc91aa-9d70-4965-b74d-93c7564f8a10",
   "metadata": {},
   "outputs": [
    {
     "data": {
      "text/plain": [
       "0.8614340230626967"
      ]
     },
     "execution_count": 89,
     "metadata": {},
     "output_type": "execute_result"
    }
   ],
   "source": [
    "rlm.rsquared_adj"
   ]
  },
  {
   "cell_type": "markdown",
   "id": "9a8f9e63-bb10-4db7-a0db-6f8131857485",
   "metadata": {},
   "source": []
  },
  {
   "cell_type": "markdown",
   "id": "920547d8-3056-46ea-a048-9b80687b5519",
   "metadata": {},
   "source": [
    "* #### Extraer conclusiones del modelo de regresión múltiple."
   ]
  },
  {
   "cell_type": "markdown",
   "id": "ebfa8d93-a88f-4d50-8551-637063ddcdf0",
   "metadata": {},
   "source": [
    "* Para la evaluación general del modelo se utiliza $R^2$ \n",
    "    * El R² indica qué proporción de la variabilidad total de la variable dependiente es explicada por las variables predictoras. Un valor alto de R² (cercano a 1) indica que el modelo explica bien la variabilidad de los datos.\n",
    "    * El R² ajustado es similar, pero ajusta el valor según el número de variables predictoras para evitar el sobreajuste. Si el R² ajustado es significativamente menor que el R², puede indicar que algunas variables no son relevantes.\n",
    "    *  El modelo tiene un R² de 0.8619, lo que indica que el 86.14% de la variabilidad en la variable dependiente está explicada por las variables predictoras. El R² ajustado es similar (0.8614), lo que sugiere que no hay sobreajuste significativo.\n",
    "* Significancia Estadística de las Variables se determina con el p-value\n",
    "    * Los p-valores en la tabla de coeficientes indican si cada variable predictora tiene un efecto significativo en la variable dependiente. Un p-valor inferior a 0.05 indica que la variable es estadísticamente significativa al 95% de confianza.\n",
    "    * Si una variable tiene un p-valor alto (mayor que 0.05), se podría concluir que no tiene un impacto significativo en la variable dependiente y podría eliminarse del modelo.\n",
    "    * La variable Expected_Ride_Duration es altamente significativa (p < 0.001) y tiene un impacto muy grande en la variable dependiente, con un coeficiente de 3.53, lo que significa que un aumento en la duración del viaje incrementa fuertemente el valor predicho.\n",
    "    * Number_of_Riders y Number_of_Past_Rides no son estadísticamente significativas (p > 0.05), por lo que podrían eliminarse del modelo.\n",
    "* Errores estándar y confianza\n",
    "    * Errores estándar y intervalos de confianza:\n",
    "Los errores estándar asociados a cada coeficiente indican la precisión de la estimación. Valores bajos implican estimaciones más precisas.\n",
    "    * Los intervalos de confianza (IC) muestran un rango dentro del cual se espera que esté el valor real del coeficiente con cierto nivel de confianza (por ejemplo, 95%).\n",
    "* Diagnóstico de los residuos\n",
    "    * RSE (Error Estándar Residual):\n",
    "El RSE mide la variación en los datos que no es explicada por el modelo. Valores bajos indican que los residuos son pequeños y, por lo tanto, el modelo ajusta bien los datos.\n",
    "    * Un RSE bajo indica un buen ajuste, mientras que un RSE alto indica que el modelo no explica bien las variaciones en la variable dependiente.\n",
    "    * El RSE de 69.67 indica que, en promedio, el modelo predice los valores del costo del viaje con un error de aproximadamente 69.67 unidades."
   ]
  },
  {
   "cell_type": "markdown",
   "id": "cebbfcfd-6038-4270-88bc-2c3e2d03a2ca",
   "metadata": {},
   "source": []
  },
  {
   "cell_type": "markdown",
   "id": "8413f19d-2aab-46f4-9aad-d07a592d2aee",
   "metadata": {},
   "source": [
    "## Regresión logística.\n",
    "\n",
    "Implementar un modelo de regresión logística con datos de entrenamiento del 70%, que obtenga la probabilidad de ser un servicio regular o excelente con el promedio de calificación (diseñar una variable dummy donde cero – servicio regular por debajo de 4 y los demás son 1 – excelente servicio), teniendo en cuenta las variables ubicación, estado de lealtad del cliente, hora de reserva y tipo de vehículo."
   ]
  },
  {
   "cell_type": "markdown",
   "id": "c20305e9-0384-4cdd-8c8d-2c380cbb50c4",
   "metadata": {},
   "source": [
    "#### Definir las variables independientes que se van a trabajar en el modelo"
   ]
  },
  {
   "cell_type": "code",
   "execution_count": 96,
   "id": "5d2bbca1-3c2b-4ec5-9838-e0f57eb15d23",
   "metadata": {},
   "outputs": [],
   "source": [
    "# Establecer las variables independientes\n",
    "X_features = datos[['Location_Category','Customer_Loyalty_Status','Time_of_Booking','Vehicle_Type']]"
   ]
  },
  {
   "cell_type": "markdown",
   "id": "90bbcc1e-f213-41b8-8c80-66adc4a1b584",
   "metadata": {},
   "source": [
    "#### diseñar una variable dummy donde cero – servicio regular por debajo de 4 y los demás son 1 – excelente servicio"
   ]
  },
  {
   "cell_type": "code",
   "execution_count": 98,
   "id": "22a7ccb2-2113-4978-a46a-c814c919b4e4",
   "metadata": {},
   "outputs": [],
   "source": [
    "datos['Service_Ratings'] = datos['Average_Ratings'].apply(lambda x: 0 if x <= 4 else 1)"
   ]
  },
  {
   "cell_type": "markdown",
   "id": "37123786-6f7b-45e4-9d24-d82300054c5f",
   "metadata": {},
   "source": [
    "#### Convertir las variables independientes a dummies, ya que son categóricas"
   ]
  },
  {
   "cell_type": "code",
   "execution_count": 100,
   "id": "01236a1a-d47a-44a3-a308-ef1525df8e45",
   "metadata": {},
   "outputs": [],
   "source": [
    "from sklearn.preprocessing import OneHotEncoder"
   ]
  },
  {
   "cell_type": "code",
   "execution_count": 101,
   "id": "a71aedf9-c0fb-483c-b878-c35cee5b2d94",
   "metadata": {},
   "outputs": [],
   "source": [
    "# Convertir variables categóricas a numéricas usando OneHotEncoder\n",
    "encoder = OneHotEncoder(drop='first', sparse_output=False) # elimina la primer variable dummy de cada una de las generadas y mantener los ceros\n",
    "X_encoded = encoder.fit_transform(X_features)"
   ]
  },
  {
   "cell_type": "code",
   "execution_count": 102,
   "id": "2b93d4c4-01d5-44ad-80c9-e94db7e371a5",
   "metadata": {},
   "outputs": [],
   "source": [
    "# Obtener los nombres de las nuevas columnas después de la codificación\n",
    "column_names = encoder.get_feature_names_out(X_features.columns)"
   ]
  },
  {
   "cell_type": "code",
   "execution_count": 103,
   "id": "1136e93e-66e5-4ae5-8ab6-bcfb990f3418",
   "metadata": {},
   "outputs": [],
   "source": [
    "# Convertir el resultado a un DataFrame de pandas con nombres de columnas, ya que onehotencoder retorna un array (sin nombres de cols)\n",
    "X = pd.DataFrame(X_encoded, columns=column_names)"
   ]
  },
  {
   "cell_type": "code",
   "execution_count": 104,
   "id": "302945e8-b63b-4c25-8e13-24649a82cd3e",
   "metadata": {
    "scrolled": true
   },
   "outputs": [
    {
     "data": {
      "text/html": [
       "<div>\n",
       "<style scoped>\n",
       "    .dataframe tbody tr th:only-of-type {\n",
       "        vertical-align: middle;\n",
       "    }\n",
       "\n",
       "    .dataframe tbody tr th {\n",
       "        vertical-align: top;\n",
       "    }\n",
       "\n",
       "    .dataframe thead th {\n",
       "        text-align: right;\n",
       "    }\n",
       "</style>\n",
       "<table border=\"1\" class=\"dataframe\">\n",
       "  <thead>\n",
       "    <tr style=\"text-align: right;\">\n",
       "      <th></th>\n",
       "      <th>Location_Category_Suburban</th>\n",
       "      <th>Location_Category_Urban</th>\n",
       "      <th>Customer_Loyalty_Status_Regular</th>\n",
       "      <th>Customer_Loyalty_Status_Silver</th>\n",
       "      <th>Time_of_Booking_Evening</th>\n",
       "      <th>Time_of_Booking_Morning</th>\n",
       "      <th>Time_of_Booking_Night</th>\n",
       "      <th>Vehicle_Type_Premium</th>\n",
       "    </tr>\n",
       "  </thead>\n",
       "  <tbody>\n",
       "    <tr>\n",
       "      <th>0</th>\n",
       "      <td>0.0</td>\n",
       "      <td>1.0</td>\n",
       "      <td>0.0</td>\n",
       "      <td>1.0</td>\n",
       "      <td>0.0</td>\n",
       "      <td>0.0</td>\n",
       "      <td>1.0</td>\n",
       "      <td>1.0</td>\n",
       "    </tr>\n",
       "    <tr>\n",
       "      <th>1</th>\n",
       "      <td>1.0</td>\n",
       "      <td>0.0</td>\n",
       "      <td>0.0</td>\n",
       "      <td>1.0</td>\n",
       "      <td>1.0</td>\n",
       "      <td>0.0</td>\n",
       "      <td>0.0</td>\n",
       "      <td>0.0</td>\n",
       "    </tr>\n",
       "    <tr>\n",
       "      <th>2</th>\n",
       "      <td>0.0</td>\n",
       "      <td>0.0</td>\n",
       "      <td>0.0</td>\n",
       "      <td>1.0</td>\n",
       "      <td>0.0</td>\n",
       "      <td>0.0</td>\n",
       "      <td>0.0</td>\n",
       "      <td>1.0</td>\n",
       "    </tr>\n",
       "    <tr>\n",
       "      <th>3</th>\n",
       "      <td>0.0</td>\n",
       "      <td>0.0</td>\n",
       "      <td>1.0</td>\n",
       "      <td>0.0</td>\n",
       "      <td>0.0</td>\n",
       "      <td>0.0</td>\n",
       "      <td>0.0</td>\n",
       "      <td>1.0</td>\n",
       "    </tr>\n",
       "    <tr>\n",
       "      <th>4</th>\n",
       "      <td>0.0</td>\n",
       "      <td>0.0</td>\n",
       "      <td>1.0</td>\n",
       "      <td>0.0</td>\n",
       "      <td>0.0</td>\n",
       "      <td>0.0</td>\n",
       "      <td>0.0</td>\n",
       "      <td>0.0</td>\n",
       "    </tr>\n",
       "  </tbody>\n",
       "</table>\n",
       "</div>"
      ],
      "text/plain": [
       "   Location_Category_Suburban  Location_Category_Urban  \\\n",
       "0                         0.0                      1.0   \n",
       "1                         1.0                      0.0   \n",
       "2                         0.0                      0.0   \n",
       "3                         0.0                      0.0   \n",
       "4                         0.0                      0.0   \n",
       "\n",
       "   Customer_Loyalty_Status_Regular  Customer_Loyalty_Status_Silver  \\\n",
       "0                              0.0                             1.0   \n",
       "1                              0.0                             1.0   \n",
       "2                              0.0                             1.0   \n",
       "3                              1.0                             0.0   \n",
       "4                              1.0                             0.0   \n",
       "\n",
       "   Time_of_Booking_Evening  Time_of_Booking_Morning  Time_of_Booking_Night  \\\n",
       "0                      0.0                      0.0                    1.0   \n",
       "1                      1.0                      0.0                    0.0   \n",
       "2                      0.0                      0.0                    0.0   \n",
       "3                      0.0                      0.0                    0.0   \n",
       "4                      0.0                      0.0                    0.0   \n",
       "\n",
       "   Vehicle_Type_Premium  \n",
       "0                   1.0  \n",
       "1                   0.0  \n",
       "2                   1.0  \n",
       "3                   1.0  \n",
       "4                   0.0  "
      ]
     },
     "execution_count": 104,
     "metadata": {},
     "output_type": "execute_result"
    }
   ],
   "source": [
    "X.head()"
   ]
  },
  {
   "cell_type": "markdown",
   "id": "7ca4484b-a01b-4534-a6ca-73ad2b9d9094",
   "metadata": {},
   "source": [
    "#### Definir la variable dependiente Y para el modelo"
   ]
  },
  {
   "cell_type": "code",
   "execution_count": 106,
   "id": "ca2abb18-4f83-47c0-84f8-f658e94df590",
   "metadata": {},
   "outputs": [],
   "source": [
    "Y = datos['Service_Ratings']"
   ]
  },
  {
   "cell_type": "markdown",
   "id": "9aa27416-12c4-48fb-992b-0e565ca4265b",
   "metadata": {},
   "source": [
    "#### Dividir el conjunto de datos en entrenamiento y prueba"
   ]
  },
  {
   "cell_type": "code",
   "execution_count": 108,
   "id": "b84c935c-0d95-44bd-93ae-f9e4c731944e",
   "metadata": {},
   "outputs": [],
   "source": [
    "from sklearn.model_selection import train_test_split"
   ]
  },
  {
   "cell_type": "code",
   "execution_count": 109,
   "id": "72b9aea5-f3c4-42ab-b4bc-b848bd165412",
   "metadata": {},
   "outputs": [],
   "source": [
    "x_train, x_test, y_train, y_test = train_test_split(X, Y, test_size=0.3, random_state=000)"
   ]
  },
  {
   "cell_type": "code",
   "execution_count": 110,
   "id": "577d2112-3f74-46be-bcff-5385e88d8ba2",
   "metadata": {},
   "outputs": [
    {
     "data": {
      "text/html": [
       "<div>\n",
       "<style scoped>\n",
       "    .dataframe tbody tr th:only-of-type {\n",
       "        vertical-align: middle;\n",
       "    }\n",
       "\n",
       "    .dataframe tbody tr th {\n",
       "        vertical-align: top;\n",
       "    }\n",
       "\n",
       "    .dataframe thead th {\n",
       "        text-align: right;\n",
       "    }\n",
       "</style>\n",
       "<table border=\"1\" class=\"dataframe\">\n",
       "  <thead>\n",
       "    <tr style=\"text-align: right;\">\n",
       "      <th></th>\n",
       "      <th>Location_Category_Suburban</th>\n",
       "      <th>Location_Category_Urban</th>\n",
       "      <th>Customer_Loyalty_Status_Regular</th>\n",
       "      <th>Customer_Loyalty_Status_Silver</th>\n",
       "      <th>Time_of_Booking_Evening</th>\n",
       "      <th>Time_of_Booking_Morning</th>\n",
       "      <th>Time_of_Booking_Night</th>\n",
       "      <th>Vehicle_Type_Premium</th>\n",
       "    </tr>\n",
       "  </thead>\n",
       "  <tbody>\n",
       "    <tr>\n",
       "      <th>105</th>\n",
       "      <td>0.0</td>\n",
       "      <td>0.0</td>\n",
       "      <td>0.0</td>\n",
       "      <td>0.0</td>\n",
       "      <td>0.0</td>\n",
       "      <td>0.0</td>\n",
       "      <td>0.0</td>\n",
       "      <td>1.0</td>\n",
       "    </tr>\n",
       "    <tr>\n",
       "      <th>68</th>\n",
       "      <td>0.0</td>\n",
       "      <td>1.0</td>\n",
       "      <td>1.0</td>\n",
       "      <td>0.0</td>\n",
       "      <td>0.0</td>\n",
       "      <td>0.0</td>\n",
       "      <td>1.0</td>\n",
       "      <td>0.0</td>\n",
       "    </tr>\n",
       "    <tr>\n",
       "      <th>479</th>\n",
       "      <td>0.0</td>\n",
       "      <td>0.0</td>\n",
       "      <td>0.0</td>\n",
       "      <td>0.0</td>\n",
       "      <td>0.0</td>\n",
       "      <td>0.0</td>\n",
       "      <td>0.0</td>\n",
       "      <td>0.0</td>\n",
       "    </tr>\n",
       "    <tr>\n",
       "      <th>399</th>\n",
       "      <td>0.0</td>\n",
       "      <td>0.0</td>\n",
       "      <td>0.0</td>\n",
       "      <td>0.0</td>\n",
       "      <td>1.0</td>\n",
       "      <td>0.0</td>\n",
       "      <td>0.0</td>\n",
       "      <td>0.0</td>\n",
       "    </tr>\n",
       "    <tr>\n",
       "      <th>434</th>\n",
       "      <td>0.0</td>\n",
       "      <td>0.0</td>\n",
       "      <td>0.0</td>\n",
       "      <td>1.0</td>\n",
       "      <td>0.0</td>\n",
       "      <td>0.0</td>\n",
       "      <td>1.0</td>\n",
       "      <td>1.0</td>\n",
       "    </tr>\n",
       "  </tbody>\n",
       "</table>\n",
       "</div>"
      ],
      "text/plain": [
       "     Location_Category_Suburban  Location_Category_Urban  \\\n",
       "105                         0.0                      0.0   \n",
       "68                          0.0                      1.0   \n",
       "479                         0.0                      0.0   \n",
       "399                         0.0                      0.0   \n",
       "434                         0.0                      0.0   \n",
       "\n",
       "     Customer_Loyalty_Status_Regular  Customer_Loyalty_Status_Silver  \\\n",
       "105                              0.0                             0.0   \n",
       "68                               1.0                             0.0   \n",
       "479                              0.0                             0.0   \n",
       "399                              0.0                             0.0   \n",
       "434                              0.0                             1.0   \n",
       "\n",
       "     Time_of_Booking_Evening  Time_of_Booking_Morning  Time_of_Booking_Night  \\\n",
       "105                      0.0                      0.0                    0.0   \n",
       "68                       0.0                      0.0                    1.0   \n",
       "479                      0.0                      0.0                    0.0   \n",
       "399                      1.0                      0.0                    0.0   \n",
       "434                      0.0                      0.0                    1.0   \n",
       "\n",
       "     Vehicle_Type_Premium  \n",
       "105                   1.0  \n",
       "68                    0.0  \n",
       "479                   0.0  \n",
       "399                   0.0  \n",
       "434                   1.0  "
      ]
     },
     "execution_count": 110,
     "metadata": {},
     "output_type": "execute_result"
    }
   ],
   "source": [
    "x_train.head()"
   ]
  },
  {
   "cell_type": "markdown",
   "id": "c1d66efb-7a01-493a-8387-2aba89883cb6",
   "metadata": {},
   "source": [
    "#### Implementar el modelo de regresión logística usando statsmodel.api"
   ]
  },
  {
   "cell_type": "code",
   "execution_count": 112,
   "id": "4d0ef0c6-f1fe-40f0-b3bb-249b660fddf7",
   "metadata": {},
   "outputs": [],
   "source": [
    "import statsmodels.api as sm"
   ]
  },
  {
   "cell_type": "code",
   "execution_count": 113,
   "id": "e6f6650e-bea8-4f38-9476-bd66be35fbe2",
   "metadata": {},
   "outputs": [],
   "source": [
    "logit_model = sm.Logit(y_train, x_train)"
   ]
  },
  {
   "cell_type": "code",
   "execution_count": 114,
   "id": "cbd7bd5d-23df-41c7-b8d6-733b1acfc0c4",
   "metadata": {},
   "outputs": [
    {
     "name": "stdout",
     "output_type": "stream",
     "text": [
      "Optimization terminated successfully.\n",
      "         Current function value: 0.627063\n",
      "         Iterations 5\n"
     ]
    }
   ],
   "source": [
    "result = logit_model.fit()"
   ]
  },
  {
   "cell_type": "code",
   "execution_count": 115,
   "id": "74c04dcc-4526-429b-b3fb-9b71d5abf69e",
   "metadata": {},
   "outputs": [
    {
     "data": {
      "text/html": [
       "<table class=\"simpletable\">\n",
       "<caption>Logit Regression Results</caption>\n",
       "<tr>\n",
       "  <th>Dep. Variable:</th>    <td>Service_Ratings</td> <th>  No. Observations:  </th>   <td>   700</td>  \n",
       "</tr>\n",
       "<tr>\n",
       "  <th>Model:</th>                 <td>Logit</td>      <th>  Df Residuals:      </th>   <td>   692</td>  \n",
       "</tr>\n",
       "<tr>\n",
       "  <th>Method:</th>                 <td>MLE</td>       <th>  Df Model:          </th>   <td>     7</td>  \n",
       "</tr>\n",
       "<tr>\n",
       "  <th>Date:</th>            <td>Sat, 26 Oct 2024</td> <th>  Pseudo R-squ.:     </th> <td>-0.0003090</td>\n",
       "</tr>\n",
       "<tr>\n",
       "  <th>Time:</th>                <td>21:45:04</td>     <th>  Log-Likelihood:    </th>  <td> -438.94</td> \n",
       "</tr>\n",
       "<tr>\n",
       "  <th>converged:</th>             <td>True</td>       <th>  LL-Null:           </th>  <td> -438.81</td> \n",
       "</tr>\n",
       "<tr>\n",
       "  <th>Covariance Type:</th>     <td>nonrobust</td>    <th>  LLR p-value:       </th>   <td> 1.000</td>  \n",
       "</tr>\n",
       "</table>\n",
       "<table class=\"simpletable\">\n",
       "<tr>\n",
       "                 <td></td>                    <th>coef</th>     <th>std err</th>      <th>z</th>      <th>P>|z|</th>  <th>[0.025</th>    <th>0.975]</th>  \n",
       "</tr>\n",
       "<tr>\n",
       "  <th>Location_Category_Suburban</th>      <td>    0.3540</td> <td>    0.189</td> <td>    1.870</td> <td> 0.061</td> <td>   -0.017</td> <td>    0.725</td>\n",
       "</tr>\n",
       "<tr>\n",
       "  <th>Location_Category_Urban</th>         <td>    0.4689</td> <td>    0.179</td> <td>    2.618</td> <td> 0.009</td> <td>    0.118</td> <td>    0.820</td>\n",
       "</tr>\n",
       "<tr>\n",
       "  <th>Customer_Loyalty_Status_Regular</th> <td>    0.3798</td> <td>    0.186</td> <td>    2.040</td> <td> 0.041</td> <td>    0.015</td> <td>    0.745</td>\n",
       "</tr>\n",
       "<tr>\n",
       "  <th>Customer_Loyalty_Status_Silver</th>  <td>    0.4641</td> <td>    0.176</td> <td>    2.638</td> <td> 0.008</td> <td>    0.119</td> <td>    0.809</td>\n",
       "</tr>\n",
       "<tr>\n",
       "  <th>Time_of_Booking_Evening</th>         <td>   -0.2203</td> <td>    0.202</td> <td>   -1.090</td> <td> 0.276</td> <td>   -0.616</td> <td>    0.176</td>\n",
       "</tr>\n",
       "<tr>\n",
       "  <th>Time_of_Booking_Morning</th>         <td>    0.3743</td> <td>    0.207</td> <td>    1.808</td> <td> 0.071</td> <td>   -0.032</td> <td>    0.780</td>\n",
       "</tr>\n",
       "<tr>\n",
       "  <th>Time_of_Booking_Night</th>           <td>   -0.0178</td> <td>    0.190</td> <td>   -0.094</td> <td> 0.925</td> <td>   -0.389</td> <td>    0.354</td>\n",
       "</tr>\n",
       "<tr>\n",
       "  <th>Vehicle_Type_Premium</th>            <td>    0.1364</td> <td>    0.152</td> <td>    0.899</td> <td> 0.369</td> <td>   -0.161</td> <td>    0.434</td>\n",
       "</tr>\n",
       "</table>"
      ],
      "text/latex": [
       "\\begin{center}\n",
       "\\begin{tabular}{lclc}\n",
       "\\toprule\n",
       "\\textbf{Dep. Variable:}                     & Service\\_Ratings & \\textbf{  No. Observations:  } &      700    \\\\\n",
       "\\textbf{Model:}                             &      Logit       & \\textbf{  Df Residuals:      } &      692    \\\\\n",
       "\\textbf{Method:}                            &       MLE        & \\textbf{  Df Model:          } &        7    \\\\\n",
       "\\textbf{Date:}                              & Sat, 26 Oct 2024 & \\textbf{  Pseudo R-squ.:     } & -0.0003090  \\\\\n",
       "\\textbf{Time:}                              &     21:45:04     & \\textbf{  Log-Likelihood:    } &   -438.94   \\\\\n",
       "\\textbf{converged:}                         &       True       & \\textbf{  LL-Null:           } &   -438.81   \\\\\n",
       "\\textbf{Covariance Type:}                   &    nonrobust     & \\textbf{  LLR p-value:       } &    1.000    \\\\\n",
       "\\bottomrule\n",
       "\\end{tabular}\n",
       "\\begin{tabular}{lcccccc}\n",
       "                                            & \\textbf{coef} & \\textbf{std err} & \\textbf{z} & \\textbf{P$> |$z$|$} & \\textbf{[0.025} & \\textbf{0.975]}  \\\\\n",
       "\\midrule\n",
       "\\textbf{Location\\_Category\\_Suburban}       &       0.3540  &        0.189     &     1.870  &         0.061        &       -0.017    &        0.725     \\\\\n",
       "\\textbf{Location\\_Category\\_Urban}          &       0.4689  &        0.179     &     2.618  &         0.009        &        0.118    &        0.820     \\\\\n",
       "\\textbf{Customer\\_Loyalty\\_Status\\_Regular} &       0.3798  &        0.186     &     2.040  &         0.041        &        0.015    &        0.745     \\\\\n",
       "\\textbf{Customer\\_Loyalty\\_Status\\_Silver}  &       0.4641  &        0.176     &     2.638  &         0.008        &        0.119    &        0.809     \\\\\n",
       "\\textbf{Time\\_of\\_Booking\\_Evening}         &      -0.2203  &        0.202     &    -1.090  &         0.276        &       -0.616    &        0.176     \\\\\n",
       "\\textbf{Time\\_of\\_Booking\\_Morning}         &       0.3743  &        0.207     &     1.808  &         0.071        &       -0.032    &        0.780     \\\\\n",
       "\\textbf{Time\\_of\\_Booking\\_Night}           &      -0.0178  &        0.190     &    -0.094  &         0.925        &       -0.389    &        0.354     \\\\\n",
       "\\textbf{Vehicle\\_Type\\_Premium}             &       0.1364  &        0.152     &     0.899  &         0.369        &       -0.161    &        0.434     \\\\\n",
       "\\bottomrule\n",
       "\\end{tabular}\n",
       "%\\caption{Logit Regression Results}\n",
       "\\end{center}"
      ],
      "text/plain": [
       "<class 'statsmodels.iolib.summary.Summary'>\n",
       "\"\"\"\n",
       "                           Logit Regression Results                           \n",
       "==============================================================================\n",
       "Dep. Variable:        Service_Ratings   No. Observations:                  700\n",
       "Model:                          Logit   Df Residuals:                      692\n",
       "Method:                           MLE   Df Model:                            7\n",
       "Date:                Sat, 26 Oct 2024   Pseudo R-squ.:              -0.0003090\n",
       "Time:                        21:45:04   Log-Likelihood:                -438.94\n",
       "converged:                       True   LL-Null:                       -438.81\n",
       "Covariance Type:            nonrobust   LLR p-value:                     1.000\n",
       "===================================================================================================\n",
       "                                      coef    std err          z      P>|z|      [0.025      0.975]\n",
       "---------------------------------------------------------------------------------------------------\n",
       "Location_Category_Suburban          0.3540      0.189      1.870      0.061      -0.017       0.725\n",
       "Location_Category_Urban             0.4689      0.179      2.618      0.009       0.118       0.820\n",
       "Customer_Loyalty_Status_Regular     0.3798      0.186      2.040      0.041       0.015       0.745\n",
       "Customer_Loyalty_Status_Silver      0.4641      0.176      2.638      0.008       0.119       0.809\n",
       "Time_of_Booking_Evening            -0.2203      0.202     -1.090      0.276      -0.616       0.176\n",
       "Time_of_Booking_Morning             0.3743      0.207      1.808      0.071      -0.032       0.780\n",
       "Time_of_Booking_Night              -0.0178      0.190     -0.094      0.925      -0.389       0.354\n",
       "Vehicle_Type_Premium                0.1364      0.152      0.899      0.369      -0.161       0.434\n",
       "===================================================================================================\n",
       "\"\"\""
      ]
     },
     "execution_count": 115,
     "metadata": {},
     "output_type": "execute_result"
    }
   ],
   "source": [
    "result.summary()"
   ]
  },
  {
   "cell_type": "markdown",
   "id": "83ccab90-d239-45b0-8ab1-c7c7d96b7919",
   "metadata": {},
   "source": [
    "#### Interpretar los Odds Ratios en cada uno de los factores."
   ]
  },
  {
   "cell_type": "code",
   "execution_count": 117,
   "id": "bb9a11ff-f52e-4903-8245-1ad98691e854",
   "metadata": {},
   "outputs": [
    {
     "data": {
      "text/plain": [
       "Location_Category_Suburban         0.354019\n",
       "Location_Category_Urban            0.468921\n",
       "Customer_Loyalty_Status_Regular    0.379818\n",
       "Customer_Loyalty_Status_Silver     0.464109\n",
       "Time_of_Booking_Evening           -0.220282\n",
       "Time_of_Booking_Morning            0.374302\n",
       "Time_of_Booking_Night             -0.017796\n",
       "Vehicle_Type_Premium               0.136421\n",
       "dtype: float64"
      ]
     },
     "execution_count": 117,
     "metadata": {},
     "output_type": "execute_result"
    }
   ],
   "source": [
    "# Obtener los coeficientes (log-odds)\n",
    "log_odds = result.params\n",
    "log_odds"
   ]
  },
  {
   "cell_type": "code",
   "execution_count": 118,
   "id": "a5849a98-7ca9-40a7-a807-789ee4b52c43",
   "metadata": {},
   "outputs": [
    {
     "data": {
      "text/plain": [
       "Location_Category_Suburban         1.424782\n",
       "Location_Category_Urban            1.598268\n",
       "Customer_Loyalty_Status_Regular    1.462018\n",
       "Customer_Loyalty_Status_Silver     1.590596\n",
       "Time_of_Booking_Evening            0.802293\n",
       "Time_of_Booking_Morning            1.453976\n",
       "Time_of_Booking_Night              0.982362\n",
       "Vehicle_Type_Premium               1.146164\n",
       "dtype: float64"
      ]
     },
     "execution_count": 118,
     "metadata": {},
     "output_type": "execute_result"
    }
   ],
   "source": [
    "# Convertir a odds ratios\n",
    "odds_ratios = np.exp(log_odds)\n",
    "odds_ratios"
   ]
  },
  {
   "cell_type": "markdown",
   "id": "9bef9532-1b07-466c-8a5f-a1d744c8bdd5",
   "metadata": {},
   "source": [
    "#### Validar el modelo de regresión logística, usando el resumen del modelo e interpretando los p-values de cada variable independiente, interpretar cada resultado."
   ]
  },
  {
   "cell_type": "code",
   "execution_count": 120,
   "id": "86d3d684-d8f8-450a-8219-c59082ab3381",
   "metadata": {},
   "outputs": [
    {
     "data": {
      "text/plain": [
       "Location_Category_Suburban         0.061478\n",
       "Location_Category_Urban            0.008851\n",
       "Customer_Loyalty_Status_Regular    0.041328\n",
       "Customer_Loyalty_Status_Silver     0.008329\n",
       "Time_of_Booking_Evening            0.275830\n",
       "Time_of_Booking_Morning            0.070667\n",
       "Time_of_Booking_Night              0.925204\n",
       "Vehicle_Type_Premium               0.368658\n",
       "dtype: float64"
      ]
     },
     "execution_count": 120,
     "metadata": {},
     "output_type": "execute_result"
    }
   ],
   "source": [
    "result.pvalues"
   ]
  },
  {
   "cell_type": "code",
   "execution_count": 121,
   "id": "6e172532-8e00-408c-803a-b70ea4ee882b",
   "metadata": {},
   "outputs": [
    {
     "name": "stdout",
     "output_type": "stream",
     "text": [
      "                                     2.5%     97.5%  Odds Ratio  p-values\n",
      "Location_Category_Suburban       0.983120  2.064857    1.424782  0.061478\n",
      "Location_Category_Urban          1.125051  2.270528    1.598268  0.008851\n",
      "Customer_Loyalty_Status_Regular  1.015054  2.105796    1.462018  0.041328\n",
      "Customer_Loyalty_Status_Silver   1.126759  2.245375    1.590596  0.008329\n",
      "Time_of_Booking_Evening          0.539844  1.192332    0.802293  0.275830\n",
      "Time_of_Booking_Morning          0.968945  2.181803    1.453976  0.070667\n",
      "Time_of_Booking_Night            0.677518  1.424367    0.982362  0.925204\n",
      "Vehicle_Type_Premium             0.851291  1.543177    1.146164  0.368658\n"
     ]
    }
   ],
   "source": [
    "# Intervalos de confianza de los coeficientes (log-odds)\n",
    "conf = result.conf_int()\n",
    "\n",
    "# Añadimos los coeficientes al DataFrame de intervalos de confianza\n",
    "conf['Odds Ratio'] = odds_ratios\n",
    "\n",
    "# Añadimos los coeficientes al DataFrame de intervalos de confianza\n",
    "conf['p-value'] = result.pvalues\n",
    "\n",
    "# Exponenciamos los intervalos de confianza para obtenerlos en términos de odds ratios\n",
    "conf.columns = ['2.5%', '97.5%', 'Odds Ratio', 'p-values']\n",
    "conf['2.5%'] = np.exp(conf['2.5%'])\n",
    "conf['97.5%'] = np.exp(conf['97.5%'])\n",
    "\n",
    "# Mostramos los intervalos de confianza y odds ratios\n",
    "print(conf)"
   ]
  },
  {
   "cell_type": "code",
   "execution_count": null,
   "id": "674190b9-2679-4464-b4c6-270f01d47215",
   "metadata": {},
   "outputs": [],
   "source": []
  },
  {
   "cell_type": "markdown",
   "id": "a0ebc025-7dc7-49ec-b7de-c6ed2b7012a4",
   "metadata": {},
   "source": [
    "#### Diseñar la matriz de confusión y calcular las métricas de evaluación del modelo, con los datos de prueba o 30% de los datos no entrenados, interpretar los resultados."
   ]
  },
  {
   "cell_type": "markdown",
   "id": "4ba0d61b-9ca0-413c-bfe2-51d158a7aa91",
   "metadata": {},
   "source": [
    "* Predecir probabilidades con los datos de prueba"
   ]
  },
  {
   "cell_type": "code",
   "execution_count": 124,
   "id": "323f6fa1-a618-4291-9199-d98649d2e5e9",
   "metadata": {},
   "outputs": [],
   "source": [
    "y_pred_prob = result.predict(x_test)"
   ]
  },
  {
   "cell_type": "markdown",
   "id": "a12bb361-a4f3-4278-9606-b4d17370c59a",
   "metadata": {},
   "source": [
    "* Convertir probabilidades en predicciones binarias (0 o 1)"
   ]
  },
  {
   "cell_type": "code",
   "execution_count": 126,
   "id": "ed720a38-ea29-4db0-8fbf-9886a4118224",
   "metadata": {},
   "outputs": [],
   "source": [
    "y_pred_log = [1 if prob > 0.5 else 0 for prob in y_pred_prob]"
   ]
  },
  {
   "cell_type": "markdown",
   "id": "0011f2a9-b737-4243-93f8-93573c6becdb",
   "metadata": {},
   "source": [
    "* Crear la matriz de confusión"
   ]
  },
  {
   "cell_type": "code",
   "execution_count": 128,
   "id": "ec0af6a2-9b41-46f2-81d1-c46065a2fb0c",
   "metadata": {},
   "outputs": [],
   "source": [
    "from sklearn.metrics import confusion_matrix"
   ]
  },
  {
   "cell_type": "code",
   "execution_count": 129,
   "id": "c436ce9d-3e0e-43d8-b5e0-7ab3e9af8f61",
   "metadata": {},
   "outputs": [
    {
     "data": {
      "text/plain": [
       "array([[  4,  90],\n",
       "       [ 11, 195]], dtype=int64)"
      ]
     },
     "execution_count": 129,
     "metadata": {},
     "output_type": "execute_result"
    }
   ],
   "source": [
    "conf_matrix = confusion_matrix(y_test, y_pred_log)\n",
    "conf_matrix"
   ]
  },
  {
   "cell_type": "markdown",
   "id": "a0423f54-4e96-4246-b99e-7c1219879be2",
   "metadata": {},
   "source": [
    "* Calcular las métricas del modelo"
   ]
  },
  {
   "cell_type": "code",
   "execution_count": 131,
   "id": "7f815dbc-a1d0-4996-b6a6-59d182d7e458",
   "metadata": {},
   "outputs": [],
   "source": [
    "from sklearn.metrics import classification_report"
   ]
  },
  {
   "cell_type": "code",
   "execution_count": 132,
   "id": "5046a9db-33a4-4e8e-9d73-e0c0e426dc67",
   "metadata": {},
   "outputs": [
    {
     "name": "stdout",
     "output_type": "stream",
     "text": [
      "              precision    recall  f1-score   support\n",
      "\n",
      "           0       0.27      0.04      0.07        94\n",
      "           1       0.68      0.95      0.79       206\n",
      "\n",
      "    accuracy                           0.66       300\n",
      "   macro avg       0.48      0.49      0.43       300\n",
      "weighted avg       0.55      0.66      0.57       300\n",
      "\n"
     ]
    }
   ],
   "source": [
    "print(classification_report(y_test, y_pred_log))"
   ]
  },
  {
   "cell_type": "markdown",
   "id": "102ae7ce-8ef6-42ab-b8a5-b6c0d20c7590",
   "metadata": {},
   "source": [
    "#### Extraer conclusiones del modelo de regresión logit."
   ]
  },
  {
   "cell_type": "code",
   "execution_count": null,
   "id": "60895ae5-d95a-4395-997b-cf89d83c379f",
   "metadata": {},
   "outputs": [],
   "source": []
  },
  {
   "cell_type": "markdown",
   "id": "d00e5403-d247-4e4b-b028-47c2f12132d8",
   "metadata": {},
   "source": [
    "### Pruebas para seleccionar variables"
   ]
  },
  {
   "cell_type": "markdown",
   "id": "2343f897-d4b7-464b-af7f-530f690e3c83",
   "metadata": {},
   "source": [
    "#### Lasso (L1)"
   ]
  },
  {
   "cell_type": "code",
   "execution_count": 136,
   "id": "8b1e09fd-5594-404a-84d4-80775cb5ed1e",
   "metadata": {
    "scrolled": true
   },
   "outputs": [
    {
     "data": {
      "text/html": [
       "<div>\n",
       "<style scoped>\n",
       "    .dataframe tbody tr th:only-of-type {\n",
       "        vertical-align: middle;\n",
       "    }\n",
       "\n",
       "    .dataframe tbody tr th {\n",
       "        vertical-align: top;\n",
       "    }\n",
       "\n",
       "    .dataframe thead th {\n",
       "        text-align: right;\n",
       "    }\n",
       "</style>\n",
       "<table border=\"1\" class=\"dataframe\">\n",
       "  <thead>\n",
       "    <tr style=\"text-align: right;\">\n",
       "      <th></th>\n",
       "      <th>Number_of_Riders</th>\n",
       "      <th>Number_of_Drivers</th>\n",
       "      <th>Location_Category</th>\n",
       "      <th>Customer_Loyalty_Status</th>\n",
       "      <th>Number_of_Past_Rides</th>\n",
       "      <th>Average_Ratings</th>\n",
       "      <th>Time_of_Booking</th>\n",
       "      <th>Vehicle_Type</th>\n",
       "      <th>Expected_Ride_Duration</th>\n",
       "      <th>Historical_Cost_of_Ride</th>\n",
       "      <th>Service_Ratings</th>\n",
       "    </tr>\n",
       "  </thead>\n",
       "  <tbody>\n",
       "    <tr>\n",
       "      <th>0</th>\n",
       "      <td>90</td>\n",
       "      <td>45</td>\n",
       "      <td>Urban</td>\n",
       "      <td>Silver</td>\n",
       "      <td>13</td>\n",
       "      <td>4.47</td>\n",
       "      <td>Night</td>\n",
       "      <td>Premium</td>\n",
       "      <td>90</td>\n",
       "      <td>284.257273</td>\n",
       "      <td>1</td>\n",
       "    </tr>\n",
       "    <tr>\n",
       "      <th>1</th>\n",
       "      <td>58</td>\n",
       "      <td>39</td>\n",
       "      <td>Suburban</td>\n",
       "      <td>Silver</td>\n",
       "      <td>72</td>\n",
       "      <td>4.06</td>\n",
       "      <td>Evening</td>\n",
       "      <td>Economy</td>\n",
       "      <td>43</td>\n",
       "      <td>173.874753</td>\n",
       "      <td>1</td>\n",
       "    </tr>\n",
       "    <tr>\n",
       "      <th>2</th>\n",
       "      <td>42</td>\n",
       "      <td>31</td>\n",
       "      <td>Rural</td>\n",
       "      <td>Silver</td>\n",
       "      <td>0</td>\n",
       "      <td>3.99</td>\n",
       "      <td>Afternoon</td>\n",
       "      <td>Premium</td>\n",
       "      <td>76</td>\n",
       "      <td>329.795469</td>\n",
       "      <td>0</td>\n",
       "    </tr>\n",
       "    <tr>\n",
       "      <th>3</th>\n",
       "      <td>89</td>\n",
       "      <td>28</td>\n",
       "      <td>Rural</td>\n",
       "      <td>Regular</td>\n",
       "      <td>67</td>\n",
       "      <td>4.31</td>\n",
       "      <td>Afternoon</td>\n",
       "      <td>Premium</td>\n",
       "      <td>134</td>\n",
       "      <td>470.201232</td>\n",
       "      <td>1</td>\n",
       "    </tr>\n",
       "    <tr>\n",
       "      <th>4</th>\n",
       "      <td>78</td>\n",
       "      <td>22</td>\n",
       "      <td>Rural</td>\n",
       "      <td>Regular</td>\n",
       "      <td>74</td>\n",
       "      <td>3.77</td>\n",
       "      <td>Afternoon</td>\n",
       "      <td>Economy</td>\n",
       "      <td>149</td>\n",
       "      <td>579.681422</td>\n",
       "      <td>0</td>\n",
       "    </tr>\n",
       "    <tr>\n",
       "      <th>...</th>\n",
       "      <td>...</td>\n",
       "      <td>...</td>\n",
       "      <td>...</td>\n",
       "      <td>...</td>\n",
       "      <td>...</td>\n",
       "      <td>...</td>\n",
       "      <td>...</td>\n",
       "      <td>...</td>\n",
       "      <td>...</td>\n",
       "      <td>...</td>\n",
       "      <td>...</td>\n",
       "    </tr>\n",
       "    <tr>\n",
       "      <th>995</th>\n",
       "      <td>33</td>\n",
       "      <td>23</td>\n",
       "      <td>Urban</td>\n",
       "      <td>Gold</td>\n",
       "      <td>24</td>\n",
       "      <td>4.21</td>\n",
       "      <td>Morning</td>\n",
       "      <td>Premium</td>\n",
       "      <td>11</td>\n",
       "      <td>91.389526</td>\n",
       "      <td>1</td>\n",
       "    </tr>\n",
       "    <tr>\n",
       "      <th>996</th>\n",
       "      <td>84</td>\n",
       "      <td>29</td>\n",
       "      <td>Urban</td>\n",
       "      <td>Regular</td>\n",
       "      <td>92</td>\n",
       "      <td>4.55</td>\n",
       "      <td>Morning</td>\n",
       "      <td>Premium</td>\n",
       "      <td>94</td>\n",
       "      <td>424.155987</td>\n",
       "      <td>1</td>\n",
       "    </tr>\n",
       "    <tr>\n",
       "      <th>997</th>\n",
       "      <td>44</td>\n",
       "      <td>6</td>\n",
       "      <td>Suburban</td>\n",
       "      <td>Gold</td>\n",
       "      <td>80</td>\n",
       "      <td>4.13</td>\n",
       "      <td>Night</td>\n",
       "      <td>Premium</td>\n",
       "      <td>40</td>\n",
       "      <td>157.364830</td>\n",
       "      <td>1</td>\n",
       "    </tr>\n",
       "    <tr>\n",
       "      <th>998</th>\n",
       "      <td>53</td>\n",
       "      <td>27</td>\n",
       "      <td>Suburban</td>\n",
       "      <td>Regular</td>\n",
       "      <td>78</td>\n",
       "      <td>3.63</td>\n",
       "      <td>Night</td>\n",
       "      <td>Premium</td>\n",
       "      <td>58</td>\n",
       "      <td>279.095048</td>\n",
       "      <td>0</td>\n",
       "    </tr>\n",
       "    <tr>\n",
       "      <th>999</th>\n",
       "      <td>78</td>\n",
       "      <td>63</td>\n",
       "      <td>Rural</td>\n",
       "      <td>Gold</td>\n",
       "      <td>14</td>\n",
       "      <td>4.21</td>\n",
       "      <td>Afternoon</td>\n",
       "      <td>Economy</td>\n",
       "      <td>147</td>\n",
       "      <td>655.065106</td>\n",
       "      <td>1</td>\n",
       "    </tr>\n",
       "  </tbody>\n",
       "</table>\n",
       "<p>1000 rows × 11 columns</p>\n",
       "</div>"
      ],
      "text/plain": [
       "     Number_of_Riders  Number_of_Drivers Location_Category  \\\n",
       "0                  90                 45             Urban   \n",
       "1                  58                 39          Suburban   \n",
       "2                  42                 31             Rural   \n",
       "3                  89                 28             Rural   \n",
       "4                  78                 22             Rural   \n",
       "..                ...                ...               ...   \n",
       "995                33                 23             Urban   \n",
       "996                84                 29             Urban   \n",
       "997                44                  6          Suburban   \n",
       "998                53                 27          Suburban   \n",
       "999                78                 63             Rural   \n",
       "\n",
       "    Customer_Loyalty_Status  Number_of_Past_Rides  Average_Ratings  \\\n",
       "0                    Silver                    13             4.47   \n",
       "1                    Silver                    72             4.06   \n",
       "2                    Silver                     0             3.99   \n",
       "3                   Regular                    67             4.31   \n",
       "4                   Regular                    74             3.77   \n",
       "..                      ...                   ...              ...   \n",
       "995                    Gold                    24             4.21   \n",
       "996                 Regular                    92             4.55   \n",
       "997                    Gold                    80             4.13   \n",
       "998                 Regular                    78             3.63   \n",
       "999                    Gold                    14             4.21   \n",
       "\n",
       "    Time_of_Booking Vehicle_Type  Expected_Ride_Duration  \\\n",
       "0             Night      Premium                      90   \n",
       "1           Evening      Economy                      43   \n",
       "2         Afternoon      Premium                      76   \n",
       "3         Afternoon      Premium                     134   \n",
       "4         Afternoon      Economy                     149   \n",
       "..              ...          ...                     ...   \n",
       "995         Morning      Premium                      11   \n",
       "996         Morning      Premium                      94   \n",
       "997           Night      Premium                      40   \n",
       "998           Night      Premium                      58   \n",
       "999       Afternoon      Economy                     147   \n",
       "\n",
       "     Historical_Cost_of_Ride  Service_Ratings  \n",
       "0                 284.257273                1  \n",
       "1                 173.874753                1  \n",
       "2                 329.795469                0  \n",
       "3                 470.201232                1  \n",
       "4                 579.681422                0  \n",
       "..                       ...              ...  \n",
       "995                91.389526                1  \n",
       "996               424.155987                1  \n",
       "997               157.364830                1  \n",
       "998               279.095048                0  \n",
       "999               655.065106                1  \n",
       "\n",
       "[1000 rows x 11 columns]"
      ]
     },
     "execution_count": 136,
     "metadata": {},
     "output_type": "execute_result"
    }
   ],
   "source": [
    "datos"
   ]
  },
  {
   "cell_type": "code",
   "execution_count": 137,
   "id": "6aa3e649-920b-428b-bbd0-b7788d3d8445",
   "metadata": {},
   "outputs": [
    {
     "data": {
      "text/html": [
       "<div>\n",
       "<style scoped>\n",
       "    .dataframe tbody tr th:only-of-type {\n",
       "        vertical-align: middle;\n",
       "    }\n",
       "\n",
       "    .dataframe tbody tr th {\n",
       "        vertical-align: top;\n",
       "    }\n",
       "\n",
       "    .dataframe thead th {\n",
       "        text-align: right;\n",
       "    }\n",
       "</style>\n",
       "<table border=\"1\" class=\"dataframe\">\n",
       "  <thead>\n",
       "    <tr style=\"text-align: right;\">\n",
       "      <th></th>\n",
       "      <th>Location_Category_Suburban</th>\n",
       "      <th>Location_Category_Urban</th>\n",
       "      <th>Customer_Loyalty_Status_Regular</th>\n",
       "      <th>Customer_Loyalty_Status_Silver</th>\n",
       "      <th>Time_of_Booking_Evening</th>\n",
       "      <th>Time_of_Booking_Morning</th>\n",
       "      <th>Time_of_Booking_Night</th>\n",
       "      <th>Vehicle_Type_Premium</th>\n",
       "    </tr>\n",
       "  </thead>\n",
       "  <tbody>\n",
       "    <tr>\n",
       "      <th>0</th>\n",
       "      <td>0.0</td>\n",
       "      <td>1.0</td>\n",
       "      <td>0.0</td>\n",
       "      <td>1.0</td>\n",
       "      <td>0.0</td>\n",
       "      <td>0.0</td>\n",
       "      <td>1.0</td>\n",
       "      <td>1.0</td>\n",
       "    </tr>\n",
       "    <tr>\n",
       "      <th>1</th>\n",
       "      <td>1.0</td>\n",
       "      <td>0.0</td>\n",
       "      <td>0.0</td>\n",
       "      <td>1.0</td>\n",
       "      <td>1.0</td>\n",
       "      <td>0.0</td>\n",
       "      <td>0.0</td>\n",
       "      <td>0.0</td>\n",
       "    </tr>\n",
       "    <tr>\n",
       "      <th>2</th>\n",
       "      <td>0.0</td>\n",
       "      <td>0.0</td>\n",
       "      <td>0.0</td>\n",
       "      <td>1.0</td>\n",
       "      <td>0.0</td>\n",
       "      <td>0.0</td>\n",
       "      <td>0.0</td>\n",
       "      <td>1.0</td>\n",
       "    </tr>\n",
       "    <tr>\n",
       "      <th>3</th>\n",
       "      <td>0.0</td>\n",
       "      <td>0.0</td>\n",
       "      <td>1.0</td>\n",
       "      <td>0.0</td>\n",
       "      <td>0.0</td>\n",
       "      <td>0.0</td>\n",
       "      <td>0.0</td>\n",
       "      <td>1.0</td>\n",
       "    </tr>\n",
       "    <tr>\n",
       "      <th>4</th>\n",
       "      <td>0.0</td>\n",
       "      <td>0.0</td>\n",
       "      <td>1.0</td>\n",
       "      <td>0.0</td>\n",
       "      <td>0.0</td>\n",
       "      <td>0.0</td>\n",
       "      <td>0.0</td>\n",
       "      <td>0.0</td>\n",
       "    </tr>\n",
       "    <tr>\n",
       "      <th>...</th>\n",
       "      <td>...</td>\n",
       "      <td>...</td>\n",
       "      <td>...</td>\n",
       "      <td>...</td>\n",
       "      <td>...</td>\n",
       "      <td>...</td>\n",
       "      <td>...</td>\n",
       "      <td>...</td>\n",
       "    </tr>\n",
       "    <tr>\n",
       "      <th>995</th>\n",
       "      <td>0.0</td>\n",
       "      <td>1.0</td>\n",
       "      <td>0.0</td>\n",
       "      <td>0.0</td>\n",
       "      <td>0.0</td>\n",
       "      <td>1.0</td>\n",
       "      <td>0.0</td>\n",
       "      <td>1.0</td>\n",
       "    </tr>\n",
       "    <tr>\n",
       "      <th>996</th>\n",
       "      <td>0.0</td>\n",
       "      <td>1.0</td>\n",
       "      <td>1.0</td>\n",
       "      <td>0.0</td>\n",
       "      <td>0.0</td>\n",
       "      <td>1.0</td>\n",
       "      <td>0.0</td>\n",
       "      <td>1.0</td>\n",
       "    </tr>\n",
       "    <tr>\n",
       "      <th>997</th>\n",
       "      <td>1.0</td>\n",
       "      <td>0.0</td>\n",
       "      <td>0.0</td>\n",
       "      <td>0.0</td>\n",
       "      <td>0.0</td>\n",
       "      <td>0.0</td>\n",
       "      <td>1.0</td>\n",
       "      <td>1.0</td>\n",
       "    </tr>\n",
       "    <tr>\n",
       "      <th>998</th>\n",
       "      <td>1.0</td>\n",
       "      <td>0.0</td>\n",
       "      <td>1.0</td>\n",
       "      <td>0.0</td>\n",
       "      <td>0.0</td>\n",
       "      <td>0.0</td>\n",
       "      <td>1.0</td>\n",
       "      <td>1.0</td>\n",
       "    </tr>\n",
       "    <tr>\n",
       "      <th>999</th>\n",
       "      <td>0.0</td>\n",
       "      <td>0.0</td>\n",
       "      <td>0.0</td>\n",
       "      <td>0.0</td>\n",
       "      <td>0.0</td>\n",
       "      <td>0.0</td>\n",
       "      <td>0.0</td>\n",
       "      <td>0.0</td>\n",
       "    </tr>\n",
       "  </tbody>\n",
       "</table>\n",
       "<p>1000 rows × 8 columns</p>\n",
       "</div>"
      ],
      "text/plain": [
       "     Location_Category_Suburban  Location_Category_Urban  \\\n",
       "0                           0.0                      1.0   \n",
       "1                           1.0                      0.0   \n",
       "2                           0.0                      0.0   \n",
       "3                           0.0                      0.0   \n",
       "4                           0.0                      0.0   \n",
       "..                          ...                      ...   \n",
       "995                         0.0                      1.0   \n",
       "996                         0.0                      1.0   \n",
       "997                         1.0                      0.0   \n",
       "998                         1.0                      0.0   \n",
       "999                         0.0                      0.0   \n",
       "\n",
       "     Customer_Loyalty_Status_Regular  Customer_Loyalty_Status_Silver  \\\n",
       "0                                0.0                             1.0   \n",
       "1                                0.0                             1.0   \n",
       "2                                0.0                             1.0   \n",
       "3                                1.0                             0.0   \n",
       "4                                1.0                             0.0   \n",
       "..                               ...                             ...   \n",
       "995                              0.0                             0.0   \n",
       "996                              1.0                             0.0   \n",
       "997                              0.0                             0.0   \n",
       "998                              1.0                             0.0   \n",
       "999                              0.0                             0.0   \n",
       "\n",
       "     Time_of_Booking_Evening  Time_of_Booking_Morning  Time_of_Booking_Night  \\\n",
       "0                        0.0                      0.0                    1.0   \n",
       "1                        1.0                      0.0                    0.0   \n",
       "2                        0.0                      0.0                    0.0   \n",
       "3                        0.0                      0.0                    0.0   \n",
       "4                        0.0                      0.0                    0.0   \n",
       "..                       ...                      ...                    ...   \n",
       "995                      0.0                      1.0                    0.0   \n",
       "996                      0.0                      1.0                    0.0   \n",
       "997                      0.0                      0.0                    1.0   \n",
       "998                      0.0                      0.0                    1.0   \n",
       "999                      0.0                      0.0                    0.0   \n",
       "\n",
       "     Vehicle_Type_Premium  \n",
       "0                     1.0  \n",
       "1                     0.0  \n",
       "2                     1.0  \n",
       "3                     1.0  \n",
       "4                     0.0  \n",
       "..                    ...  \n",
       "995                   1.0  \n",
       "996                   1.0  \n",
       "997                   1.0  \n",
       "998                   1.0  \n",
       "999                   0.0  \n",
       "\n",
       "[1000 rows x 8 columns]"
      ]
     },
     "execution_count": 137,
     "metadata": {},
     "output_type": "execute_result"
    }
   ],
   "source": [
    "X"
   ]
  },
  {
   "cell_type": "code",
   "execution_count": 138,
   "id": "58edb942-c9d9-42ed-9234-86c0fd1cb474",
   "metadata": {},
   "outputs": [],
   "source": [
    "from sklearn.linear_model import LogisticRegression"
   ]
  },
  {
   "cell_type": "code",
   "execution_count": 139,
   "id": "cb135611-663e-4748-b1d9-be0076b8f018",
   "metadata": {},
   "outputs": [],
   "source": [
    "logit_lasso = LogisticRegression(penalty='l1', solver='liblinear')"
   ]
  },
  {
   "cell_type": "code",
   "execution_count": 140,
   "id": "f9f3ad5c-af77-4bb3-bd10-4498e99e4497",
   "metadata": {},
   "outputs": [
    {
     "data": {
      "text/html": [
       "<style>#sk-container-id-1 {color: black;}#sk-container-id-1 pre{padding: 0;}#sk-container-id-1 div.sk-toggleable {background-color: white;}#sk-container-id-1 label.sk-toggleable__label {cursor: pointer;display: block;width: 100%;margin-bottom: 0;padding: 0.3em;box-sizing: border-box;text-align: center;}#sk-container-id-1 label.sk-toggleable__label-arrow:before {content: \"▸\";float: left;margin-right: 0.25em;color: #696969;}#sk-container-id-1 label.sk-toggleable__label-arrow:hover:before {color: black;}#sk-container-id-1 div.sk-estimator:hover label.sk-toggleable__label-arrow:before {color: black;}#sk-container-id-1 div.sk-toggleable__content {max-height: 0;max-width: 0;overflow: hidden;text-align: left;background-color: #f0f8ff;}#sk-container-id-1 div.sk-toggleable__content pre {margin: 0.2em;color: black;border-radius: 0.25em;background-color: #f0f8ff;}#sk-container-id-1 input.sk-toggleable__control:checked~div.sk-toggleable__content {max-height: 200px;max-width: 100%;overflow: auto;}#sk-container-id-1 input.sk-toggleable__control:checked~label.sk-toggleable__label-arrow:before {content: \"▾\";}#sk-container-id-1 div.sk-estimator input.sk-toggleable__control:checked~label.sk-toggleable__label {background-color: #d4ebff;}#sk-container-id-1 div.sk-label input.sk-toggleable__control:checked~label.sk-toggleable__label {background-color: #d4ebff;}#sk-container-id-1 input.sk-hidden--visually {border: 0;clip: rect(1px 1px 1px 1px);clip: rect(1px, 1px, 1px, 1px);height: 1px;margin: -1px;overflow: hidden;padding: 0;position: absolute;width: 1px;}#sk-container-id-1 div.sk-estimator {font-family: monospace;background-color: #f0f8ff;border: 1px dotted black;border-radius: 0.25em;box-sizing: border-box;margin-bottom: 0.5em;}#sk-container-id-1 div.sk-estimator:hover {background-color: #d4ebff;}#sk-container-id-1 div.sk-parallel-item::after {content: \"\";width: 100%;border-bottom: 1px solid gray;flex-grow: 1;}#sk-container-id-1 div.sk-label:hover label.sk-toggleable__label {background-color: #d4ebff;}#sk-container-id-1 div.sk-serial::before {content: \"\";position: absolute;border-left: 1px solid gray;box-sizing: border-box;top: 0;bottom: 0;left: 50%;z-index: 0;}#sk-container-id-1 div.sk-serial {display: flex;flex-direction: column;align-items: center;background-color: white;padding-right: 0.2em;padding-left: 0.2em;position: relative;}#sk-container-id-1 div.sk-item {position: relative;z-index: 1;}#sk-container-id-1 div.sk-parallel {display: flex;align-items: stretch;justify-content: center;background-color: white;position: relative;}#sk-container-id-1 div.sk-item::before, #sk-container-id-1 div.sk-parallel-item::before {content: \"\";position: absolute;border-left: 1px solid gray;box-sizing: border-box;top: 0;bottom: 0;left: 50%;z-index: -1;}#sk-container-id-1 div.sk-parallel-item {display: flex;flex-direction: column;z-index: 1;position: relative;background-color: white;}#sk-container-id-1 div.sk-parallel-item:first-child::after {align-self: flex-end;width: 50%;}#sk-container-id-1 div.sk-parallel-item:last-child::after {align-self: flex-start;width: 50%;}#sk-container-id-1 div.sk-parallel-item:only-child::after {width: 0;}#sk-container-id-1 div.sk-dashed-wrapped {border: 1px dashed gray;margin: 0 0.4em 0.5em 0.4em;box-sizing: border-box;padding-bottom: 0.4em;background-color: white;}#sk-container-id-1 div.sk-label label {font-family: monospace;font-weight: bold;display: inline-block;line-height: 1.2em;}#sk-container-id-1 div.sk-label-container {text-align: center;}#sk-container-id-1 div.sk-container {/* jupyter's `normalize.less` sets `[hidden] { display: none; }` but bootstrap.min.css set `[hidden] { display: none !important; }` so we also need the `!important` here to be able to override the default hidden behavior on the sphinx rendered scikit-learn.org. See: https://github.com/scikit-learn/scikit-learn/issues/21755 */display: inline-block !important;position: relative;}#sk-container-id-1 div.sk-text-repr-fallback {display: none;}</style><div id=\"sk-container-id-1\" class=\"sk-top-container\"><div class=\"sk-text-repr-fallback\"><pre>LogisticRegression(penalty=&#x27;l1&#x27;, solver=&#x27;liblinear&#x27;)</pre><b>In a Jupyter environment, please rerun this cell to show the HTML representation or trust the notebook. <br />On GitHub, the HTML representation is unable to render, please try loading this page with nbviewer.org.</b></div><div class=\"sk-container\" hidden><div class=\"sk-item\"><div class=\"sk-estimator sk-toggleable\"><input class=\"sk-toggleable__control sk-hidden--visually\" id=\"sk-estimator-id-1\" type=\"checkbox\" checked><label for=\"sk-estimator-id-1\" class=\"sk-toggleable__label sk-toggleable__label-arrow\">LogisticRegression</label><div class=\"sk-toggleable__content\"><pre>LogisticRegression(penalty=&#x27;l1&#x27;, solver=&#x27;liblinear&#x27;)</pre></div></div></div></div></div>"
      ],
      "text/plain": [
       "LogisticRegression(penalty='l1', solver='liblinear')"
      ]
     },
     "execution_count": 140,
     "metadata": {},
     "output_type": "execute_result"
    }
   ],
   "source": [
    "logit_lasso.fit(x_train, y_train)"
   ]
  },
  {
   "cell_type": "code",
   "execution_count": 141,
   "id": "b755e531-eebf-4c9e-8185-67ddf7d98ebe",
   "metadata": {},
   "outputs": [
    {
     "name": "stdout",
     "output_type": "stream",
     "text": [
      "Coeficientes: [[ 0.06605307  0.17050019  0.04917491  0.13013966 -0.53710061  0.\n",
      "  -0.34562791 -0.03384324]]\n"
     ]
    }
   ],
   "source": [
    "print(f'Coeficientes: {logit_lasso.coef_}')"
   ]
  },
  {
   "cell_type": "markdown",
   "id": "33d39ad1-fa34-40f9-872b-358d298aedda",
   "metadata": {},
   "source": [
    "eliminar la variable cuyo coeficiente es 0, ya que laprueba lasso indica que no aporta significativamente nada para el modelo"
   ]
  },
  {
   "cell_type": "code",
   "execution_count": 143,
   "id": "8952d57d-d987-4b77-9bf7-af40971cf33c",
   "metadata": {},
   "outputs": [],
   "source": [
    "X = X.drop('Time_of_Booking_Morning', axis=1)"
   ]
  },
  {
   "cell_type": "code",
   "execution_count": 144,
   "id": "e6cac707-f59c-4436-8044-72199d614625",
   "metadata": {},
   "outputs": [
    {
     "data": {
      "text/html": [
       "<div>\n",
       "<style scoped>\n",
       "    .dataframe tbody tr th:only-of-type {\n",
       "        vertical-align: middle;\n",
       "    }\n",
       "\n",
       "    .dataframe tbody tr th {\n",
       "        vertical-align: top;\n",
       "    }\n",
       "\n",
       "    .dataframe thead th {\n",
       "        text-align: right;\n",
       "    }\n",
       "</style>\n",
       "<table border=\"1\" class=\"dataframe\">\n",
       "  <thead>\n",
       "    <tr style=\"text-align: right;\">\n",
       "      <th></th>\n",
       "      <th>Location_Category_Suburban</th>\n",
       "      <th>Location_Category_Urban</th>\n",
       "      <th>Customer_Loyalty_Status_Regular</th>\n",
       "      <th>Customer_Loyalty_Status_Silver</th>\n",
       "      <th>Time_of_Booking_Evening</th>\n",
       "      <th>Time_of_Booking_Night</th>\n",
       "      <th>Vehicle_Type_Premium</th>\n",
       "    </tr>\n",
       "  </thead>\n",
       "  <tbody>\n",
       "    <tr>\n",
       "      <th>0</th>\n",
       "      <td>0.0</td>\n",
       "      <td>1.0</td>\n",
       "      <td>0.0</td>\n",
       "      <td>1.0</td>\n",
       "      <td>0.0</td>\n",
       "      <td>1.0</td>\n",
       "      <td>1.0</td>\n",
       "    </tr>\n",
       "    <tr>\n",
       "      <th>1</th>\n",
       "      <td>1.0</td>\n",
       "      <td>0.0</td>\n",
       "      <td>0.0</td>\n",
       "      <td>1.0</td>\n",
       "      <td>1.0</td>\n",
       "      <td>0.0</td>\n",
       "      <td>0.0</td>\n",
       "    </tr>\n",
       "    <tr>\n",
       "      <th>2</th>\n",
       "      <td>0.0</td>\n",
       "      <td>0.0</td>\n",
       "      <td>0.0</td>\n",
       "      <td>1.0</td>\n",
       "      <td>0.0</td>\n",
       "      <td>0.0</td>\n",
       "      <td>1.0</td>\n",
       "    </tr>\n",
       "    <tr>\n",
       "      <th>3</th>\n",
       "      <td>0.0</td>\n",
       "      <td>0.0</td>\n",
       "      <td>1.0</td>\n",
       "      <td>0.0</td>\n",
       "      <td>0.0</td>\n",
       "      <td>0.0</td>\n",
       "      <td>1.0</td>\n",
       "    </tr>\n",
       "    <tr>\n",
       "      <th>4</th>\n",
       "      <td>0.0</td>\n",
       "      <td>0.0</td>\n",
       "      <td>1.0</td>\n",
       "      <td>0.0</td>\n",
       "      <td>0.0</td>\n",
       "      <td>0.0</td>\n",
       "      <td>0.0</td>\n",
       "    </tr>\n",
       "    <tr>\n",
       "      <th>...</th>\n",
       "      <td>...</td>\n",
       "      <td>...</td>\n",
       "      <td>...</td>\n",
       "      <td>...</td>\n",
       "      <td>...</td>\n",
       "      <td>...</td>\n",
       "      <td>...</td>\n",
       "    </tr>\n",
       "    <tr>\n",
       "      <th>995</th>\n",
       "      <td>0.0</td>\n",
       "      <td>1.0</td>\n",
       "      <td>0.0</td>\n",
       "      <td>0.0</td>\n",
       "      <td>0.0</td>\n",
       "      <td>0.0</td>\n",
       "      <td>1.0</td>\n",
       "    </tr>\n",
       "    <tr>\n",
       "      <th>996</th>\n",
       "      <td>0.0</td>\n",
       "      <td>1.0</td>\n",
       "      <td>1.0</td>\n",
       "      <td>0.0</td>\n",
       "      <td>0.0</td>\n",
       "      <td>0.0</td>\n",
       "      <td>1.0</td>\n",
       "    </tr>\n",
       "    <tr>\n",
       "      <th>997</th>\n",
       "      <td>1.0</td>\n",
       "      <td>0.0</td>\n",
       "      <td>0.0</td>\n",
       "      <td>0.0</td>\n",
       "      <td>0.0</td>\n",
       "      <td>1.0</td>\n",
       "      <td>1.0</td>\n",
       "    </tr>\n",
       "    <tr>\n",
       "      <th>998</th>\n",
       "      <td>1.0</td>\n",
       "      <td>0.0</td>\n",
       "      <td>1.0</td>\n",
       "      <td>0.0</td>\n",
       "      <td>0.0</td>\n",
       "      <td>1.0</td>\n",
       "      <td>1.0</td>\n",
       "    </tr>\n",
       "    <tr>\n",
       "      <th>999</th>\n",
       "      <td>0.0</td>\n",
       "      <td>0.0</td>\n",
       "      <td>0.0</td>\n",
       "      <td>0.0</td>\n",
       "      <td>0.0</td>\n",
       "      <td>0.0</td>\n",
       "      <td>0.0</td>\n",
       "    </tr>\n",
       "  </tbody>\n",
       "</table>\n",
       "<p>1000 rows × 7 columns</p>\n",
       "</div>"
      ],
      "text/plain": [
       "     Location_Category_Suburban  Location_Category_Urban  \\\n",
       "0                           0.0                      1.0   \n",
       "1                           1.0                      0.0   \n",
       "2                           0.0                      0.0   \n",
       "3                           0.0                      0.0   \n",
       "4                           0.0                      0.0   \n",
       "..                          ...                      ...   \n",
       "995                         0.0                      1.0   \n",
       "996                         0.0                      1.0   \n",
       "997                         1.0                      0.0   \n",
       "998                         1.0                      0.0   \n",
       "999                         0.0                      0.0   \n",
       "\n",
       "     Customer_Loyalty_Status_Regular  Customer_Loyalty_Status_Silver  \\\n",
       "0                                0.0                             1.0   \n",
       "1                                0.0                             1.0   \n",
       "2                                0.0                             1.0   \n",
       "3                                1.0                             0.0   \n",
       "4                                1.0                             0.0   \n",
       "..                               ...                             ...   \n",
       "995                              0.0                             0.0   \n",
       "996                              1.0                             0.0   \n",
       "997                              0.0                             0.0   \n",
       "998                              1.0                             0.0   \n",
       "999                              0.0                             0.0   \n",
       "\n",
       "     Time_of_Booking_Evening  Time_of_Booking_Night  Vehicle_Type_Premium  \n",
       "0                        0.0                    1.0                   1.0  \n",
       "1                        1.0                    0.0                   0.0  \n",
       "2                        0.0                    0.0                   1.0  \n",
       "3                        0.0                    0.0                   1.0  \n",
       "4                        0.0                    0.0                   0.0  \n",
       "..                       ...                    ...                   ...  \n",
       "995                      0.0                    0.0                   1.0  \n",
       "996                      0.0                    0.0                   1.0  \n",
       "997                      0.0                    1.0                   1.0  \n",
       "998                      0.0                    1.0                   1.0  \n",
       "999                      0.0                    0.0                   0.0  \n",
       "\n",
       "[1000 rows x 7 columns]"
      ]
     },
     "execution_count": 144,
     "metadata": {},
     "output_type": "execute_result"
    }
   ],
   "source": [
    "X"
   ]
  },
  {
   "cell_type": "markdown",
   "id": "b90e75cf-2a30-4ad3-a14f-8f0011743ed2",
   "metadata": {},
   "source": [
    "dividir nuevamente los datos en train y test"
   ]
  },
  {
   "cell_type": "code",
   "execution_count": 146,
   "id": "1894817e-da19-4bda-a32e-f5ff6a2768e3",
   "metadata": {},
   "outputs": [],
   "source": [
    "x_train, x_test, y_train, y_test = train_test_split(X, Y, test_size=0.3, random_state=000)"
   ]
  },
  {
   "cell_type": "code",
   "execution_count": 147,
   "id": "462657eb-a61b-44df-999e-d5f17b574713",
   "metadata": {},
   "outputs": [
    {
     "data": {
      "text/plain": [
       "(700, 7)"
      ]
     },
     "execution_count": 147,
     "metadata": {},
     "output_type": "execute_result"
    }
   ],
   "source": [
    "x_train.shape"
   ]
  },
  {
   "cell_type": "markdown",
   "id": "8fd5750f-dfa4-46d7-ac44-9977d1741a43",
   "metadata": {},
   "source": [
    "Entrenar de nuevo el modelo"
   ]
  },
  {
   "cell_type": "code",
   "execution_count": 149,
   "id": "cdb92163-f918-4cf3-8f5b-c726288934bc",
   "metadata": {},
   "outputs": [],
   "source": [
    "logit_model_2 = sm.Logit(y_train, x_train)"
   ]
  },
  {
   "cell_type": "code",
   "execution_count": 150,
   "id": "7404b8a3-2c79-4f4a-9402-6dc8d266c01c",
   "metadata": {},
   "outputs": [
    {
     "name": "stdout",
     "output_type": "stream",
     "text": [
      "Optimization terminated successfully.\n",
      "         Current function value: 0.629442\n",
      "         Iterations 5\n"
     ]
    }
   ],
   "source": [
    "result_2 = logit_model_2.fit()"
   ]
  },
  {
   "cell_type": "code",
   "execution_count": 151,
   "id": "d09886e1-b52a-4d16-8f7a-9943ba2c1e68",
   "metadata": {},
   "outputs": [
    {
     "data": {
      "text/html": [
       "<table class=\"simpletable\">\n",
       "<caption>Logit Regression Results</caption>\n",
       "<tr>\n",
       "  <th>Dep. Variable:</th>    <td>Service_Ratings</td> <th>  No. Observations:  </th>  <td>   700</td>  \n",
       "</tr>\n",
       "<tr>\n",
       "  <th>Model:</th>                 <td>Logit</td>      <th>  Df Residuals:      </th>  <td>   693</td>  \n",
       "</tr>\n",
       "<tr>\n",
       "  <th>Method:</th>                 <td>MLE</td>       <th>  Df Model:          </th>  <td>     6</td>  \n",
       "</tr>\n",
       "<tr>\n",
       "  <th>Date:</th>            <td>Sat, 26 Oct 2024</td> <th>  Pseudo R-squ.:     </th> <td>-0.004104</td>\n",
       "</tr>\n",
       "<tr>\n",
       "  <th>Time:</th>                <td>21:45:06</td>     <th>  Log-Likelihood:    </th> <td> -440.61</td> \n",
       "</tr>\n",
       "<tr>\n",
       "  <th>converged:</th>             <td>True</td>       <th>  LL-Null:           </th> <td> -438.81</td> \n",
       "</tr>\n",
       "<tr>\n",
       "  <th>Covariance Type:</th>     <td>nonrobust</td>    <th>  LLR p-value:       </th>  <td> 1.000</td>  \n",
       "</tr>\n",
       "</table>\n",
       "<table class=\"simpletable\">\n",
       "<tr>\n",
       "                 <td></td>                    <th>coef</th>     <th>std err</th>      <th>z</th>      <th>P>|z|</th>  <th>[0.025</th>    <th>0.975]</th>  \n",
       "</tr>\n",
       "<tr>\n",
       "  <th>Location_Category_Suburban</th>      <td>    0.4300</td> <td>    0.184</td> <td>    2.337</td> <td> 0.019</td> <td>    0.069</td> <td>    0.791</td>\n",
       "</tr>\n",
       "<tr>\n",
       "  <th>Location_Category_Urban</th>         <td>    0.5445</td> <td>    0.174</td> <td>    3.136</td> <td> 0.002</td> <td>    0.204</td> <td>    0.885</td>\n",
       "</tr>\n",
       "<tr>\n",
       "  <th>Customer_Loyalty_Status_Regular</th> <td>    0.4368</td> <td>    0.183</td> <td>    2.388</td> <td> 0.017</td> <td>    0.078</td> <td>    0.795</td>\n",
       "</tr>\n",
       "<tr>\n",
       "  <th>Customer_Loyalty_Status_Silver</th>  <td>    0.5351</td> <td>    0.171</td> <td>    3.130</td> <td> 0.002</td> <td>    0.200</td> <td>    0.870</td>\n",
       "</tr>\n",
       "<tr>\n",
       "  <th>Time_of_Booking_Evening</th>         <td>   -0.3410</td> <td>    0.192</td> <td>   -1.774</td> <td> 0.076</td> <td>   -0.718</td> <td>    0.036</td>\n",
       "</tr>\n",
       "<tr>\n",
       "  <th>Time_of_Booking_Night</th>           <td>   -0.1358</td> <td>    0.179</td> <td>   -0.758</td> <td> 0.448</td> <td>   -0.487</td> <td>    0.215</td>\n",
       "</tr>\n",
       "<tr>\n",
       "  <th>Vehicle_Type_Premium</th>            <td>    0.1909</td> <td>    0.148</td> <td>    1.286</td> <td> 0.198</td> <td>   -0.100</td> <td>    0.482</td>\n",
       "</tr>\n",
       "</table>"
      ],
      "text/latex": [
       "\\begin{center}\n",
       "\\begin{tabular}{lclc}\n",
       "\\toprule\n",
       "\\textbf{Dep. Variable:}                     & Service\\_Ratings & \\textbf{  No. Observations:  } &      700    \\\\\n",
       "\\textbf{Model:}                             &      Logit       & \\textbf{  Df Residuals:      } &      693    \\\\\n",
       "\\textbf{Method:}                            &       MLE        & \\textbf{  Df Model:          } &        6    \\\\\n",
       "\\textbf{Date:}                              & Sat, 26 Oct 2024 & \\textbf{  Pseudo R-squ.:     } & -0.004104   \\\\\n",
       "\\textbf{Time:}                              &     21:45:06     & \\textbf{  Log-Likelihood:    } &   -440.61   \\\\\n",
       "\\textbf{converged:}                         &       True       & \\textbf{  LL-Null:           } &   -438.81   \\\\\n",
       "\\textbf{Covariance Type:}                   &    nonrobust     & \\textbf{  LLR p-value:       } &    1.000    \\\\\n",
       "\\bottomrule\n",
       "\\end{tabular}\n",
       "\\begin{tabular}{lcccccc}\n",
       "                                            & \\textbf{coef} & \\textbf{std err} & \\textbf{z} & \\textbf{P$> |$z$|$} & \\textbf{[0.025} & \\textbf{0.975]}  \\\\\n",
       "\\midrule\n",
       "\\textbf{Location\\_Category\\_Suburban}       &       0.4300  &        0.184     &     2.337  &         0.019        &        0.069    &        0.791     \\\\\n",
       "\\textbf{Location\\_Category\\_Urban}          &       0.5445  &        0.174     &     3.136  &         0.002        &        0.204    &        0.885     \\\\\n",
       "\\textbf{Customer\\_Loyalty\\_Status\\_Regular} &       0.4368  &        0.183     &     2.388  &         0.017        &        0.078    &        0.795     \\\\\n",
       "\\textbf{Customer\\_Loyalty\\_Status\\_Silver}  &       0.5351  &        0.171     &     3.130  &         0.002        &        0.200    &        0.870     \\\\\n",
       "\\textbf{Time\\_of\\_Booking\\_Evening}         &      -0.3410  &        0.192     &    -1.774  &         0.076        &       -0.718    &        0.036     \\\\\n",
       "\\textbf{Time\\_of\\_Booking\\_Night}           &      -0.1358  &        0.179     &    -0.758  &         0.448        &       -0.487    &        0.215     \\\\\n",
       "\\textbf{Vehicle\\_Type\\_Premium}             &       0.1909  &        0.148     &     1.286  &         0.198        &       -0.100    &        0.482     \\\\\n",
       "\\bottomrule\n",
       "\\end{tabular}\n",
       "%\\caption{Logit Regression Results}\n",
       "\\end{center}"
      ],
      "text/plain": [
       "<class 'statsmodels.iolib.summary.Summary'>\n",
       "\"\"\"\n",
       "                           Logit Regression Results                           \n",
       "==============================================================================\n",
       "Dep. Variable:        Service_Ratings   No. Observations:                  700\n",
       "Model:                          Logit   Df Residuals:                      693\n",
       "Method:                           MLE   Df Model:                            6\n",
       "Date:                Sat, 26 Oct 2024   Pseudo R-squ.:               -0.004104\n",
       "Time:                        21:45:06   Log-Likelihood:                -440.61\n",
       "converged:                       True   LL-Null:                       -438.81\n",
       "Covariance Type:            nonrobust   LLR p-value:                     1.000\n",
       "===================================================================================================\n",
       "                                      coef    std err          z      P>|z|      [0.025      0.975]\n",
       "---------------------------------------------------------------------------------------------------\n",
       "Location_Category_Suburban          0.4300      0.184      2.337      0.019       0.069       0.791\n",
       "Location_Category_Urban             0.5445      0.174      3.136      0.002       0.204       0.885\n",
       "Customer_Loyalty_Status_Regular     0.4368      0.183      2.388      0.017       0.078       0.795\n",
       "Customer_Loyalty_Status_Silver      0.5351      0.171      3.130      0.002       0.200       0.870\n",
       "Time_of_Booking_Evening            -0.3410      0.192     -1.774      0.076      -0.718       0.036\n",
       "Time_of_Booking_Night              -0.1358      0.179     -0.758      0.448      -0.487       0.215\n",
       "Vehicle_Type_Premium                0.1909      0.148      1.286      0.198      -0.100       0.482\n",
       "===================================================================================================\n",
       "\"\"\""
      ]
     },
     "execution_count": 151,
     "metadata": {},
     "output_type": "execute_result"
    }
   ],
   "source": [
    "result_2.summary()"
   ]
  },
  {
   "cell_type": "markdown",
   "id": "8fa48837-1f03-4a11-b8b2-f43ddd672c46",
   "metadata": {},
   "source": [
    "##### Evaluar el modelo lasso"
   ]
  },
  {
   "cell_type": "code",
   "execution_count": 153,
   "id": "77efa9cd-351d-49ef-aa11-a59732ffb1c9",
   "metadata": {},
   "outputs": [],
   "source": [
    "# Obtener los coeficientes (log-odds)\n",
    "log_odds_2 = result_2.params"
   ]
  },
  {
   "cell_type": "code",
   "execution_count": 154,
   "id": "13915965-f5e7-4d34-8bc8-faa17a0d9a4b",
   "metadata": {},
   "outputs": [],
   "source": [
    "# Convertir a odds ratios\n",
    "odds_ratios_2 = np.exp(log_odds_2)"
   ]
  },
  {
   "cell_type": "code",
   "execution_count": 155,
   "id": "034a8b50-5f2b-4376-b6f0-96a012236e10",
   "metadata": {},
   "outputs": [
    {
     "data": {
      "text/plain": [
       "Location_Category_Suburban         0.019431\n",
       "Location_Category_Urban            0.001714\n",
       "Customer_Loyalty_Status_Regular    0.016922\n",
       "Customer_Loyalty_Status_Silver     0.001745\n",
       "Time_of_Booking_Evening            0.076033\n",
       "Time_of_Booking_Night              0.448329\n",
       "Vehicle_Type_Premium               0.198381\n",
       "dtype: float64"
      ]
     },
     "execution_count": 155,
     "metadata": {},
     "output_type": "execute_result"
    }
   ],
   "source": [
    "result_2.pvalues"
   ]
  },
  {
   "cell_type": "code",
   "execution_count": 156,
   "id": "2b4f564e-923b-435e-8839-5de2006943a9",
   "metadata": {},
   "outputs": [
    {
     "name": "stdout",
     "output_type": "stream",
     "text": [
      "                                     2.5%     97.5%  Odds Ratio\n",
      "Location_Category_Suburban       1.071859  2.204628    1.537221\n",
      "Location_Category_Urban          1.226509  2.422591    1.723754\n",
      "Customer_Loyalty_Status_Regular  1.081502  2.214914    1.547719\n",
      "Customer_Loyalty_Status_Silver   1.221499  2.387249    1.707636\n",
      "Time_of_Booking_Evening          0.487862  1.036354    0.711054\n",
      "Time_of_Booking_Night            0.614536  1.240189    0.873007\n",
      "Vehicle_Type_Premium             0.904843  1.618894    1.210308\n"
     ]
    }
   ],
   "source": [
    "# Intervalos de confianza de los coeficientes (log-odds)\n",
    "conf_2 = result_2.conf_int()\n",
    "\n",
    "# Añadimos los coeficientes al DataFrame de intervalos de confianza\n",
    "conf_2['Odds Ratio'] = odds_ratios_2\n",
    "\n",
    "# Exponenciamos los intervalos de confianza para obtenerlos en términos de odds ratios\n",
    "conf_2.columns = ['2.5%', '97.5%', 'Odds Ratio']\n",
    "conf_2['2.5%'] = np.exp(conf_2['2.5%'])\n",
    "conf_2['97.5%'] = np.exp(conf_2['97.5%'])\n",
    "\n",
    "# Mostramos los intervalos de confianza y odds ratios\n",
    "print(conf_2)"
   ]
  },
  {
   "cell_type": "code",
   "execution_count": 157,
   "id": "82c22547-d39c-4feb-a43b-2eb6037555b3",
   "metadata": {},
   "outputs": [],
   "source": [
    "y_pred_prob_2 = result_2.predict(x_test)"
   ]
  },
  {
   "cell_type": "code",
   "execution_count": 158,
   "id": "25a3ca6a-b1f7-45df-9598-c3e170aff3e5",
   "metadata": {},
   "outputs": [],
   "source": [
    "y_pred_log_2 = [1 if prob_2 > 0.5 else 0 for prob_2 in y_pred_prob_2]"
   ]
  },
  {
   "cell_type": "code",
   "execution_count": 159,
   "id": "5c6a63e2-41c4-4f75-bcd6-0d0c40fde886",
   "metadata": {},
   "outputs": [
    {
     "data": {
      "text/plain": [
       "array([[  6,  88],\n",
       "       [ 14, 192]], dtype=int64)"
      ]
     },
     "execution_count": 159,
     "metadata": {},
     "output_type": "execute_result"
    }
   ],
   "source": [
    "conf_matrix_2 = confusion_matrix(y_test, y_pred_log_2)\n",
    "conf_matrix_2"
   ]
  },
  {
   "cell_type": "code",
   "execution_count": 160,
   "id": "aad72459-d86a-4aac-8b37-eb3df5d3d693",
   "metadata": {},
   "outputs": [
    {
     "name": "stdout",
     "output_type": "stream",
     "text": [
      "              precision    recall  f1-score   support\n",
      "\n",
      "           0       0.30      0.06      0.11        94\n",
      "           1       0.69      0.93      0.79       206\n",
      "\n",
      "    accuracy                           0.66       300\n",
      "   macro avg       0.49      0.50      0.45       300\n",
      "weighted avg       0.56      0.66      0.58       300\n",
      "\n"
     ]
    }
   ],
   "source": [
    "print(classification_report(y_test, y_pred_log_2))"
   ]
  },
  {
   "cell_type": "markdown",
   "id": "9d4e3752-0ee2-462e-b9cc-c1627156930f",
   "metadata": {},
   "source": [
    "##### Generar un nuevo modelo con las variables establecidas por lasso"
   ]
  },
  {
   "cell_type": "code",
   "execution_count": 162,
   "id": "d9837882-9cee-4344-8f15-97b1fc973b89",
   "metadata": {},
   "outputs": [],
   "source": [
    "# Establecer las variables predictoras finales\n",
    "X_final = X[['Location_Category_Suburban','Location_Category_Urban', \n",
    "             'Customer_Loyalty_Status_Regular', 'Customer_Loyalty_Status_Silver']]"
   ]
  },
  {
   "cell_type": "code",
   "execution_count": 163,
   "id": "31139866-950f-4cc8-a803-55b054c4db22",
   "metadata": {
    "scrolled": true
   },
   "outputs": [
    {
     "data": {
      "text/html": [
       "<div>\n",
       "<style scoped>\n",
       "    .dataframe tbody tr th:only-of-type {\n",
       "        vertical-align: middle;\n",
       "    }\n",
       "\n",
       "    .dataframe tbody tr th {\n",
       "        vertical-align: top;\n",
       "    }\n",
       "\n",
       "    .dataframe thead th {\n",
       "        text-align: right;\n",
       "    }\n",
       "</style>\n",
       "<table border=\"1\" class=\"dataframe\">\n",
       "  <thead>\n",
       "    <tr style=\"text-align: right;\">\n",
       "      <th></th>\n",
       "      <th>Location_Category_Suburban</th>\n",
       "      <th>Location_Category_Urban</th>\n",
       "      <th>Customer_Loyalty_Status_Regular</th>\n",
       "      <th>Customer_Loyalty_Status_Silver</th>\n",
       "    </tr>\n",
       "  </thead>\n",
       "  <tbody>\n",
       "    <tr>\n",
       "      <th>0</th>\n",
       "      <td>0.0</td>\n",
       "      <td>1.0</td>\n",
       "      <td>0.0</td>\n",
       "      <td>1.0</td>\n",
       "    </tr>\n",
       "    <tr>\n",
       "      <th>1</th>\n",
       "      <td>1.0</td>\n",
       "      <td>0.0</td>\n",
       "      <td>0.0</td>\n",
       "      <td>1.0</td>\n",
       "    </tr>\n",
       "    <tr>\n",
       "      <th>2</th>\n",
       "      <td>0.0</td>\n",
       "      <td>0.0</td>\n",
       "      <td>0.0</td>\n",
       "      <td>1.0</td>\n",
       "    </tr>\n",
       "    <tr>\n",
       "      <th>3</th>\n",
       "      <td>0.0</td>\n",
       "      <td>0.0</td>\n",
       "      <td>1.0</td>\n",
       "      <td>0.0</td>\n",
       "    </tr>\n",
       "    <tr>\n",
       "      <th>4</th>\n",
       "      <td>0.0</td>\n",
       "      <td>0.0</td>\n",
       "      <td>1.0</td>\n",
       "      <td>0.0</td>\n",
       "    </tr>\n",
       "    <tr>\n",
       "      <th>...</th>\n",
       "      <td>...</td>\n",
       "      <td>...</td>\n",
       "      <td>...</td>\n",
       "      <td>...</td>\n",
       "    </tr>\n",
       "    <tr>\n",
       "      <th>995</th>\n",
       "      <td>0.0</td>\n",
       "      <td>1.0</td>\n",
       "      <td>0.0</td>\n",
       "      <td>0.0</td>\n",
       "    </tr>\n",
       "    <tr>\n",
       "      <th>996</th>\n",
       "      <td>0.0</td>\n",
       "      <td>1.0</td>\n",
       "      <td>1.0</td>\n",
       "      <td>0.0</td>\n",
       "    </tr>\n",
       "    <tr>\n",
       "      <th>997</th>\n",
       "      <td>1.0</td>\n",
       "      <td>0.0</td>\n",
       "      <td>0.0</td>\n",
       "      <td>0.0</td>\n",
       "    </tr>\n",
       "    <tr>\n",
       "      <th>998</th>\n",
       "      <td>1.0</td>\n",
       "      <td>0.0</td>\n",
       "      <td>1.0</td>\n",
       "      <td>0.0</td>\n",
       "    </tr>\n",
       "    <tr>\n",
       "      <th>999</th>\n",
       "      <td>0.0</td>\n",
       "      <td>0.0</td>\n",
       "      <td>0.0</td>\n",
       "      <td>0.0</td>\n",
       "    </tr>\n",
       "  </tbody>\n",
       "</table>\n",
       "<p>1000 rows × 4 columns</p>\n",
       "</div>"
      ],
      "text/plain": [
       "     Location_Category_Suburban  Location_Category_Urban  \\\n",
       "0                           0.0                      1.0   \n",
       "1                           1.0                      0.0   \n",
       "2                           0.0                      0.0   \n",
       "3                           0.0                      0.0   \n",
       "4                           0.0                      0.0   \n",
       "..                          ...                      ...   \n",
       "995                         0.0                      1.0   \n",
       "996                         0.0                      1.0   \n",
       "997                         1.0                      0.0   \n",
       "998                         1.0                      0.0   \n",
       "999                         0.0                      0.0   \n",
       "\n",
       "     Customer_Loyalty_Status_Regular  Customer_Loyalty_Status_Silver  \n",
       "0                                0.0                             1.0  \n",
       "1                                0.0                             1.0  \n",
       "2                                0.0                             1.0  \n",
       "3                                1.0                             0.0  \n",
       "4                                1.0                             0.0  \n",
       "..                               ...                             ...  \n",
       "995                              0.0                             0.0  \n",
       "996                              1.0                             0.0  \n",
       "997                              0.0                             0.0  \n",
       "998                              1.0                             0.0  \n",
       "999                              0.0                             0.0  \n",
       "\n",
       "[1000 rows x 4 columns]"
      ]
     },
     "execution_count": 163,
     "metadata": {},
     "output_type": "execute_result"
    }
   ],
   "source": [
    "X_final"
   ]
  },
  {
   "cell_type": "code",
   "execution_count": 164,
   "id": "5d86cc7c-91d5-40fe-b556-00864056d885",
   "metadata": {},
   "outputs": [],
   "source": [
    "# Dividir de nuevo los datos\n",
    "x_train, x_test, y_train, y_test = train_test_split(X_final, Y, test_size=0.3, random_state=000)"
   ]
  },
  {
   "cell_type": "code",
   "execution_count": 165,
   "id": "1cc633fe-51c9-492a-948a-4b3ab6f43f15",
   "metadata": {},
   "outputs": [
    {
     "data": {
      "text/plain": [
       "(700, 4)"
      ]
     },
     "execution_count": 165,
     "metadata": {},
     "output_type": "execute_result"
    }
   ],
   "source": [
    "x_train.shape"
   ]
  },
  {
   "cell_type": "code",
   "execution_count": 166,
   "id": "bb0253ad-ba6f-480c-a640-e7d5f25f33d8",
   "metadata": {},
   "outputs": [],
   "source": [
    "# entrenar al modelo final\n",
    "logit_model_f = sm.Logit(y_train, x_train)"
   ]
  },
  {
   "cell_type": "code",
   "execution_count": 167,
   "id": "ba5510d0-c5e2-4825-9125-30706134ece1",
   "metadata": {},
   "outputs": [
    {
     "name": "stdout",
     "output_type": "stream",
     "text": [
      "Optimization terminated successfully.\n",
      "         Current function value: 0.632369\n",
      "         Iterations 5\n"
     ]
    }
   ],
   "source": [
    "result_f = logit_model_f.fit()"
   ]
  },
  {
   "cell_type": "code",
   "execution_count": 168,
   "id": "66ae1800-9d74-4fb9-b5f0-a36243669cbd",
   "metadata": {},
   "outputs": [
    {
     "data": {
      "text/html": [
       "<table class=\"simpletable\">\n",
       "<caption>Logit Regression Results</caption>\n",
       "<tr>\n",
       "  <th>Dep. Variable:</th>    <td>Service_Ratings</td> <th>  No. Observations:  </th>  <td>   700</td>  \n",
       "</tr>\n",
       "<tr>\n",
       "  <th>Model:</th>                 <td>Logit</td>      <th>  Df Residuals:      </th>  <td>   696</td>  \n",
       "</tr>\n",
       "<tr>\n",
       "  <th>Method:</th>                 <td>MLE</td>       <th>  Df Model:          </th>  <td>     3</td>  \n",
       "</tr>\n",
       "<tr>\n",
       "  <th>Date:</th>            <td>Sat, 26 Oct 2024</td> <th>  Pseudo R-squ.:     </th> <td>-0.008773</td>\n",
       "</tr>\n",
       "<tr>\n",
       "  <th>Time:</th>                <td>21:45:07</td>     <th>  Log-Likelihood:    </th> <td> -442.66</td> \n",
       "</tr>\n",
       "<tr>\n",
       "  <th>converged:</th>             <td>True</td>       <th>  LL-Null:           </th> <td> -438.81</td> \n",
       "</tr>\n",
       "<tr>\n",
       "  <th>Covariance Type:</th>     <td>nonrobust</td>    <th>  LLR p-value:       </th>  <td> 1.000</td>  \n",
       "</tr>\n",
       "</table>\n",
       "<table class=\"simpletable\">\n",
       "<tr>\n",
       "                 <td></td>                    <th>coef</th>     <th>std err</th>      <th>z</th>      <th>P>|z|</th>  <th>[0.025</th>    <th>0.975]</th>  \n",
       "</tr>\n",
       "<tr>\n",
       "  <th>Location_Category_Suburban</th>      <td>    0.4278</td> <td>    0.175</td> <td>    2.442</td> <td> 0.015</td> <td>    0.084</td> <td>    0.771</td>\n",
       "</tr>\n",
       "<tr>\n",
       "  <th>Location_Category_Urban</th>         <td>    0.5413</td> <td>    0.162</td> <td>    3.350</td> <td> 0.001</td> <td>    0.225</td> <td>    0.858</td>\n",
       "</tr>\n",
       "<tr>\n",
       "  <th>Customer_Loyalty_Status_Regular</th> <td>    0.4215</td> <td>    0.172</td> <td>    2.450</td> <td> 0.014</td> <td>    0.084</td> <td>    0.759</td>\n",
       "</tr>\n",
       "<tr>\n",
       "  <th>Customer_Loyalty_Status_Silver</th>  <td>    0.5086</td> <td>    0.160</td> <td>    3.177</td> <td> 0.001</td> <td>    0.195</td> <td>    0.822</td>\n",
       "</tr>\n",
       "</table>"
      ],
      "text/latex": [
       "\\begin{center}\n",
       "\\begin{tabular}{lclc}\n",
       "\\toprule\n",
       "\\textbf{Dep. Variable:}                     & Service\\_Ratings & \\textbf{  No. Observations:  } &      700    \\\\\n",
       "\\textbf{Model:}                             &      Logit       & \\textbf{  Df Residuals:      } &      696    \\\\\n",
       "\\textbf{Method:}                            &       MLE        & \\textbf{  Df Model:          } &        3    \\\\\n",
       "\\textbf{Date:}                              & Sat, 26 Oct 2024 & \\textbf{  Pseudo R-squ.:     } & -0.008773   \\\\\n",
       "\\textbf{Time:}                              &     21:45:07     & \\textbf{  Log-Likelihood:    } &   -442.66   \\\\\n",
       "\\textbf{converged:}                         &       True       & \\textbf{  LL-Null:           } &   -438.81   \\\\\n",
       "\\textbf{Covariance Type:}                   &    nonrobust     & \\textbf{  LLR p-value:       } &    1.000    \\\\\n",
       "\\bottomrule\n",
       "\\end{tabular}\n",
       "\\begin{tabular}{lcccccc}\n",
       "                                            & \\textbf{coef} & \\textbf{std err} & \\textbf{z} & \\textbf{P$> |$z$|$} & \\textbf{[0.025} & \\textbf{0.975]}  \\\\\n",
       "\\midrule\n",
       "\\textbf{Location\\_Category\\_Suburban}       &       0.4278  &        0.175     &     2.442  &         0.015        &        0.084    &        0.771     \\\\\n",
       "\\textbf{Location\\_Category\\_Urban}          &       0.5413  &        0.162     &     3.350  &         0.001        &        0.225    &        0.858     \\\\\n",
       "\\textbf{Customer\\_Loyalty\\_Status\\_Regular} &       0.4215  &        0.172     &     2.450  &         0.014        &        0.084    &        0.759     \\\\\n",
       "\\textbf{Customer\\_Loyalty\\_Status\\_Silver}  &       0.5086  &        0.160     &     3.177  &         0.001        &        0.195    &        0.822     \\\\\n",
       "\\bottomrule\n",
       "\\end{tabular}\n",
       "%\\caption{Logit Regression Results}\n",
       "\\end{center}"
      ],
      "text/plain": [
       "<class 'statsmodels.iolib.summary.Summary'>\n",
       "\"\"\"\n",
       "                           Logit Regression Results                           \n",
       "==============================================================================\n",
       "Dep. Variable:        Service_Ratings   No. Observations:                  700\n",
       "Model:                          Logit   Df Residuals:                      696\n",
       "Method:                           MLE   Df Model:                            3\n",
       "Date:                Sat, 26 Oct 2024   Pseudo R-squ.:               -0.008773\n",
       "Time:                        21:45:07   Log-Likelihood:                -442.66\n",
       "converged:                       True   LL-Null:                       -438.81\n",
       "Covariance Type:            nonrobust   LLR p-value:                     1.000\n",
       "===================================================================================================\n",
       "                                      coef    std err          z      P>|z|      [0.025      0.975]\n",
       "---------------------------------------------------------------------------------------------------\n",
       "Location_Category_Suburban          0.4278      0.175      2.442      0.015       0.084       0.771\n",
       "Location_Category_Urban             0.5413      0.162      3.350      0.001       0.225       0.858\n",
       "Customer_Loyalty_Status_Regular     0.4215      0.172      2.450      0.014       0.084       0.759\n",
       "Customer_Loyalty_Status_Silver      0.5086      0.160      3.177      0.001       0.195       0.822\n",
       "===================================================================================================\n",
       "\"\"\""
      ]
     },
     "execution_count": 168,
     "metadata": {},
     "output_type": "execute_result"
    }
   ],
   "source": [
    "result_f.summary()"
   ]
  },
  {
   "cell_type": "code",
   "execution_count": 169,
   "id": "ee7b0ef8-3712-4afa-b9a4-7d0fba992cd7",
   "metadata": {},
   "outputs": [],
   "source": [
    "# evaluar el modelo final\n",
    "y_pred_prob_f = result_f.predict(x_test)"
   ]
  },
  {
   "cell_type": "code",
   "execution_count": 170,
   "id": "4f2a73ca-cf85-4f22-adf3-f359303a7118",
   "metadata": {},
   "outputs": [],
   "source": [
    "y_pred_log_f = [1 if prob_f > 0.5 else 0 for prob_f in y_pred_prob_f]"
   ]
  },
  {
   "cell_type": "code",
   "execution_count": 171,
   "id": "640df981-f45a-463d-8ae4-30ad0fc7901c",
   "metadata": {},
   "outputs": [
    {
     "data": {
      "text/plain": [
       "array([[ 10,  84],\n",
       "       [ 22, 184]], dtype=int64)"
      ]
     },
     "execution_count": 171,
     "metadata": {},
     "output_type": "execute_result"
    }
   ],
   "source": [
    "conf_matrix_f = confusion_matrix(y_test, y_pred_log_f)\n",
    "conf_matrix_f"
   ]
  },
  {
   "cell_type": "code",
   "execution_count": 172,
   "id": "7c386490-145d-402a-986f-598ea782e3fb",
   "metadata": {},
   "outputs": [
    {
     "name": "stdout",
     "output_type": "stream",
     "text": [
      "              precision    recall  f1-score   support\n",
      "\n",
      "           0       0.31      0.11      0.16        94\n",
      "           1       0.69      0.89      0.78       206\n",
      "\n",
      "    accuracy                           0.65       300\n",
      "   macro avg       0.50      0.50      0.47       300\n",
      "weighted avg       0.57      0.65      0.58       300\n",
      "\n"
     ]
    }
   ],
   "source": [
    "print(classification_report(y_test, y_pred_log_f))"
   ]
  },
  {
   "cell_type": "code",
   "execution_count": 173,
   "id": "66e77853-b79d-43c5-9361-8269225480d2",
   "metadata": {},
   "outputs": [],
   "source": [
    "# generar datos para ua predicción nueva\n",
    "clasificacion = pd.DataFrame({\n",
    "    'Location_Category_Suburban':[0],\n",
    "    'Location_Category_Urban':[1],\n",
    "    'Customer_Loyalty_Status_Regular':[0],\n",
    "    'Customer_Loyalty_Status_Silver':[1]\n",
    "})"
   ]
  },
  {
   "cell_type": "code",
   "execution_count": 174,
   "id": "b13caf05-150b-4a5a-86df-ba95ba9dcd59",
   "metadata": {},
   "outputs": [
    {
     "data": {
      "text/html": [
       "<div>\n",
       "<style scoped>\n",
       "    .dataframe tbody tr th:only-of-type {\n",
       "        vertical-align: middle;\n",
       "    }\n",
       "\n",
       "    .dataframe tbody tr th {\n",
       "        vertical-align: top;\n",
       "    }\n",
       "\n",
       "    .dataframe thead th {\n",
       "        text-align: right;\n",
       "    }\n",
       "</style>\n",
       "<table border=\"1\" class=\"dataframe\">\n",
       "  <thead>\n",
       "    <tr style=\"text-align: right;\">\n",
       "      <th></th>\n",
       "      <th>Location_Category_Suburban</th>\n",
       "      <th>Location_Category_Urban</th>\n",
       "      <th>Customer_Loyalty_Status_Regular</th>\n",
       "      <th>Customer_Loyalty_Status_Silver</th>\n",
       "    </tr>\n",
       "  </thead>\n",
       "  <tbody>\n",
       "    <tr>\n",
       "      <th>0</th>\n",
       "      <td>0</td>\n",
       "      <td>1</td>\n",
       "      <td>0</td>\n",
       "      <td>1</td>\n",
       "    </tr>\n",
       "  </tbody>\n",
       "</table>\n",
       "</div>"
      ],
      "text/plain": [
       "   Location_Category_Suburban  Location_Category_Urban  \\\n",
       "0                           0                        1   \n",
       "\n",
       "   Customer_Loyalty_Status_Regular  Customer_Loyalty_Status_Silver  \n",
       "0                                0                               1  "
      ]
     },
     "execution_count": 174,
     "metadata": {},
     "output_type": "execute_result"
    }
   ],
   "source": [
    "clasificacion"
   ]
  },
  {
   "cell_type": "code",
   "execution_count": 175,
   "id": "aaba8eb5-2349-46b2-9870-d917048abed1",
   "metadata": {},
   "outputs": [],
   "source": [
    "y_pred_prob_nw = result_f.predict(clasificacion)"
   ]
  },
  {
   "cell_type": "code",
   "execution_count": 176,
   "id": "09d02cd5-9bb3-44f4-9e58-6210311a8633",
   "metadata": {},
   "outputs": [],
   "source": [
    "y_pred_log_nueva = [1 if prob_nw > 0.5 else 0 for prob_nw in y_pred_prob_nw]"
   ]
  },
  {
   "cell_type": "code",
   "execution_count": 177,
   "id": "e04edcb4-7b57-459e-b207-76bb24890f81",
   "metadata": {},
   "outputs": [
    {
     "name": "stdout",
     "output_type": "stream",
     "text": [
      "Calificación Excelente\n"
     ]
    }
   ],
   "source": [
    "if y_pred_log_nueva[0] == 1:\n",
    "    print('Calificación Excelente')\n",
    "else:\n",
    "    print('Calificacion regular')"
   ]
  },
  {
   "cell_type": "code",
   "execution_count": null,
   "id": "60972825-98f1-45df-a47a-f1c807976678",
   "metadata": {},
   "outputs": [],
   "source": []
  },
  {
   "cell_type": "markdown",
   "id": "b1b9bedb-d8e8-436f-8e94-5db156a4d776",
   "metadata": {},
   "source": [
    "### Probar un modelo con variables diferentes"
   ]
  },
  {
   "cell_type": "markdown",
   "id": "f7a890f3-5884-41b5-99a4-cf0bc64b7bc9",
   "metadata": {},
   "source": [
    "#### Modelo 1"
   ]
  },
  {
   "cell_type": "code",
   "execution_count": 180,
   "id": "55652522-818e-4b81-8b38-301a5182f6d6",
   "metadata": {},
   "outputs": [
    {
     "data": {
      "text/plain": [
       "Index(['Number_of_Riders', 'Number_of_Drivers', 'Location_Category',\n",
       "       'Customer_Loyalty_Status', 'Number_of_Past_Rides', 'Average_Ratings',\n",
       "       'Time_of_Booking', 'Vehicle_Type', 'Expected_Ride_Duration',\n",
       "       'Historical_Cost_of_Ride', 'Service_Ratings'],\n",
       "      dtype='object')"
      ]
     },
     "execution_count": 180,
     "metadata": {},
     "output_type": "execute_result"
    }
   ],
   "source": [
    "datos.columns"
   ]
  },
  {
   "cell_type": "code",
   "execution_count": 181,
   "id": "2ded0784-b598-4138-8a03-f62d99ce8d2e",
   "metadata": {},
   "outputs": [],
   "source": [
    "datos_num = datos[['Number_of_Riders', 'Number_of_Drivers', \n",
    "                   'Number_of_Past_Rides','Expected_Ride_Duration', 'Service_Ratings' ]]"
   ]
  },
  {
   "cell_type": "code",
   "execution_count": 182,
   "id": "7b71e737-9b4b-48e4-af0a-3c8d908738f6",
   "metadata": {},
   "outputs": [
    {
     "data": {
      "text/plain": [
       "pandas.core.frame.DataFrame"
      ]
     },
     "execution_count": 182,
     "metadata": {},
     "output_type": "execute_result"
    }
   ],
   "source": [
    "type(datos_num)"
   ]
  },
  {
   "cell_type": "code",
   "execution_count": 183,
   "id": "4a175db3-34b6-42b2-a0aa-0af652228ed9",
   "metadata": {},
   "outputs": [],
   "source": [
    "# Convertir variables categóricas a numéricas usando OneHotEncoder\n",
    "encoder = OneHotEncoder(drop='first', sparse_output=False) # elimina la primer variable dummy de cada una de las generadas y mantener los ceros\n",
    "X_encoded_new = encoder.fit_transform(X_features)"
   ]
  },
  {
   "cell_type": "code",
   "execution_count": 184,
   "id": "57d04845-06b7-4a6b-8269-902069951125",
   "metadata": {},
   "outputs": [],
   "source": [
    "# Obtener los nombres de las nuevas columnas después de la codificación\n",
    "column_names = encoder.get_feature_names_out(X_features.columns)"
   ]
  },
  {
   "cell_type": "code",
   "execution_count": 185,
   "id": "1c787495-6d21-452b-b06a-e2ed3867fbf5",
   "metadata": {},
   "outputs": [],
   "source": [
    "# Convertir el resultado a un DataFrame de pandas con nombres de columnas, ya que onehotencoder retorna un array (sin nombres de cols)\n",
    "X_lasso = pd.DataFrame(X_encoded_new, columns=column_names)"
   ]
  },
  {
   "cell_type": "code",
   "execution_count": 186,
   "id": "6d99fee7-d6ee-410d-83d4-06c322083e2d",
   "metadata": {
    "scrolled": true
   },
   "outputs": [
    {
     "data": {
      "text/html": [
       "<div>\n",
       "<style scoped>\n",
       "    .dataframe tbody tr th:only-of-type {\n",
       "        vertical-align: middle;\n",
       "    }\n",
       "\n",
       "    .dataframe tbody tr th {\n",
       "        vertical-align: top;\n",
       "    }\n",
       "\n",
       "    .dataframe thead th {\n",
       "        text-align: right;\n",
       "    }\n",
       "</style>\n",
       "<table border=\"1\" class=\"dataframe\">\n",
       "  <thead>\n",
       "    <tr style=\"text-align: right;\">\n",
       "      <th></th>\n",
       "      <th>Location_Category_Suburban</th>\n",
       "      <th>Location_Category_Urban</th>\n",
       "      <th>Customer_Loyalty_Status_Regular</th>\n",
       "      <th>Customer_Loyalty_Status_Silver</th>\n",
       "      <th>Time_of_Booking_Evening</th>\n",
       "      <th>Time_of_Booking_Morning</th>\n",
       "      <th>Time_of_Booking_Night</th>\n",
       "      <th>Vehicle_Type_Premium</th>\n",
       "    </tr>\n",
       "  </thead>\n",
       "  <tbody>\n",
       "    <tr>\n",
       "      <th>0</th>\n",
       "      <td>0.0</td>\n",
       "      <td>1.0</td>\n",
       "      <td>0.0</td>\n",
       "      <td>1.0</td>\n",
       "      <td>0.0</td>\n",
       "      <td>0.0</td>\n",
       "      <td>1.0</td>\n",
       "      <td>1.0</td>\n",
       "    </tr>\n",
       "    <tr>\n",
       "      <th>1</th>\n",
       "      <td>1.0</td>\n",
       "      <td>0.0</td>\n",
       "      <td>0.0</td>\n",
       "      <td>1.0</td>\n",
       "      <td>1.0</td>\n",
       "      <td>0.0</td>\n",
       "      <td>0.0</td>\n",
       "      <td>0.0</td>\n",
       "    </tr>\n",
       "    <tr>\n",
       "      <th>2</th>\n",
       "      <td>0.0</td>\n",
       "      <td>0.0</td>\n",
       "      <td>0.0</td>\n",
       "      <td>1.0</td>\n",
       "      <td>0.0</td>\n",
       "      <td>0.0</td>\n",
       "      <td>0.0</td>\n",
       "      <td>1.0</td>\n",
       "    </tr>\n",
       "    <tr>\n",
       "      <th>3</th>\n",
       "      <td>0.0</td>\n",
       "      <td>0.0</td>\n",
       "      <td>1.0</td>\n",
       "      <td>0.0</td>\n",
       "      <td>0.0</td>\n",
       "      <td>0.0</td>\n",
       "      <td>0.0</td>\n",
       "      <td>1.0</td>\n",
       "    </tr>\n",
       "    <tr>\n",
       "      <th>4</th>\n",
       "      <td>0.0</td>\n",
       "      <td>0.0</td>\n",
       "      <td>1.0</td>\n",
       "      <td>0.0</td>\n",
       "      <td>0.0</td>\n",
       "      <td>0.0</td>\n",
       "      <td>0.0</td>\n",
       "      <td>0.0</td>\n",
       "    </tr>\n",
       "    <tr>\n",
       "      <th>...</th>\n",
       "      <td>...</td>\n",
       "      <td>...</td>\n",
       "      <td>...</td>\n",
       "      <td>...</td>\n",
       "      <td>...</td>\n",
       "      <td>...</td>\n",
       "      <td>...</td>\n",
       "      <td>...</td>\n",
       "    </tr>\n",
       "    <tr>\n",
       "      <th>995</th>\n",
       "      <td>0.0</td>\n",
       "      <td>1.0</td>\n",
       "      <td>0.0</td>\n",
       "      <td>0.0</td>\n",
       "      <td>0.0</td>\n",
       "      <td>1.0</td>\n",
       "      <td>0.0</td>\n",
       "      <td>1.0</td>\n",
       "    </tr>\n",
       "    <tr>\n",
       "      <th>996</th>\n",
       "      <td>0.0</td>\n",
       "      <td>1.0</td>\n",
       "      <td>1.0</td>\n",
       "      <td>0.0</td>\n",
       "      <td>0.0</td>\n",
       "      <td>1.0</td>\n",
       "      <td>0.0</td>\n",
       "      <td>1.0</td>\n",
       "    </tr>\n",
       "    <tr>\n",
       "      <th>997</th>\n",
       "      <td>1.0</td>\n",
       "      <td>0.0</td>\n",
       "      <td>0.0</td>\n",
       "      <td>0.0</td>\n",
       "      <td>0.0</td>\n",
       "      <td>0.0</td>\n",
       "      <td>1.0</td>\n",
       "      <td>1.0</td>\n",
       "    </tr>\n",
       "    <tr>\n",
       "      <th>998</th>\n",
       "      <td>1.0</td>\n",
       "      <td>0.0</td>\n",
       "      <td>1.0</td>\n",
       "      <td>0.0</td>\n",
       "      <td>0.0</td>\n",
       "      <td>0.0</td>\n",
       "      <td>1.0</td>\n",
       "      <td>1.0</td>\n",
       "    </tr>\n",
       "    <tr>\n",
       "      <th>999</th>\n",
       "      <td>0.0</td>\n",
       "      <td>0.0</td>\n",
       "      <td>0.0</td>\n",
       "      <td>0.0</td>\n",
       "      <td>0.0</td>\n",
       "      <td>0.0</td>\n",
       "      <td>0.0</td>\n",
       "      <td>0.0</td>\n",
       "    </tr>\n",
       "  </tbody>\n",
       "</table>\n",
       "<p>1000 rows × 8 columns</p>\n",
       "</div>"
      ],
      "text/plain": [
       "     Location_Category_Suburban  Location_Category_Urban  \\\n",
       "0                           0.0                      1.0   \n",
       "1                           1.0                      0.0   \n",
       "2                           0.0                      0.0   \n",
       "3                           0.0                      0.0   \n",
       "4                           0.0                      0.0   \n",
       "..                          ...                      ...   \n",
       "995                         0.0                      1.0   \n",
       "996                         0.0                      1.0   \n",
       "997                         1.0                      0.0   \n",
       "998                         1.0                      0.0   \n",
       "999                         0.0                      0.0   \n",
       "\n",
       "     Customer_Loyalty_Status_Regular  Customer_Loyalty_Status_Silver  \\\n",
       "0                                0.0                             1.0   \n",
       "1                                0.0                             1.0   \n",
       "2                                0.0                             1.0   \n",
       "3                                1.0                             0.0   \n",
       "4                                1.0                             0.0   \n",
       "..                               ...                             ...   \n",
       "995                              0.0                             0.0   \n",
       "996                              1.0                             0.0   \n",
       "997                              0.0                             0.0   \n",
       "998                              1.0                             0.0   \n",
       "999                              0.0                             0.0   \n",
       "\n",
       "     Time_of_Booking_Evening  Time_of_Booking_Morning  Time_of_Booking_Night  \\\n",
       "0                        0.0                      0.0                    1.0   \n",
       "1                        1.0                      0.0                    0.0   \n",
       "2                        0.0                      0.0                    0.0   \n",
       "3                        0.0                      0.0                    0.0   \n",
       "4                        0.0                      0.0                    0.0   \n",
       "..                       ...                      ...                    ...   \n",
       "995                      0.0                      1.0                    0.0   \n",
       "996                      0.0                      1.0                    0.0   \n",
       "997                      0.0                      0.0                    1.0   \n",
       "998                      0.0                      0.0                    1.0   \n",
       "999                      0.0                      0.0                    0.0   \n",
       "\n",
       "     Vehicle_Type_Premium  \n",
       "0                     1.0  \n",
       "1                     0.0  \n",
       "2                     1.0  \n",
       "3                     1.0  \n",
       "4                     0.0  \n",
       "..                    ...  \n",
       "995                   1.0  \n",
       "996                   1.0  \n",
       "997                   1.0  \n",
       "998                   1.0  \n",
       "999                   0.0  \n",
       "\n",
       "[1000 rows x 8 columns]"
      ]
     },
     "execution_count": 186,
     "metadata": {},
     "output_type": "execute_result"
    }
   ],
   "source": [
    "X_lasso"
   ]
  },
  {
   "cell_type": "code",
   "execution_count": 187,
   "id": "bd47d57f-e3b3-4abc-b8aa-c29124144c76",
   "metadata": {},
   "outputs": [],
   "source": [
    "df_new_lasso = pd.concat([datos_num, X_lasso], axis=1)"
   ]
  },
  {
   "cell_type": "code",
   "execution_count": 188,
   "id": "2cc8dded-4ffb-4d8a-af8c-983ae98db39d",
   "metadata": {
    "scrolled": true
   },
   "outputs": [
    {
     "data": {
      "text/html": [
       "<div>\n",
       "<style scoped>\n",
       "    .dataframe tbody tr th:only-of-type {\n",
       "        vertical-align: middle;\n",
       "    }\n",
       "\n",
       "    .dataframe tbody tr th {\n",
       "        vertical-align: top;\n",
       "    }\n",
       "\n",
       "    .dataframe thead th {\n",
       "        text-align: right;\n",
       "    }\n",
       "</style>\n",
       "<table border=\"1\" class=\"dataframe\">\n",
       "  <thead>\n",
       "    <tr style=\"text-align: right;\">\n",
       "      <th></th>\n",
       "      <th>Number_of_Riders</th>\n",
       "      <th>Number_of_Drivers</th>\n",
       "      <th>Number_of_Past_Rides</th>\n",
       "      <th>Expected_Ride_Duration</th>\n",
       "      <th>Service_Ratings</th>\n",
       "      <th>Location_Category_Suburban</th>\n",
       "      <th>Location_Category_Urban</th>\n",
       "      <th>Customer_Loyalty_Status_Regular</th>\n",
       "      <th>Customer_Loyalty_Status_Silver</th>\n",
       "      <th>Time_of_Booking_Evening</th>\n",
       "      <th>Time_of_Booking_Morning</th>\n",
       "      <th>Time_of_Booking_Night</th>\n",
       "      <th>Vehicle_Type_Premium</th>\n",
       "    </tr>\n",
       "  </thead>\n",
       "  <tbody>\n",
       "    <tr>\n",
       "      <th>0</th>\n",
       "      <td>90</td>\n",
       "      <td>45</td>\n",
       "      <td>13</td>\n",
       "      <td>90</td>\n",
       "      <td>1</td>\n",
       "      <td>0.0</td>\n",
       "      <td>1.0</td>\n",
       "      <td>0.0</td>\n",
       "      <td>1.0</td>\n",
       "      <td>0.0</td>\n",
       "      <td>0.0</td>\n",
       "      <td>1.0</td>\n",
       "      <td>1.0</td>\n",
       "    </tr>\n",
       "    <tr>\n",
       "      <th>1</th>\n",
       "      <td>58</td>\n",
       "      <td>39</td>\n",
       "      <td>72</td>\n",
       "      <td>43</td>\n",
       "      <td>1</td>\n",
       "      <td>1.0</td>\n",
       "      <td>0.0</td>\n",
       "      <td>0.0</td>\n",
       "      <td>1.0</td>\n",
       "      <td>1.0</td>\n",
       "      <td>0.0</td>\n",
       "      <td>0.0</td>\n",
       "      <td>0.0</td>\n",
       "    </tr>\n",
       "    <tr>\n",
       "      <th>2</th>\n",
       "      <td>42</td>\n",
       "      <td>31</td>\n",
       "      <td>0</td>\n",
       "      <td>76</td>\n",
       "      <td>0</td>\n",
       "      <td>0.0</td>\n",
       "      <td>0.0</td>\n",
       "      <td>0.0</td>\n",
       "      <td>1.0</td>\n",
       "      <td>0.0</td>\n",
       "      <td>0.0</td>\n",
       "      <td>0.0</td>\n",
       "      <td>1.0</td>\n",
       "    </tr>\n",
       "    <tr>\n",
       "      <th>3</th>\n",
       "      <td>89</td>\n",
       "      <td>28</td>\n",
       "      <td>67</td>\n",
       "      <td>134</td>\n",
       "      <td>1</td>\n",
       "      <td>0.0</td>\n",
       "      <td>0.0</td>\n",
       "      <td>1.0</td>\n",
       "      <td>0.0</td>\n",
       "      <td>0.0</td>\n",
       "      <td>0.0</td>\n",
       "      <td>0.0</td>\n",
       "      <td>1.0</td>\n",
       "    </tr>\n",
       "    <tr>\n",
       "      <th>4</th>\n",
       "      <td>78</td>\n",
       "      <td>22</td>\n",
       "      <td>74</td>\n",
       "      <td>149</td>\n",
       "      <td>0</td>\n",
       "      <td>0.0</td>\n",
       "      <td>0.0</td>\n",
       "      <td>1.0</td>\n",
       "      <td>0.0</td>\n",
       "      <td>0.0</td>\n",
       "      <td>0.0</td>\n",
       "      <td>0.0</td>\n",
       "      <td>0.0</td>\n",
       "    </tr>\n",
       "    <tr>\n",
       "      <th>...</th>\n",
       "      <td>...</td>\n",
       "      <td>...</td>\n",
       "      <td>...</td>\n",
       "      <td>...</td>\n",
       "      <td>...</td>\n",
       "      <td>...</td>\n",
       "      <td>...</td>\n",
       "      <td>...</td>\n",
       "      <td>...</td>\n",
       "      <td>...</td>\n",
       "      <td>...</td>\n",
       "      <td>...</td>\n",
       "      <td>...</td>\n",
       "    </tr>\n",
       "    <tr>\n",
       "      <th>995</th>\n",
       "      <td>33</td>\n",
       "      <td>23</td>\n",
       "      <td>24</td>\n",
       "      <td>11</td>\n",
       "      <td>1</td>\n",
       "      <td>0.0</td>\n",
       "      <td>1.0</td>\n",
       "      <td>0.0</td>\n",
       "      <td>0.0</td>\n",
       "      <td>0.0</td>\n",
       "      <td>1.0</td>\n",
       "      <td>0.0</td>\n",
       "      <td>1.0</td>\n",
       "    </tr>\n",
       "    <tr>\n",
       "      <th>996</th>\n",
       "      <td>84</td>\n",
       "      <td>29</td>\n",
       "      <td>92</td>\n",
       "      <td>94</td>\n",
       "      <td>1</td>\n",
       "      <td>0.0</td>\n",
       "      <td>1.0</td>\n",
       "      <td>1.0</td>\n",
       "      <td>0.0</td>\n",
       "      <td>0.0</td>\n",
       "      <td>1.0</td>\n",
       "      <td>0.0</td>\n",
       "      <td>1.0</td>\n",
       "    </tr>\n",
       "    <tr>\n",
       "      <th>997</th>\n",
       "      <td>44</td>\n",
       "      <td>6</td>\n",
       "      <td>80</td>\n",
       "      <td>40</td>\n",
       "      <td>1</td>\n",
       "      <td>1.0</td>\n",
       "      <td>0.0</td>\n",
       "      <td>0.0</td>\n",
       "      <td>0.0</td>\n",
       "      <td>0.0</td>\n",
       "      <td>0.0</td>\n",
       "      <td>1.0</td>\n",
       "      <td>1.0</td>\n",
       "    </tr>\n",
       "    <tr>\n",
       "      <th>998</th>\n",
       "      <td>53</td>\n",
       "      <td>27</td>\n",
       "      <td>78</td>\n",
       "      <td>58</td>\n",
       "      <td>0</td>\n",
       "      <td>1.0</td>\n",
       "      <td>0.0</td>\n",
       "      <td>1.0</td>\n",
       "      <td>0.0</td>\n",
       "      <td>0.0</td>\n",
       "      <td>0.0</td>\n",
       "      <td>1.0</td>\n",
       "      <td>1.0</td>\n",
       "    </tr>\n",
       "    <tr>\n",
       "      <th>999</th>\n",
       "      <td>78</td>\n",
       "      <td>63</td>\n",
       "      <td>14</td>\n",
       "      <td>147</td>\n",
       "      <td>1</td>\n",
       "      <td>0.0</td>\n",
       "      <td>0.0</td>\n",
       "      <td>0.0</td>\n",
       "      <td>0.0</td>\n",
       "      <td>0.0</td>\n",
       "      <td>0.0</td>\n",
       "      <td>0.0</td>\n",
       "      <td>0.0</td>\n",
       "    </tr>\n",
       "  </tbody>\n",
       "</table>\n",
       "<p>1000 rows × 13 columns</p>\n",
       "</div>"
      ],
      "text/plain": [
       "     Number_of_Riders  Number_of_Drivers  Number_of_Past_Rides  \\\n",
       "0                  90                 45                    13   \n",
       "1                  58                 39                    72   \n",
       "2                  42                 31                     0   \n",
       "3                  89                 28                    67   \n",
       "4                  78                 22                    74   \n",
       "..                ...                ...                   ...   \n",
       "995                33                 23                    24   \n",
       "996                84                 29                    92   \n",
       "997                44                  6                    80   \n",
       "998                53                 27                    78   \n",
       "999                78                 63                    14   \n",
       "\n",
       "     Expected_Ride_Duration  Service_Ratings  Location_Category_Suburban  \\\n",
       "0                        90                1                         0.0   \n",
       "1                        43                1                         1.0   \n",
       "2                        76                0                         0.0   \n",
       "3                       134                1                         0.0   \n",
       "4                       149                0                         0.0   \n",
       "..                      ...              ...                         ...   \n",
       "995                      11                1                         0.0   \n",
       "996                      94                1                         0.0   \n",
       "997                      40                1                         1.0   \n",
       "998                      58                0                         1.0   \n",
       "999                     147                1                         0.0   \n",
       "\n",
       "     Location_Category_Urban  Customer_Loyalty_Status_Regular  \\\n",
       "0                        1.0                              0.0   \n",
       "1                        0.0                              0.0   \n",
       "2                        0.0                              0.0   \n",
       "3                        0.0                              1.0   \n",
       "4                        0.0                              1.0   \n",
       "..                       ...                              ...   \n",
       "995                      1.0                              0.0   \n",
       "996                      1.0                              1.0   \n",
       "997                      0.0                              0.0   \n",
       "998                      0.0                              1.0   \n",
       "999                      0.0                              0.0   \n",
       "\n",
       "     Customer_Loyalty_Status_Silver  Time_of_Booking_Evening  \\\n",
       "0                               1.0                      0.0   \n",
       "1                               1.0                      1.0   \n",
       "2                               1.0                      0.0   \n",
       "3                               0.0                      0.0   \n",
       "4                               0.0                      0.0   \n",
       "..                              ...                      ...   \n",
       "995                             0.0                      0.0   \n",
       "996                             0.0                      0.0   \n",
       "997                             0.0                      0.0   \n",
       "998                             0.0                      0.0   \n",
       "999                             0.0                      0.0   \n",
       "\n",
       "     Time_of_Booking_Morning  Time_of_Booking_Night  Vehicle_Type_Premium  \n",
       "0                        0.0                    1.0                   1.0  \n",
       "1                        0.0                    0.0                   0.0  \n",
       "2                        0.0                    0.0                   1.0  \n",
       "3                        0.0                    0.0                   1.0  \n",
       "4                        0.0                    0.0                   0.0  \n",
       "..                       ...                    ...                   ...  \n",
       "995                      1.0                    0.0                   1.0  \n",
       "996                      1.0                    0.0                   1.0  \n",
       "997                      0.0                    1.0                   1.0  \n",
       "998                      0.0                    1.0                   1.0  \n",
       "999                      0.0                    0.0                   0.0  \n",
       "\n",
       "[1000 rows x 13 columns]"
      ]
     },
     "execution_count": 188,
     "metadata": {},
     "output_type": "execute_result"
    }
   ],
   "source": [
    "df_new_lasso"
   ]
  },
  {
   "cell_type": "code",
   "execution_count": 189,
   "id": "76457fda-830d-44a8-b526-cf0d32818324",
   "metadata": {},
   "outputs": [],
   "source": [
    "X_new_lasso = df_new_lasso.drop('Service_Ratings', axis=1)"
   ]
  },
  {
   "cell_type": "code",
   "execution_count": 190,
   "id": "d328b117-69dd-4004-92ff-7fe2672dda21",
   "metadata": {},
   "outputs": [],
   "source": [
    "Y_new_lasso = df_new_lasso['Service_Ratings']"
   ]
  },
  {
   "cell_type": "code",
   "execution_count": 191,
   "id": "2276c13b-244d-4621-ad78-8a507c5148cc",
   "metadata": {},
   "outputs": [],
   "source": [
    "# Dividir de nuevo los datos\n",
    "x_train, x_test, y_train, y_test = train_test_split(X_new_lasso, Y_new_lasso, test_size=0.3, random_state=000)"
   ]
  },
  {
   "cell_type": "code",
   "execution_count": 192,
   "id": "8e0c6906-eaea-4e52-8a18-3adc0b879045",
   "metadata": {},
   "outputs": [],
   "source": [
    "# entrenar al modelo final\n",
    "logit_lasso_new = LogisticRegression(penalty='l1', solver='liblinear')"
   ]
  },
  {
   "cell_type": "code",
   "execution_count": 193,
   "id": "938fc337-4e52-4bd4-97df-127208618bf9",
   "metadata": {},
   "outputs": [
    {
     "data": {
      "text/html": [
       "<style>#sk-container-id-2 {color: black;}#sk-container-id-2 pre{padding: 0;}#sk-container-id-2 div.sk-toggleable {background-color: white;}#sk-container-id-2 label.sk-toggleable__label {cursor: pointer;display: block;width: 100%;margin-bottom: 0;padding: 0.3em;box-sizing: border-box;text-align: center;}#sk-container-id-2 label.sk-toggleable__label-arrow:before {content: \"▸\";float: left;margin-right: 0.25em;color: #696969;}#sk-container-id-2 label.sk-toggleable__label-arrow:hover:before {color: black;}#sk-container-id-2 div.sk-estimator:hover label.sk-toggleable__label-arrow:before {color: black;}#sk-container-id-2 div.sk-toggleable__content {max-height: 0;max-width: 0;overflow: hidden;text-align: left;background-color: #f0f8ff;}#sk-container-id-2 div.sk-toggleable__content pre {margin: 0.2em;color: black;border-radius: 0.25em;background-color: #f0f8ff;}#sk-container-id-2 input.sk-toggleable__control:checked~div.sk-toggleable__content {max-height: 200px;max-width: 100%;overflow: auto;}#sk-container-id-2 input.sk-toggleable__control:checked~label.sk-toggleable__label-arrow:before {content: \"▾\";}#sk-container-id-2 div.sk-estimator input.sk-toggleable__control:checked~label.sk-toggleable__label {background-color: #d4ebff;}#sk-container-id-2 div.sk-label input.sk-toggleable__control:checked~label.sk-toggleable__label {background-color: #d4ebff;}#sk-container-id-2 input.sk-hidden--visually {border: 0;clip: rect(1px 1px 1px 1px);clip: rect(1px, 1px, 1px, 1px);height: 1px;margin: -1px;overflow: hidden;padding: 0;position: absolute;width: 1px;}#sk-container-id-2 div.sk-estimator {font-family: monospace;background-color: #f0f8ff;border: 1px dotted black;border-radius: 0.25em;box-sizing: border-box;margin-bottom: 0.5em;}#sk-container-id-2 div.sk-estimator:hover {background-color: #d4ebff;}#sk-container-id-2 div.sk-parallel-item::after {content: \"\";width: 100%;border-bottom: 1px solid gray;flex-grow: 1;}#sk-container-id-2 div.sk-label:hover label.sk-toggleable__label {background-color: #d4ebff;}#sk-container-id-2 div.sk-serial::before {content: \"\";position: absolute;border-left: 1px solid gray;box-sizing: border-box;top: 0;bottom: 0;left: 50%;z-index: 0;}#sk-container-id-2 div.sk-serial {display: flex;flex-direction: column;align-items: center;background-color: white;padding-right: 0.2em;padding-left: 0.2em;position: relative;}#sk-container-id-2 div.sk-item {position: relative;z-index: 1;}#sk-container-id-2 div.sk-parallel {display: flex;align-items: stretch;justify-content: center;background-color: white;position: relative;}#sk-container-id-2 div.sk-item::before, #sk-container-id-2 div.sk-parallel-item::before {content: \"\";position: absolute;border-left: 1px solid gray;box-sizing: border-box;top: 0;bottom: 0;left: 50%;z-index: -1;}#sk-container-id-2 div.sk-parallel-item {display: flex;flex-direction: column;z-index: 1;position: relative;background-color: white;}#sk-container-id-2 div.sk-parallel-item:first-child::after {align-self: flex-end;width: 50%;}#sk-container-id-2 div.sk-parallel-item:last-child::after {align-self: flex-start;width: 50%;}#sk-container-id-2 div.sk-parallel-item:only-child::after {width: 0;}#sk-container-id-2 div.sk-dashed-wrapped {border: 1px dashed gray;margin: 0 0.4em 0.5em 0.4em;box-sizing: border-box;padding-bottom: 0.4em;background-color: white;}#sk-container-id-2 div.sk-label label {font-family: monospace;font-weight: bold;display: inline-block;line-height: 1.2em;}#sk-container-id-2 div.sk-label-container {text-align: center;}#sk-container-id-2 div.sk-container {/* jupyter's `normalize.less` sets `[hidden] { display: none; }` but bootstrap.min.css set `[hidden] { display: none !important; }` so we also need the `!important` here to be able to override the default hidden behavior on the sphinx rendered scikit-learn.org. See: https://github.com/scikit-learn/scikit-learn/issues/21755 */display: inline-block !important;position: relative;}#sk-container-id-2 div.sk-text-repr-fallback {display: none;}</style><div id=\"sk-container-id-2\" class=\"sk-top-container\"><div class=\"sk-text-repr-fallback\"><pre>LogisticRegression(penalty=&#x27;l1&#x27;, solver=&#x27;liblinear&#x27;)</pre><b>In a Jupyter environment, please rerun this cell to show the HTML representation or trust the notebook. <br />On GitHub, the HTML representation is unable to render, please try loading this page with nbviewer.org.</b></div><div class=\"sk-container\" hidden><div class=\"sk-item\"><div class=\"sk-estimator sk-toggleable\"><input class=\"sk-toggleable__control sk-hidden--visually\" id=\"sk-estimator-id-2\" type=\"checkbox\" checked><label for=\"sk-estimator-id-2\" class=\"sk-toggleable__label sk-toggleable__label-arrow\">LogisticRegression</label><div class=\"sk-toggleable__content\"><pre>LogisticRegression(penalty=&#x27;l1&#x27;, solver=&#x27;liblinear&#x27;)</pre></div></div></div></div></div>"
      ],
      "text/plain": [
       "LogisticRegression(penalty='l1', solver='liblinear')"
      ]
     },
     "execution_count": 193,
     "metadata": {},
     "output_type": "execute_result"
    }
   ],
   "source": [
    "logit_lasso_new.fit(x_train, y_train)"
   ]
  },
  {
   "cell_type": "code",
   "execution_count": 194,
   "id": "63432e30-3ade-4293-83ae-bcc67cfb2cae",
   "metadata": {},
   "outputs": [
    {
     "name": "stdout",
     "output_type": "stream",
     "text": [
      "Coeficientes: [[ 0.00318409  0.00106272 -0.00773251 -0.00195846  0.07216666  0.17924596\n",
      "   0.0530543   0.15505242 -0.52151318  0.         -0.33578829 -0.03606259]]\n"
     ]
    }
   ],
   "source": [
    "print(f'Coeficientes: {logit_lasso_new.coef_}')"
   ]
  },
  {
   "cell_type": "code",
   "execution_count": 195,
   "id": "1298f73d-1242-4d70-bcac-722254b8f6d1",
   "metadata": {},
   "outputs": [],
   "source": [
    "X_lasso = X_new_lasso.drop(['Number_of_Riders', 'Number_of_Drivers', 'Number_of_Past_Rides',\n",
    "       'Expected_Ride_Duration', 'Time_of_Booking_Morning'], axis=1)"
   ]
  },
  {
   "cell_type": "code",
   "execution_count": 196,
   "id": "14ac0116-ffd7-40b1-bd5b-d595836e972e",
   "metadata": {},
   "outputs": [
    {
     "data": {
      "text/plain": [
       "(1000, 7)"
      ]
     },
     "execution_count": 196,
     "metadata": {},
     "output_type": "execute_result"
    }
   ],
   "source": [
    "X_lasso.shape"
   ]
  },
  {
   "cell_type": "code",
   "execution_count": 197,
   "id": "0ee6d107-7b35-4629-8403-f669ca9248ff",
   "metadata": {},
   "outputs": [],
   "source": [
    "Y_lasso = df_new_lasso['Service_Ratings']"
   ]
  },
  {
   "cell_type": "code",
   "execution_count": 198,
   "id": "dd07a37d-7498-4fa1-aeaa-f5d0ce448116",
   "metadata": {},
   "outputs": [
    {
     "data": {
      "text/plain": [
       "(1000,)"
      ]
     },
     "execution_count": 198,
     "metadata": {},
     "output_type": "execute_result"
    }
   ],
   "source": [
    "Y_lasso.shape"
   ]
  },
  {
   "cell_type": "code",
   "execution_count": 199,
   "id": "4eeae902-4845-45ee-9e36-19fb34c80eab",
   "metadata": {},
   "outputs": [],
   "source": [
    "# Dividir de nuevo los datos\n",
    "x_train, x_test, y_train, y_test = train_test_split(X_lasso, Y_lasso, test_size=0.3, random_state=000)"
   ]
  },
  {
   "cell_type": "code",
   "execution_count": 200,
   "id": "aa203d6d-a8b6-40aa-b6d6-c927c3395dcc",
   "metadata": {},
   "outputs": [],
   "source": [
    "# entrenar al modelo final\n",
    "logit_model_lasso= sm.Logit(y_train, x_train)"
   ]
  },
  {
   "cell_type": "code",
   "execution_count": 201,
   "id": "748ca0cc-f1af-4f11-99ed-bbdc1236be04",
   "metadata": {},
   "outputs": [
    {
     "name": "stdout",
     "output_type": "stream",
     "text": [
      "Optimization terminated successfully.\n",
      "         Current function value: 0.629442\n",
      "         Iterations 5\n"
     ]
    }
   ],
   "source": [
    "result_lasso = logit_model_lasso.fit()"
   ]
  },
  {
   "cell_type": "code",
   "execution_count": 202,
   "id": "c6fe1894-55f1-433d-aa83-1697a72d113c",
   "metadata": {},
   "outputs": [
    {
     "data": {
      "text/html": [
       "<table class=\"simpletable\">\n",
       "<caption>Logit Regression Results</caption>\n",
       "<tr>\n",
       "  <th>Dep. Variable:</th>    <td>Service_Ratings</td> <th>  No. Observations:  </th>  <td>   700</td>  \n",
       "</tr>\n",
       "<tr>\n",
       "  <th>Model:</th>                 <td>Logit</td>      <th>  Df Residuals:      </th>  <td>   693</td>  \n",
       "</tr>\n",
       "<tr>\n",
       "  <th>Method:</th>                 <td>MLE</td>       <th>  Df Model:          </th>  <td>     6</td>  \n",
       "</tr>\n",
       "<tr>\n",
       "  <th>Date:</th>            <td>Sat, 26 Oct 2024</td> <th>  Pseudo R-squ.:     </th> <td>-0.004104</td>\n",
       "</tr>\n",
       "<tr>\n",
       "  <th>Time:</th>                <td>21:45:08</td>     <th>  Log-Likelihood:    </th> <td> -440.61</td> \n",
       "</tr>\n",
       "<tr>\n",
       "  <th>converged:</th>             <td>True</td>       <th>  LL-Null:           </th> <td> -438.81</td> \n",
       "</tr>\n",
       "<tr>\n",
       "  <th>Covariance Type:</th>     <td>nonrobust</td>    <th>  LLR p-value:       </th>  <td> 1.000</td>  \n",
       "</tr>\n",
       "</table>\n",
       "<table class=\"simpletable\">\n",
       "<tr>\n",
       "                 <td></td>                    <th>coef</th>     <th>std err</th>      <th>z</th>      <th>P>|z|</th>  <th>[0.025</th>    <th>0.975]</th>  \n",
       "</tr>\n",
       "<tr>\n",
       "  <th>Location_Category_Suburban</th>      <td>    0.4300</td> <td>    0.184</td> <td>    2.337</td> <td> 0.019</td> <td>    0.069</td> <td>    0.791</td>\n",
       "</tr>\n",
       "<tr>\n",
       "  <th>Location_Category_Urban</th>         <td>    0.5445</td> <td>    0.174</td> <td>    3.136</td> <td> 0.002</td> <td>    0.204</td> <td>    0.885</td>\n",
       "</tr>\n",
       "<tr>\n",
       "  <th>Customer_Loyalty_Status_Regular</th> <td>    0.4368</td> <td>    0.183</td> <td>    2.388</td> <td> 0.017</td> <td>    0.078</td> <td>    0.795</td>\n",
       "</tr>\n",
       "<tr>\n",
       "  <th>Customer_Loyalty_Status_Silver</th>  <td>    0.5351</td> <td>    0.171</td> <td>    3.130</td> <td> 0.002</td> <td>    0.200</td> <td>    0.870</td>\n",
       "</tr>\n",
       "<tr>\n",
       "  <th>Time_of_Booking_Evening</th>         <td>   -0.3410</td> <td>    0.192</td> <td>   -1.774</td> <td> 0.076</td> <td>   -0.718</td> <td>    0.036</td>\n",
       "</tr>\n",
       "<tr>\n",
       "  <th>Time_of_Booking_Night</th>           <td>   -0.1358</td> <td>    0.179</td> <td>   -0.758</td> <td> 0.448</td> <td>   -0.487</td> <td>    0.215</td>\n",
       "</tr>\n",
       "<tr>\n",
       "  <th>Vehicle_Type_Premium</th>            <td>    0.1909</td> <td>    0.148</td> <td>    1.286</td> <td> 0.198</td> <td>   -0.100</td> <td>    0.482</td>\n",
       "</tr>\n",
       "</table>"
      ],
      "text/latex": [
       "\\begin{center}\n",
       "\\begin{tabular}{lclc}\n",
       "\\toprule\n",
       "\\textbf{Dep. Variable:}                     & Service\\_Ratings & \\textbf{  No. Observations:  } &      700    \\\\\n",
       "\\textbf{Model:}                             &      Logit       & \\textbf{  Df Residuals:      } &      693    \\\\\n",
       "\\textbf{Method:}                            &       MLE        & \\textbf{  Df Model:          } &        6    \\\\\n",
       "\\textbf{Date:}                              & Sat, 26 Oct 2024 & \\textbf{  Pseudo R-squ.:     } & -0.004104   \\\\\n",
       "\\textbf{Time:}                              &     21:45:08     & \\textbf{  Log-Likelihood:    } &   -440.61   \\\\\n",
       "\\textbf{converged:}                         &       True       & \\textbf{  LL-Null:           } &   -438.81   \\\\\n",
       "\\textbf{Covariance Type:}                   &    nonrobust     & \\textbf{  LLR p-value:       } &    1.000    \\\\\n",
       "\\bottomrule\n",
       "\\end{tabular}\n",
       "\\begin{tabular}{lcccccc}\n",
       "                                            & \\textbf{coef} & \\textbf{std err} & \\textbf{z} & \\textbf{P$> |$z$|$} & \\textbf{[0.025} & \\textbf{0.975]}  \\\\\n",
       "\\midrule\n",
       "\\textbf{Location\\_Category\\_Suburban}       &       0.4300  &        0.184     &     2.337  &         0.019        &        0.069    &        0.791     \\\\\n",
       "\\textbf{Location\\_Category\\_Urban}          &       0.5445  &        0.174     &     3.136  &         0.002        &        0.204    &        0.885     \\\\\n",
       "\\textbf{Customer\\_Loyalty\\_Status\\_Regular} &       0.4368  &        0.183     &     2.388  &         0.017        &        0.078    &        0.795     \\\\\n",
       "\\textbf{Customer\\_Loyalty\\_Status\\_Silver}  &       0.5351  &        0.171     &     3.130  &         0.002        &        0.200    &        0.870     \\\\\n",
       "\\textbf{Time\\_of\\_Booking\\_Evening}         &      -0.3410  &        0.192     &    -1.774  &         0.076        &       -0.718    &        0.036     \\\\\n",
       "\\textbf{Time\\_of\\_Booking\\_Night}           &      -0.1358  &        0.179     &    -0.758  &         0.448        &       -0.487    &        0.215     \\\\\n",
       "\\textbf{Vehicle\\_Type\\_Premium}             &       0.1909  &        0.148     &     1.286  &         0.198        &       -0.100    &        0.482     \\\\\n",
       "\\bottomrule\n",
       "\\end{tabular}\n",
       "%\\caption{Logit Regression Results}\n",
       "\\end{center}"
      ],
      "text/plain": [
       "<class 'statsmodels.iolib.summary.Summary'>\n",
       "\"\"\"\n",
       "                           Logit Regression Results                           \n",
       "==============================================================================\n",
       "Dep. Variable:        Service_Ratings   No. Observations:                  700\n",
       "Model:                          Logit   Df Residuals:                      693\n",
       "Method:                           MLE   Df Model:                            6\n",
       "Date:                Sat, 26 Oct 2024   Pseudo R-squ.:               -0.004104\n",
       "Time:                        21:45:08   Log-Likelihood:                -440.61\n",
       "converged:                       True   LL-Null:                       -438.81\n",
       "Covariance Type:            nonrobust   LLR p-value:                     1.000\n",
       "===================================================================================================\n",
       "                                      coef    std err          z      P>|z|      [0.025      0.975]\n",
       "---------------------------------------------------------------------------------------------------\n",
       "Location_Category_Suburban          0.4300      0.184      2.337      0.019       0.069       0.791\n",
       "Location_Category_Urban             0.5445      0.174      3.136      0.002       0.204       0.885\n",
       "Customer_Loyalty_Status_Regular     0.4368      0.183      2.388      0.017       0.078       0.795\n",
       "Customer_Loyalty_Status_Silver      0.5351      0.171      3.130      0.002       0.200       0.870\n",
       "Time_of_Booking_Evening            -0.3410      0.192     -1.774      0.076      -0.718       0.036\n",
       "Time_of_Booking_Night              -0.1358      0.179     -0.758      0.448      -0.487       0.215\n",
       "Vehicle_Type_Premium                0.1909      0.148      1.286      0.198      -0.100       0.482\n",
       "===================================================================================================\n",
       "\"\"\""
      ]
     },
     "execution_count": 202,
     "metadata": {},
     "output_type": "execute_result"
    }
   ],
   "source": [
    "result_lasso.summary()"
   ]
  },
  {
   "cell_type": "code",
   "execution_count": 203,
   "id": "ef9745da-aae4-46bb-a6f3-2b4b7d60cee9",
   "metadata": {},
   "outputs": [],
   "source": [
    "# evaluar el modelo \n",
    "y_pred_prob_lasso = result_lasso.predict(x_test)"
   ]
  },
  {
   "cell_type": "code",
   "execution_count": 204,
   "id": "fb937d58-bd83-4738-be21-54f836629314",
   "metadata": {},
   "outputs": [],
   "source": [
    "y_pred_log_lasso = [1 if prob_lasso > 0.5 else 0 for prob_lasso in y_pred_prob_lasso]"
   ]
  },
  {
   "cell_type": "code",
   "execution_count": 205,
   "id": "c995a796-a0fb-4af4-9a8a-b1d63635addb",
   "metadata": {},
   "outputs": [
    {
     "data": {
      "text/plain": [
       "array([[  6,  88],\n",
       "       [ 14, 192]], dtype=int64)"
      ]
     },
     "execution_count": 205,
     "metadata": {},
     "output_type": "execute_result"
    }
   ],
   "source": [
    "conf_matrix_lasso = confusion_matrix(y_test, y_pred_log_lasso)\n",
    "conf_matrix_lasso"
   ]
  },
  {
   "cell_type": "code",
   "execution_count": 206,
   "id": "f2f9a7e6-baf6-4a0e-a033-a9a6d71895f1",
   "metadata": {},
   "outputs": [
    {
     "name": "stdout",
     "output_type": "stream",
     "text": [
      "              precision    recall  f1-score   support\n",
      "\n",
      "           0       0.30      0.06      0.11        94\n",
      "           1       0.69      0.93      0.79       206\n",
      "\n",
      "    accuracy                           0.66       300\n",
      "   macro avg       0.49      0.50      0.45       300\n",
      "weighted avg       0.56      0.66      0.58       300\n",
      "\n"
     ]
    }
   ],
   "source": [
    "print(classification_report(y_test, y_pred_log_lasso))"
   ]
  },
  {
   "cell_type": "code",
   "execution_count": null,
   "id": "291e8fcb-adfc-4fae-9cce-06afcbe1d0f7",
   "metadata": {},
   "outputs": [],
   "source": []
  },
  {
   "cell_type": "code",
   "execution_count": 207,
   "id": "710e4c57-97b9-405f-a8b3-c0adb211a0f4",
   "metadata": {},
   "outputs": [
    {
     "data": {
      "text/plain": [
       "Index(['Number_of_Riders', 'Number_of_Drivers', 'Number_of_Past_Rides',\n",
       "       'Expected_Ride_Duration', 'Location_Category_Suburban',\n",
       "       'Location_Category_Urban', 'Customer_Loyalty_Status_Regular',\n",
       "       'Customer_Loyalty_Status_Silver', 'Time_of_Booking_Evening',\n",
       "       'Time_of_Booking_Morning', 'Time_of_Booking_Night',\n",
       "       'Vehicle_Type_Premium'],\n",
       "      dtype='object')"
      ]
     },
     "execution_count": 207,
     "metadata": {},
     "output_type": "execute_result"
    }
   ],
   "source": [
    "X_new_lasso.columns"
   ]
  },
  {
   "cell_type": "code",
   "execution_count": null,
   "id": "9dbfe5a7-5f26-4d96-879e-a6fb6a59ff28",
   "metadata": {},
   "outputs": [],
   "source": []
  },
  {
   "cell_type": "markdown",
   "id": "4b1a1e5f-4af8-402a-9501-87b00879323c",
   "metadata": {},
   "source": [
    "#### Graficar la curva ROC del modelo1"
   ]
  },
  {
   "cell_type": "code",
   "execution_count": 209,
   "id": "8089733f-be59-49d1-9234-e8d91418ece4",
   "metadata": {},
   "outputs": [],
   "source": [
    "from sklearn.metrics import roc_curve, roc_auc_score"
   ]
  },
  {
   "cell_type": "markdown",
   "id": "0077d5c1-d53c-4f2b-8594-25dcc2bb233c",
   "metadata": {
    "jp-MarkdownHeadingCollapsed": true
   },
   "source": [
    "#### calcular valores para la curva ROC"
   ]
  },
  {
   "cell_type": "code",
   "execution_count": 211,
   "id": "af9348b7-7ab7-4019-bc5e-020b80866813",
   "metadata": {},
   "outputs": [],
   "source": [
    "fpr, tpr, thresholds = roc_curve(y_test, y_pred_prob_lasso)"
   ]
  },
  {
   "cell_type": "code",
   "execution_count": 212,
   "id": "64afbd9c-277e-4674-b828-af16ad01524a",
   "metadata": {},
   "outputs": [],
   "source": [
    "roc_auc = roc_auc_score(y_test, y_pred_prob_lasso)"
   ]
  },
  {
   "cell_type": "markdown",
   "id": "f05fa68d-66de-40f0-9f9d-b01854becc71",
   "metadata": {},
   "source": [
    "#### Graficar la curva"
   ]
  },
  {
   "cell_type": "code",
   "execution_count": 214,
   "id": "a0a4936f-a184-4bfc-a4d5-09b554c0f4ec",
   "metadata": {},
   "outputs": [
    {
     "data": {
      "image/png": "[encoded data removed]",
      "text/plain": [
       "<Figure size 640x480 with 1 Axes>"
      ]
     },
     "metadata": {},
     "output_type": "display_data"
    }
   ],
   "source": [
    "plt.figure()\n",
    "plt.plot(fpr, tpr, color='darkorange', lw=2, label='ROC curve %0.2f' % roc_auc)\n",
    "plt.plot([0, 1], [0, 1], color='navy', lw=2, linestyle='--')\n",
    "plt.xlim([0.0, 1.0])\n",
    "plt.ylim([0.0, 1.05])\n",
    "plt.xlabel('False Positive Rate')\n",
    "plt.ylabel('True Positive Rate')\n",
    "plt.title('Receiver Operating Characteristic')\n",
    "plt.legend(loc=\"lower right\")\n",
    "plt.show()"
   ]
  },
  {
   "cell_type": "code",
   "execution_count": 215,
   "id": "4b35bce9-7fbc-406b-8140-011d4ab05cb9",
   "metadata": {},
   "outputs": [
    {
     "data": {
      "text/plain": [
       "Service_Ratings\n",
       "1    682\n",
       "0    318\n",
       "Name: count, dtype: int64"
      ]
     },
     "execution_count": 215,
     "metadata": {},
     "output_type": "execute_result"
    }
   ],
   "source": [
    "Y.value_counts()"
   ]
  },
  {
   "cell_type": "code",
   "execution_count": 216,
   "id": "df61231f-32e9-4d84-9f6d-8ed35a823278",
   "metadata": {},
   "outputs": [
    {
     "data": {
      "text/plain": [
       "Service_Ratings\n",
       "1    476\n",
       "0    224\n",
       "Name: count, dtype: int64"
      ]
     },
     "execution_count": 216,
     "metadata": {},
     "output_type": "execute_result"
    }
   ],
   "source": [
    "y_train.value_counts()"
   ]
  },
  {
   "cell_type": "markdown",
   "id": "87a9bf26-5273-476f-9a5e-6a38f26e1d17",
   "metadata": {},
   "source": [
    "como hay desbalanceo de clases se aplica SMOTE"
   ]
  },
  {
   "cell_type": "code",
   "execution_count": 218,
   "id": "99710d0f-4932-4c0f-87f7-1313964a87da",
   "metadata": {},
   "outputs": [
    {
     "name": "stdout",
     "output_type": "stream",
     "text": [
      "Requirement already satisfied: imbalanced-learn in c:\\users\\usuario\\anaconda3\\lib\\site-packages (0.12.4)\n",
      "Requirement already satisfied: numpy>=1.17.3 in c:\\users\\usuario\\anaconda3\\lib\\site-packages (from imbalanced-learn) (1.24.3)\n",
      "Requirement already satisfied: scipy>=1.5.0 in c:\\users\\usuario\\anaconda3\\lib\\site-packages (from imbalanced-learn) (1.11.1)\n",
      "Requirement already satisfied: scikit-learn>=1.0.2 in c:\\users\\usuario\\anaconda3\\lib\\site-packages (from imbalanced-learn) (1.3.0)\n",
      "Requirement already satisfied: joblib>=1.1.1 in c:\\users\\usuario\\anaconda3\\lib\\site-packages (from imbalanced-learn) (1.2.0)\n",
      "Requirement already satisfied: threadpoolctl>=2.0.0 in c:\\users\\usuario\\anaconda3\\lib\\site-packages (from imbalanced-learn) (2.2.0)\n"
     ]
    }
   ],
   "source": [
    "!pip install imbalanced-learn"
   ]
  },
  {
   "cell_type": "code",
   "execution_count": 219,
   "id": "23588f6c-addd-4b4b-8b78-07dcf803c130",
   "metadata": {},
   "outputs": [],
   "source": [
    "from imblearn.over_sampling import SMOTE"
   ]
  },
  {
   "cell_type": "code",
   "execution_count": 220,
   "id": "ced3406a-0435-4efb-b0d8-5db5f651a94e",
   "metadata": {},
   "outputs": [],
   "source": [
    "# Aplicar SMOTE\n",
    "smote = SMOTE(random_state=42)\n",
    "x_train_balanced, y_train_balanced = smote.fit_resample(x_train, y_train)"
   ]
  },
  {
   "cell_type": "code",
   "execution_count": 221,
   "id": "ec8c0dd6-c5d0-41ec-a3d3-b2c1ae065280",
   "metadata": {},
   "outputs": [],
   "source": [
    "# entrenar al modelo final\n",
    "logit_model_lasso= sm.Logit(y_train_balanced, x_train_balanced)"
   ]
  },
  {
   "cell_type": "code",
   "execution_count": 222,
   "id": "374b6fcb-6425-42a1-9e19-3c23a25abe61",
   "metadata": {},
   "outputs": [
    {
     "data": {
      "text/plain": [
       "Service_Ratings\n",
       "1    476\n",
       "0    476\n",
       "Name: count, dtype: int64"
      ]
     },
     "execution_count": 222,
     "metadata": {},
     "output_type": "execute_result"
    }
   ],
   "source": [
    "y_train_balanced.value_counts()"
   ]
  },
  {
   "cell_type": "code",
   "execution_count": 223,
   "id": "0320a67d-fed8-4a6f-b441-f3ca2035a8f0",
   "metadata": {},
   "outputs": [
    {
     "name": "stdout",
     "output_type": "stream",
     "text": [
      "Optimization terminated successfully.\n",
      "         Current function value: 0.684885\n",
      "         Iterations 4\n"
     ]
    }
   ],
   "source": [
    "result_lasso = logit_model_lasso.fit()"
   ]
  },
  {
   "cell_type": "code",
   "execution_count": 224,
   "id": "8e6ba5ab-04a8-4991-98fa-d659a06e8fb4",
   "metadata": {},
   "outputs": [
    {
     "data": {
      "text/html": [
       "<table class=\"simpletable\">\n",
       "<caption>Logit Regression Results</caption>\n",
       "<tr>\n",
       "  <th>Dep. Variable:</th>    <td>Service_Ratings</td> <th>  No. Observations:  </th>  <td>   952</td> \n",
       "</tr>\n",
       "<tr>\n",
       "  <th>Model:</th>                 <td>Logit</td>      <th>  Df Residuals:      </th>  <td>   945</td> \n",
       "</tr>\n",
       "<tr>\n",
       "  <th>Method:</th>                 <td>MLE</td>       <th>  Df Model:          </th>  <td>     6</td> \n",
       "</tr>\n",
       "<tr>\n",
       "  <th>Date:</th>            <td>Sat, 26 Oct 2024</td> <th>  Pseudo R-squ.:     </th>  <td>0.01192</td>\n",
       "</tr>\n",
       "<tr>\n",
       "  <th>Time:</th>                <td>21:45:19</td>     <th>  Log-Likelihood:    </th> <td> -652.01</td>\n",
       "</tr>\n",
       "<tr>\n",
       "  <th>converged:</th>             <td>True</td>       <th>  LL-Null:           </th> <td> -659.88</td>\n",
       "</tr>\n",
       "<tr>\n",
       "  <th>Covariance Type:</th>     <td>nonrobust</td>    <th>  LLR p-value:       </th>  <td>0.01527</td>\n",
       "</tr>\n",
       "</table>\n",
       "<table class=\"simpletable\">\n",
       "<tr>\n",
       "                 <td></td>                    <th>coef</th>     <th>std err</th>      <th>z</th>      <th>P>|z|</th>  <th>[0.025</th>    <th>0.975]</th>  \n",
       "</tr>\n",
       "<tr>\n",
       "  <th>Location_Category_Suburban</th>      <td>    0.1670</td> <td>    0.153</td> <td>    1.094</td> <td> 0.274</td> <td>   -0.132</td> <td>    0.466</td>\n",
       "</tr>\n",
       "<tr>\n",
       "  <th>Location_Category_Urban</th>         <td>    0.2069</td> <td>    0.143</td> <td>    1.444</td> <td> 0.149</td> <td>   -0.074</td> <td>    0.488</td>\n",
       "</tr>\n",
       "<tr>\n",
       "  <th>Customer_Loyalty_Status_Regular</th> <td>    0.0758</td> <td>    0.151</td> <td>    0.503</td> <td> 0.615</td> <td>   -0.220</td> <td>    0.371</td>\n",
       "</tr>\n",
       "<tr>\n",
       "  <th>Customer_Loyalty_Status_Silver</th>  <td>    0.1465</td> <td>    0.139</td> <td>    1.055</td> <td> 0.291</td> <td>   -0.126</td> <td>    0.419</td>\n",
       "</tr>\n",
       "<tr>\n",
       "  <th>Time_of_Booking_Evening</th>         <td>   -0.5087</td> <td>    0.158</td> <td>   -3.212</td> <td> 0.001</td> <td>   -0.819</td> <td>   -0.198</td>\n",
       "</tr>\n",
       "<tr>\n",
       "  <th>Time_of_Booking_Night</th>           <td>   -0.4125</td> <td>    0.143</td> <td>   -2.881</td> <td> 0.004</td> <td>   -0.693</td> <td>   -0.132</td>\n",
       "</tr>\n",
       "<tr>\n",
       "  <th>Vehicle_Type_Premium</th>            <td>    0.0245</td> <td>    0.120</td> <td>    0.204</td> <td> 0.839</td> <td>   -0.212</td> <td>    0.261</td>\n",
       "</tr>\n",
       "</table>"
      ],
      "text/latex": [
       "\\begin{center}\n",
       "\\begin{tabular}{lclc}\n",
       "\\toprule\n",
       "\\textbf{Dep. Variable:}                     & Service\\_Ratings & \\textbf{  No. Observations:  } &      952    \\\\\n",
       "\\textbf{Model:}                             &      Logit       & \\textbf{  Df Residuals:      } &      945    \\\\\n",
       "\\textbf{Method:}                            &       MLE        & \\textbf{  Df Model:          } &        6    \\\\\n",
       "\\textbf{Date:}                              & Sat, 26 Oct 2024 & \\textbf{  Pseudo R-squ.:     } &  0.01192    \\\\\n",
       "\\textbf{Time:}                              &     21:45:19     & \\textbf{  Log-Likelihood:    } &   -652.01   \\\\\n",
       "\\textbf{converged:}                         &       True       & \\textbf{  LL-Null:           } &   -659.88   \\\\\n",
       "\\textbf{Covariance Type:}                   &    nonrobust     & \\textbf{  LLR p-value:       } &  0.01527    \\\\\n",
       "\\bottomrule\n",
       "\\end{tabular}\n",
       "\\begin{tabular}{lcccccc}\n",
       "                                            & \\textbf{coef} & \\textbf{std err} & \\textbf{z} & \\textbf{P$> |$z$|$} & \\textbf{[0.025} & \\textbf{0.975]}  \\\\\n",
       "\\midrule\n",
       "\\textbf{Location\\_Category\\_Suburban}       &       0.1670  &        0.153     &     1.094  &         0.274        &       -0.132    &        0.466     \\\\\n",
       "\\textbf{Location\\_Category\\_Urban}          &       0.2069  &        0.143     &     1.444  &         0.149        &       -0.074    &        0.488     \\\\\n",
       "\\textbf{Customer\\_Loyalty\\_Status\\_Regular} &       0.0758  &        0.151     &     0.503  &         0.615        &       -0.220    &        0.371     \\\\\n",
       "\\textbf{Customer\\_Loyalty\\_Status\\_Silver}  &       0.1465  &        0.139     &     1.055  &         0.291        &       -0.126    &        0.419     \\\\\n",
       "\\textbf{Time\\_of\\_Booking\\_Evening}         &      -0.5087  &        0.158     &    -3.212  &         0.001        &       -0.819    &       -0.198     \\\\\n",
       "\\textbf{Time\\_of\\_Booking\\_Night}           &      -0.4125  &        0.143     &    -2.881  &         0.004        &       -0.693    &       -0.132     \\\\\n",
       "\\textbf{Vehicle\\_Type\\_Premium}             &       0.0245  &        0.120     &     0.204  &         0.839        &       -0.212    &        0.261     \\\\\n",
       "\\bottomrule\n",
       "\\end{tabular}\n",
       "%\\caption{Logit Regression Results}\n",
       "\\end{center}"
      ],
      "text/plain": [
       "<class 'statsmodels.iolib.summary.Summary'>\n",
       "\"\"\"\n",
       "                           Logit Regression Results                           \n",
       "==============================================================================\n",
       "Dep. Variable:        Service_Ratings   No. Observations:                  952\n",
       "Model:                          Logit   Df Residuals:                      945\n",
       "Method:                           MLE   Df Model:                            6\n",
       "Date:                Sat, 26 Oct 2024   Pseudo R-squ.:                 0.01192\n",
       "Time:                        21:45:19   Log-Likelihood:                -652.01\n",
       "converged:                       True   LL-Null:                       -659.88\n",
       "Covariance Type:            nonrobust   LLR p-value:                   0.01527\n",
       "===================================================================================================\n",
       "                                      coef    std err          z      P>|z|      [0.025      0.975]\n",
       "---------------------------------------------------------------------------------------------------\n",
       "Location_Category_Suburban          0.1670      0.153      1.094      0.274      -0.132       0.466\n",
       "Location_Category_Urban             0.2069      0.143      1.444      0.149      -0.074       0.488\n",
       "Customer_Loyalty_Status_Regular     0.0758      0.151      0.503      0.615      -0.220       0.371\n",
       "Customer_Loyalty_Status_Silver      0.1465      0.139      1.055      0.291      -0.126       0.419\n",
       "Time_of_Booking_Evening            -0.5087      0.158     -3.212      0.001      -0.819      -0.198\n",
       "Time_of_Booking_Night              -0.4125      0.143     -2.881      0.004      -0.693      -0.132\n",
       "Vehicle_Type_Premium                0.0245      0.120      0.204      0.839      -0.212       0.261\n",
       "===================================================================================================\n",
       "\"\"\""
      ]
     },
     "execution_count": 224,
     "metadata": {},
     "output_type": "execute_result"
    }
   ],
   "source": [
    "result_lasso.summary()"
   ]
  },
  {
   "cell_type": "code",
   "execution_count": 225,
   "id": "37f6b520-6f36-4039-8985-44c62e5fa9d5",
   "metadata": {},
   "outputs": [],
   "source": [
    "# evaluar el modelo final\n",
    "y_pred_prob_lasso = result_lasso.predict(x_test)"
   ]
  },
  {
   "cell_type": "code",
   "execution_count": 226,
   "id": "e44edf68-c286-450b-9ba8-8a98bbeba36d",
   "metadata": {},
   "outputs": [],
   "source": [
    "y_pred_log_lasso = [1 if prob_lasso > 0.5 else 0 for prob_lasso in y_pred_prob_lasso]"
   ]
  },
  {
   "cell_type": "code",
   "execution_count": 227,
   "id": "0481df00-bcfa-4ae9-96c3-8ef77741136a",
   "metadata": {},
   "outputs": [
    {
     "name": "stdout",
     "output_type": "stream",
     "text": [
      "              precision    recall  f1-score   support\n",
      "\n",
      "           0       0.32      0.53      0.40        94\n",
      "           1       0.69      0.48      0.57       206\n",
      "\n",
      "    accuracy                           0.50       300\n",
      "   macro avg       0.51      0.51      0.48       300\n",
      "weighted avg       0.58      0.50      0.51       300\n",
      "\n"
     ]
    }
   ],
   "source": [
    "print(classification_report(y_test, y_pred_log_lasso))"
   ]
  },
  {
   "cell_type": "code",
   "execution_count": 228,
   "id": "2ced78f3-5b7f-412d-b61f-4a8b65f28fd9",
   "metadata": {},
   "outputs": [],
   "source": [
    "fpr, tpr, thresholds = roc_curve(y_test, y_pred_prob_lasso)"
   ]
  },
  {
   "cell_type": "code",
   "execution_count": 229,
   "id": "387b49de-844d-4c0d-9130-210571ff758c",
   "metadata": {},
   "outputs": [],
   "source": [
    "roc_auc = roc_auc_score(y_test, y_pred_prob_lasso)"
   ]
  },
  {
   "cell_type": "code",
   "execution_count": 230,
   "id": "b4d293c1-3e8d-4969-8acf-a6521ea5c695",
   "metadata": {},
   "outputs": [
    {
     "data": {
      "image/png": "[encoded data removed]",
      "text/plain": [
       "<Figure size 640x480 with 1 Axes>"
      ]
     },
     "metadata": {},
     "output_type": "display_data"
    }
   ],
   "source": [
    "plt.figure()\n",
    "plt.plot(fpr, tpr, color='darkorange', lw=2, label='ROC curve %0.2f' % roc_auc)\n",
    "plt.plot([0, 1], [0, 1], color='navy', lw=2, linestyle='--')\n",
    "plt.xlim([0.0, 1.0])\n",
    "plt.ylim([0.0, 1.05])\n",
    "plt.xlabel('False Positive Rate')\n",
    "plt.ylabel('True Positive Rate')\n",
    "plt.title('Receiver Operating Characteristic')\n",
    "plt.legend(loc=\"lower right\")\n",
    "plt.show()"
   ]
  },
  {
   "cell_type": "code",
   "execution_count": 231,
   "id": "e38198ee-5c27-4e85-b76b-6bb074ff77a8",
   "metadata": {},
   "outputs": [
    {
     "data": {
      "text/html": [
       "<div>\n",
       "<style scoped>\n",
       "    .dataframe tbody tr th:only-of-type {\n",
       "        vertical-align: middle;\n",
       "    }\n",
       "\n",
       "    .dataframe tbody tr th {\n",
       "        vertical-align: top;\n",
       "    }\n",
       "\n",
       "    .dataframe thead th {\n",
       "        text-align: right;\n",
       "    }\n",
       "</style>\n",
       "<table border=\"1\" class=\"dataframe\">\n",
       "  <thead>\n",
       "    <tr style=\"text-align: right;\">\n",
       "      <th></th>\n",
       "      <th>Location_Category_Suburban</th>\n",
       "      <th>Location_Category_Urban</th>\n",
       "      <th>Customer_Loyalty_Status_Regular</th>\n",
       "      <th>Customer_Loyalty_Status_Silver</th>\n",
       "      <th>Time_of_Booking_Evening</th>\n",
       "      <th>Time_of_Booking_Night</th>\n",
       "      <th>Vehicle_Type_Premium</th>\n",
       "    </tr>\n",
       "  </thead>\n",
       "  <tbody>\n",
       "    <tr>\n",
       "      <th>0</th>\n",
       "      <td>0.0</td>\n",
       "      <td>0.0</td>\n",
       "      <td>0.00000</td>\n",
       "      <td>0.0</td>\n",
       "      <td>0.0</td>\n",
       "      <td>0.0</td>\n",
       "      <td>1.000000</td>\n",
       "    </tr>\n",
       "    <tr>\n",
       "      <th>1</th>\n",
       "      <td>0.0</td>\n",
       "      <td>1.0</td>\n",
       "      <td>1.00000</td>\n",
       "      <td>0.0</td>\n",
       "      <td>0.0</td>\n",
       "      <td>1.0</td>\n",
       "      <td>0.000000</td>\n",
       "    </tr>\n",
       "    <tr>\n",
       "      <th>2</th>\n",
       "      <td>0.0</td>\n",
       "      <td>0.0</td>\n",
       "      <td>0.00000</td>\n",
       "      <td>0.0</td>\n",
       "      <td>0.0</td>\n",
       "      <td>0.0</td>\n",
       "      <td>0.000000</td>\n",
       "    </tr>\n",
       "    <tr>\n",
       "      <th>3</th>\n",
       "      <td>0.0</td>\n",
       "      <td>0.0</td>\n",
       "      <td>0.00000</td>\n",
       "      <td>0.0</td>\n",
       "      <td>1.0</td>\n",
       "      <td>0.0</td>\n",
       "      <td>0.000000</td>\n",
       "    </tr>\n",
       "    <tr>\n",
       "      <th>4</th>\n",
       "      <td>0.0</td>\n",
       "      <td>0.0</td>\n",
       "      <td>0.00000</td>\n",
       "      <td>1.0</td>\n",
       "      <td>0.0</td>\n",
       "      <td>1.0</td>\n",
       "      <td>1.000000</td>\n",
       "    </tr>\n",
       "    <tr>\n",
       "      <th>...</th>\n",
       "      <td>...</td>\n",
       "      <td>...</td>\n",
       "      <td>...</td>\n",
       "      <td>...</td>\n",
       "      <td>...</td>\n",
       "      <td>...</td>\n",
       "      <td>...</td>\n",
       "    </tr>\n",
       "    <tr>\n",
       "      <th>947</th>\n",
       "      <td>0.0</td>\n",
       "      <td>1.0</td>\n",
       "      <td>0.83032</td>\n",
       "      <td>0.0</td>\n",
       "      <td>0.0</td>\n",
       "      <td>0.0</td>\n",
       "      <td>0.000000</td>\n",
       "    </tr>\n",
       "    <tr>\n",
       "      <th>948</th>\n",
       "      <td>0.0</td>\n",
       "      <td>0.0</td>\n",
       "      <td>0.00000</td>\n",
       "      <td>1.0</td>\n",
       "      <td>1.0</td>\n",
       "      <td>0.0</td>\n",
       "      <td>0.353152</td>\n",
       "    </tr>\n",
       "    <tr>\n",
       "      <th>949</th>\n",
       "      <td>0.0</td>\n",
       "      <td>1.0</td>\n",
       "      <td>0.00000</td>\n",
       "      <td>1.0</td>\n",
       "      <td>0.0</td>\n",
       "      <td>1.0</td>\n",
       "      <td>0.000000</td>\n",
       "    </tr>\n",
       "    <tr>\n",
       "      <th>950</th>\n",
       "      <td>0.0</td>\n",
       "      <td>0.0</td>\n",
       "      <td>1.00000</td>\n",
       "      <td>0.0</td>\n",
       "      <td>0.0</td>\n",
       "      <td>0.0</td>\n",
       "      <td>0.000000</td>\n",
       "    </tr>\n",
       "    <tr>\n",
       "      <th>951</th>\n",
       "      <td>0.0</td>\n",
       "      <td>0.0</td>\n",
       "      <td>0.00000</td>\n",
       "      <td>0.0</td>\n",
       "      <td>0.0</td>\n",
       "      <td>1.0</td>\n",
       "      <td>0.000000</td>\n",
       "    </tr>\n",
       "  </tbody>\n",
       "</table>\n",
       "<p>952 rows × 7 columns</p>\n",
       "</div>"
      ],
      "text/plain": [
       "     Location_Category_Suburban  Location_Category_Urban  \\\n",
       "0                           0.0                      0.0   \n",
       "1                           0.0                      1.0   \n",
       "2                           0.0                      0.0   \n",
       "3                           0.0                      0.0   \n",
       "4                           0.0                      0.0   \n",
       "..                          ...                      ...   \n",
       "947                         0.0                      1.0   \n",
       "948                         0.0                      0.0   \n",
       "949                         0.0                      1.0   \n",
       "950                         0.0                      0.0   \n",
       "951                         0.0                      0.0   \n",
       "\n",
       "     Customer_Loyalty_Status_Regular  Customer_Loyalty_Status_Silver  \\\n",
       "0                            0.00000                             0.0   \n",
       "1                            1.00000                             0.0   \n",
       "2                            0.00000                             0.0   \n",
       "3                            0.00000                             0.0   \n",
       "4                            0.00000                             1.0   \n",
       "..                               ...                             ...   \n",
       "947                          0.83032                             0.0   \n",
       "948                          0.00000                             1.0   \n",
       "949                          0.00000                             1.0   \n",
       "950                          1.00000                             0.0   \n",
       "951                          0.00000                             0.0   \n",
       "\n",
       "     Time_of_Booking_Evening  Time_of_Booking_Night  Vehicle_Type_Premium  \n",
       "0                        0.0                    0.0              1.000000  \n",
       "1                        0.0                    1.0              0.000000  \n",
       "2                        0.0                    0.0              0.000000  \n",
       "3                        1.0                    0.0              0.000000  \n",
       "4                        0.0                    1.0              1.000000  \n",
       "..                       ...                    ...                   ...  \n",
       "947                      0.0                    0.0              0.000000  \n",
       "948                      1.0                    0.0              0.353152  \n",
       "949                      0.0                    1.0              0.000000  \n",
       "950                      0.0                    0.0              0.000000  \n",
       "951                      0.0                    1.0              0.000000  \n",
       "\n",
       "[952 rows x 7 columns]"
      ]
     },
     "execution_count": 231,
     "metadata": {},
     "output_type": "execute_result"
    }
   ],
   "source": [
    "x_train_balanced"
   ]
  },
  {
   "cell_type": "markdown",
   "id": "6eb218a1-d9f8-46f5-bf84-af574f21d37e",
   "metadata": {
    "jp-MarkdownHeadingCollapsed": true
   },
   "source": [
    "#### Modelo 2"
   ]
  },
  {
   "cell_type": "code",
   "execution_count": 233,
   "id": "0a9af417-f284-4d4a-b66f-d339bb2b2e7a",
   "metadata": {},
   "outputs": [],
   "source": [
    "datos_num = datos[['Number_of_Riders', 'Number_of_Drivers', \n",
    "                   'Number_of_Past_Rides','Expected_Ride_Duration', 'Service_Ratings' ]]"
   ]
  },
  {
   "cell_type": "code",
   "execution_count": 234,
   "id": "a50c8104-168f-44f3-90b2-cb2959a7fc8d",
   "metadata": {
    "scrolled": true
   },
   "outputs": [
    {
     "data": {
      "text/html": [
       "<div>\n",
       "<style scoped>\n",
       "    .dataframe tbody tr th:only-of-type {\n",
       "        vertical-align: middle;\n",
       "    }\n",
       "\n",
       "    .dataframe tbody tr th {\n",
       "        vertical-align: top;\n",
       "    }\n",
       "\n",
       "    .dataframe thead th {\n",
       "        text-align: right;\n",
       "    }\n",
       "</style>\n",
       "<table border=\"1\" class=\"dataframe\">\n",
       "  <thead>\n",
       "    <tr style=\"text-align: right;\">\n",
       "      <th></th>\n",
       "      <th>Location_Category_Suburban</th>\n",
       "      <th>Location_Category_Urban</th>\n",
       "      <th>Customer_Loyalty_Status_Regular</th>\n",
       "      <th>Customer_Loyalty_Status_Silver</th>\n",
       "      <th>Time_of_Booking_Evening</th>\n",
       "      <th>Time_of_Booking_Night</th>\n",
       "      <th>Vehicle_Type_Premium</th>\n",
       "    </tr>\n",
       "  </thead>\n",
       "  <tbody>\n",
       "    <tr>\n",
       "      <th>0</th>\n",
       "      <td>0.0</td>\n",
       "      <td>1.0</td>\n",
       "      <td>0.0</td>\n",
       "      <td>1.0</td>\n",
       "      <td>0.0</td>\n",
       "      <td>1.0</td>\n",
       "      <td>1.0</td>\n",
       "    </tr>\n",
       "    <tr>\n",
       "      <th>1</th>\n",
       "      <td>1.0</td>\n",
       "      <td>0.0</td>\n",
       "      <td>0.0</td>\n",
       "      <td>1.0</td>\n",
       "      <td>1.0</td>\n",
       "      <td>0.0</td>\n",
       "      <td>0.0</td>\n",
       "    </tr>\n",
       "    <tr>\n",
       "      <th>2</th>\n",
       "      <td>0.0</td>\n",
       "      <td>0.0</td>\n",
       "      <td>0.0</td>\n",
       "      <td>1.0</td>\n",
       "      <td>0.0</td>\n",
       "      <td>0.0</td>\n",
       "      <td>1.0</td>\n",
       "    </tr>\n",
       "    <tr>\n",
       "      <th>3</th>\n",
       "      <td>0.0</td>\n",
       "      <td>0.0</td>\n",
       "      <td>1.0</td>\n",
       "      <td>0.0</td>\n",
       "      <td>0.0</td>\n",
       "      <td>0.0</td>\n",
       "      <td>1.0</td>\n",
       "    </tr>\n",
       "    <tr>\n",
       "      <th>4</th>\n",
       "      <td>0.0</td>\n",
       "      <td>0.0</td>\n",
       "      <td>1.0</td>\n",
       "      <td>0.0</td>\n",
       "      <td>0.0</td>\n",
       "      <td>0.0</td>\n",
       "      <td>0.0</td>\n",
       "    </tr>\n",
       "    <tr>\n",
       "      <th>...</th>\n",
       "      <td>...</td>\n",
       "      <td>...</td>\n",
       "      <td>...</td>\n",
       "      <td>...</td>\n",
       "      <td>...</td>\n",
       "      <td>...</td>\n",
       "      <td>...</td>\n",
       "    </tr>\n",
       "    <tr>\n",
       "      <th>995</th>\n",
       "      <td>0.0</td>\n",
       "      <td>1.0</td>\n",
       "      <td>0.0</td>\n",
       "      <td>0.0</td>\n",
       "      <td>0.0</td>\n",
       "      <td>0.0</td>\n",
       "      <td>1.0</td>\n",
       "    </tr>\n",
       "    <tr>\n",
       "      <th>996</th>\n",
       "      <td>0.0</td>\n",
       "      <td>1.0</td>\n",
       "      <td>1.0</td>\n",
       "      <td>0.0</td>\n",
       "      <td>0.0</td>\n",
       "      <td>0.0</td>\n",
       "      <td>1.0</td>\n",
       "    </tr>\n",
       "    <tr>\n",
       "      <th>997</th>\n",
       "      <td>1.0</td>\n",
       "      <td>0.0</td>\n",
       "      <td>0.0</td>\n",
       "      <td>0.0</td>\n",
       "      <td>0.0</td>\n",
       "      <td>1.0</td>\n",
       "      <td>1.0</td>\n",
       "    </tr>\n",
       "    <tr>\n",
       "      <th>998</th>\n",
       "      <td>1.0</td>\n",
       "      <td>0.0</td>\n",
       "      <td>1.0</td>\n",
       "      <td>0.0</td>\n",
       "      <td>0.0</td>\n",
       "      <td>1.0</td>\n",
       "      <td>1.0</td>\n",
       "    </tr>\n",
       "    <tr>\n",
       "      <th>999</th>\n",
       "      <td>0.0</td>\n",
       "      <td>0.0</td>\n",
       "      <td>0.0</td>\n",
       "      <td>0.0</td>\n",
       "      <td>0.0</td>\n",
       "      <td>0.0</td>\n",
       "      <td>0.0</td>\n",
       "    </tr>\n",
       "  </tbody>\n",
       "</table>\n",
       "<p>1000 rows × 7 columns</p>\n",
       "</div>"
      ],
      "text/plain": [
       "     Location_Category_Suburban  Location_Category_Urban  \\\n",
       "0                           0.0                      1.0   \n",
       "1                           1.0                      0.0   \n",
       "2                           0.0                      0.0   \n",
       "3                           0.0                      0.0   \n",
       "4                           0.0                      0.0   \n",
       "..                          ...                      ...   \n",
       "995                         0.0                      1.0   \n",
       "996                         0.0                      1.0   \n",
       "997                         1.0                      0.0   \n",
       "998                         1.0                      0.0   \n",
       "999                         0.0                      0.0   \n",
       "\n",
       "     Customer_Loyalty_Status_Regular  Customer_Loyalty_Status_Silver  \\\n",
       "0                                0.0                             1.0   \n",
       "1                                0.0                             1.0   \n",
       "2                                0.0                             1.0   \n",
       "3                                1.0                             0.0   \n",
       "4                                1.0                             0.0   \n",
       "..                               ...                             ...   \n",
       "995                              0.0                             0.0   \n",
       "996                              1.0                             0.0   \n",
       "997                              0.0                             0.0   \n",
       "998                              1.0                             0.0   \n",
       "999                              0.0                             0.0   \n",
       "\n",
       "     Time_of_Booking_Evening  Time_of_Booking_Night  Vehicle_Type_Premium  \n",
       "0                        0.0                    1.0                   1.0  \n",
       "1                        1.0                    0.0                   0.0  \n",
       "2                        0.0                    0.0                   1.0  \n",
       "3                        0.0                    0.0                   1.0  \n",
       "4                        0.0                    0.0                   0.0  \n",
       "..                       ...                    ...                   ...  \n",
       "995                      0.0                    0.0                   1.0  \n",
       "996                      0.0                    0.0                   1.0  \n",
       "997                      0.0                    1.0                   1.0  \n",
       "998                      0.0                    1.0                   1.0  \n",
       "999                      0.0                    0.0                   0.0  \n",
       "\n",
       "[1000 rows x 7 columns]"
      ]
     },
     "execution_count": 234,
     "metadata": {},
     "output_type": "execute_result"
    }
   ],
   "source": [
    "X_lasso"
   ]
  },
  {
   "cell_type": "code",
   "execution_count": 235,
   "id": "34da1904-5914-4731-9d5e-b9b32f533e98",
   "metadata": {},
   "outputs": [],
   "source": [
    "df_new_lasso = df_new_lasso[['Location_Category_Suburban','Location_Category_Urban',\n",
    "                            'Customer_Loyalty_Status_Regular', 'Customer_Loyalty_Status_Silver']]\t"
   ]
  },
  {
   "cell_type": "code",
   "execution_count": 236,
   "id": "5a5b8371-5e8a-4865-bffa-20eee8d89624",
   "metadata": {},
   "outputs": [],
   "source": [
    "# Dividir de nuevo los datos\n",
    "x_train, x_test, y_train, y_test = train_test_split(df_new_lasso, Y_lasso, test_size=0.3, random_state=000)"
   ]
  },
  {
   "cell_type": "code",
   "execution_count": 237,
   "id": "2855f70f-c058-428c-af2c-3a6eac9a4f3d",
   "metadata": {},
   "outputs": [],
   "source": [
    "# entrenar al modelo final\n",
    "logit_model_lasso= sm.Logit(y_train, x_train)"
   ]
  },
  {
   "cell_type": "code",
   "execution_count": 238,
   "id": "e33f7e52-8357-4e3c-ac25-11e177fcf831",
   "metadata": {},
   "outputs": [
    {
     "name": "stdout",
     "output_type": "stream",
     "text": [
      "Optimization terminated successfully.\n",
      "         Current function value: 0.632369\n",
      "         Iterations 5\n"
     ]
    }
   ],
   "source": [
    "result_lasso = logit_model_lasso.fit()"
   ]
  },
  {
   "cell_type": "code",
   "execution_count": 239,
   "id": "8fe6b1f7-5954-4da0-9b6e-ed8c4eba2b24",
   "metadata": {},
   "outputs": [
    {
     "data": {
      "text/html": [
       "<table class=\"simpletable\">\n",
       "<caption>Logit Regression Results</caption>\n",
       "<tr>\n",
       "  <th>Dep. Variable:</th>    <td>Service_Ratings</td> <th>  No. Observations:  </th>  <td>   700</td>  \n",
       "</tr>\n",
       "<tr>\n",
       "  <th>Model:</th>                 <td>Logit</td>      <th>  Df Residuals:      </th>  <td>   696</td>  \n",
       "</tr>\n",
       "<tr>\n",
       "  <th>Method:</th>                 <td>MLE</td>       <th>  Df Model:          </th>  <td>     3</td>  \n",
       "</tr>\n",
       "<tr>\n",
       "  <th>Date:</th>            <td>Sat, 26 Oct 2024</td> <th>  Pseudo R-squ.:     </th> <td>-0.008773</td>\n",
       "</tr>\n",
       "<tr>\n",
       "  <th>Time:</th>                <td>21:45:20</td>     <th>  Log-Likelihood:    </th> <td> -442.66</td> \n",
       "</tr>\n",
       "<tr>\n",
       "  <th>converged:</th>             <td>True</td>       <th>  LL-Null:           </th> <td> -438.81</td> \n",
       "</tr>\n",
       "<tr>\n",
       "  <th>Covariance Type:</th>     <td>nonrobust</td>    <th>  LLR p-value:       </th>  <td> 1.000</td>  \n",
       "</tr>\n",
       "</table>\n",
       "<table class=\"simpletable\">\n",
       "<tr>\n",
       "                 <td></td>                    <th>coef</th>     <th>std err</th>      <th>z</th>      <th>P>|z|</th>  <th>[0.025</th>    <th>0.975]</th>  \n",
       "</tr>\n",
       "<tr>\n",
       "  <th>Location_Category_Suburban</th>      <td>    0.4278</td> <td>    0.175</td> <td>    2.442</td> <td> 0.015</td> <td>    0.084</td> <td>    0.771</td>\n",
       "</tr>\n",
       "<tr>\n",
       "  <th>Location_Category_Urban</th>         <td>    0.5413</td> <td>    0.162</td> <td>    3.350</td> <td> 0.001</td> <td>    0.225</td> <td>    0.858</td>\n",
       "</tr>\n",
       "<tr>\n",
       "  <th>Customer_Loyalty_Status_Regular</th> <td>    0.4215</td> <td>    0.172</td> <td>    2.450</td> <td> 0.014</td> <td>    0.084</td> <td>    0.759</td>\n",
       "</tr>\n",
       "<tr>\n",
       "  <th>Customer_Loyalty_Status_Silver</th>  <td>    0.5086</td> <td>    0.160</td> <td>    3.177</td> <td> 0.001</td> <td>    0.195</td> <td>    0.822</td>\n",
       "</tr>\n",
       "</table>"
      ],
      "text/latex": [
       "\\begin{center}\n",
       "\\begin{tabular}{lclc}\n",
       "\\toprule\n",
       "\\textbf{Dep. Variable:}                     & Service\\_Ratings & \\textbf{  No. Observations:  } &      700    \\\\\n",
       "\\textbf{Model:}                             &      Logit       & \\textbf{  Df Residuals:      } &      696    \\\\\n",
       "\\textbf{Method:}                            &       MLE        & \\textbf{  Df Model:          } &        3    \\\\\n",
       "\\textbf{Date:}                              & Sat, 26 Oct 2024 & \\textbf{  Pseudo R-squ.:     } & -0.008773   \\\\\n",
       "\\textbf{Time:}                              &     21:45:20     & \\textbf{  Log-Likelihood:    } &   -442.66   \\\\\n",
       "\\textbf{converged:}                         &       True       & \\textbf{  LL-Null:           } &   -438.81   \\\\\n",
       "\\textbf{Covariance Type:}                   &    nonrobust     & \\textbf{  LLR p-value:       } &    1.000    \\\\\n",
       "\\bottomrule\n",
       "\\end{tabular}\n",
       "\\begin{tabular}{lcccccc}\n",
       "                                            & \\textbf{coef} & \\textbf{std err} & \\textbf{z} & \\textbf{P$> |$z$|$} & \\textbf{[0.025} & \\textbf{0.975]}  \\\\\n",
       "\\midrule\n",
       "\\textbf{Location\\_Category\\_Suburban}       &       0.4278  &        0.175     &     2.442  &         0.015        &        0.084    &        0.771     \\\\\n",
       "\\textbf{Location\\_Category\\_Urban}          &       0.5413  &        0.162     &     3.350  &         0.001        &        0.225    &        0.858     \\\\\n",
       "\\textbf{Customer\\_Loyalty\\_Status\\_Regular} &       0.4215  &        0.172     &     2.450  &         0.014        &        0.084    &        0.759     \\\\\n",
       "\\textbf{Customer\\_Loyalty\\_Status\\_Silver}  &       0.5086  &        0.160     &     3.177  &         0.001        &        0.195    &        0.822     \\\\\n",
       "\\bottomrule\n",
       "\\end{tabular}\n",
       "%\\caption{Logit Regression Results}\n",
       "\\end{center}"
      ],
      "text/plain": [
       "<class 'statsmodels.iolib.summary.Summary'>\n",
       "\"\"\"\n",
       "                           Logit Regression Results                           \n",
       "==============================================================================\n",
       "Dep. Variable:        Service_Ratings   No. Observations:                  700\n",
       "Model:                          Logit   Df Residuals:                      696\n",
       "Method:                           MLE   Df Model:                            3\n",
       "Date:                Sat, 26 Oct 2024   Pseudo R-squ.:               -0.008773\n",
       "Time:                        21:45:20   Log-Likelihood:                -442.66\n",
       "converged:                       True   LL-Null:                       -438.81\n",
       "Covariance Type:            nonrobust   LLR p-value:                     1.000\n",
       "===================================================================================================\n",
       "                                      coef    std err          z      P>|z|      [0.025      0.975]\n",
       "---------------------------------------------------------------------------------------------------\n",
       "Location_Category_Suburban          0.4278      0.175      2.442      0.015       0.084       0.771\n",
       "Location_Category_Urban             0.5413      0.162      3.350      0.001       0.225       0.858\n",
       "Customer_Loyalty_Status_Regular     0.4215      0.172      2.450      0.014       0.084       0.759\n",
       "Customer_Loyalty_Status_Silver      0.5086      0.160      3.177      0.001       0.195       0.822\n",
       "===================================================================================================\n",
       "\"\"\""
      ]
     },
     "execution_count": 239,
     "metadata": {},
     "output_type": "execute_result"
    }
   ],
   "source": [
    "result_lasso.summary()"
   ]
  },
  {
   "cell_type": "code",
   "execution_count": 240,
   "id": "c1036b74-5373-40f3-8ec2-7760e0a55d2f",
   "metadata": {},
   "outputs": [],
   "source": [
    "# evaluar el modelo final\n",
    "y_pred_prob_lasso = result_lasso.predict(x_test)"
   ]
  },
  {
   "cell_type": "code",
   "execution_count": 241,
   "id": "6f743c63-871c-4075-bc32-64164b312c6c",
   "metadata": {},
   "outputs": [],
   "source": [
    "y_pred_log_lasso = [1 if prob_lasso > 0.5 else 0 for prob_lasso in y_pred_prob_lasso]"
   ]
  },
  {
   "cell_type": "code",
   "execution_count": 242,
   "id": "7fe57d72-366f-4373-8651-b8c98ecac5ae",
   "metadata": {},
   "outputs": [
    {
     "data": {
      "text/plain": [
       "array([[ 10,  84],\n",
       "       [ 22, 184]], dtype=int64)"
      ]
     },
     "execution_count": 242,
     "metadata": {},
     "output_type": "execute_result"
    }
   ],
   "source": [
    "conf_matrix_lasso = confusion_matrix(y_test, y_pred_log_lasso)\n",
    "conf_matrix_lasso"
   ]
  },
  {
   "cell_type": "code",
   "execution_count": 243,
   "id": "89131036-1497-4e33-a641-37924f4ff679",
   "metadata": {},
   "outputs": [
    {
     "name": "stdout",
     "output_type": "stream",
     "text": [
      "              precision    recall  f1-score   support\n",
      "\n",
      "           0       0.31      0.11      0.16        94\n",
      "           1       0.69      0.89      0.78       206\n",
      "\n",
      "    accuracy                           0.65       300\n",
      "   macro avg       0.50      0.50      0.47       300\n",
      "weighted avg       0.57      0.65      0.58       300\n",
      "\n"
     ]
    }
   ],
   "source": [
    "print(classification_report(y_test, y_pred_log_lasso))"
   ]
  },
  {
   "cell_type": "code",
   "execution_count": null,
   "id": "aaef3e44-2c50-4a6b-a3a0-2db3f79937e2",
   "metadata": {},
   "outputs": [],
   "source": []
  },
  {
   "cell_type": "code",
   "execution_count": 244,
   "id": "360f0169-622b-4ecd-99ab-f1257abf0201",
   "metadata": {},
   "outputs": [],
   "source": [
    "from sklearn.model_selection import KFold, cross_val_score"
   ]
  },
  {
   "cell_type": "code",
   "execution_count": 245,
   "id": "79f847bd-28dc-4b14-a497-d74205c7fee8",
   "metadata": {},
   "outputs": [],
   "source": [
    "X = df_new_lasso\n",
    "Y = Y_lasso"
   ]
  },
  {
   "cell_type": "code",
   "execution_count": 246,
   "id": "e8fd35d6-76b7-4791-bfea-021d7441bb1a",
   "metadata": {},
   "outputs": [],
   "source": [
    "kf = KFold(n_splits=5, shuffle=True, random_state=123)\n",
    "modelo = LogisticRegression()"
   ]
  },
  {
   "cell_type": "code",
   "execution_count": 247,
   "id": "33f9ee69-65c3-49f0-b11c-e3af5e4ebe37",
   "metadata": {},
   "outputs": [
    {
     "name": "stdout",
     "output_type": "stream",
     "text": [
      "Scores: [0.715 0.65  0.74  0.635 0.67 ]\n",
      "Mean Accuracy: 0.682\n"
     ]
    }
   ],
   "source": [
    "scores = cross_val_score(modelo, X, Y, cv=kf, scoring='accuracy')\n",
    "print(\"Scores:\", scores)\n",
    "print(\"Mean Accuracy:\", np.mean(scores))"
   ]
  },
  {
   "cell_type": "markdown",
   "id": "67a3b976-9f0e-497f-a503-2d174d6bb703",
   "metadata": {},
   "source": [
    "#### Modelo 3"
   ]
  },
  {
   "cell_type": "code",
   "execution_count": 249,
   "id": "43b32e66-e9b3-452c-9ac0-dfa968255691",
   "metadata": {},
   "outputs": [],
   "source": [
    "datos['Service_Ratings'] = datos['Average_Ratings'].apply(lambda x: 0 if x <= 3.8 else 1)"
   ]
  },
  {
   "cell_type": "code",
   "execution_count": 250,
   "id": "ff9b1275-9744-4a97-9319-f8724d154749",
   "metadata": {},
   "outputs": [],
   "source": [
    "Y = datos['Service_Ratings']"
   ]
  },
  {
   "cell_type": "code",
   "execution_count": 251,
   "id": "57e9346a-1ee2-4e02-93b2-d60c542fdc92",
   "metadata": {},
   "outputs": [
    {
     "data": {
      "text/plain": [
       "Service_Ratings\n",
       "1    788\n",
       "0    212\n",
       "Name: count, dtype: int64"
      ]
     },
     "execution_count": 251,
     "metadata": {},
     "output_type": "execute_result"
    }
   ],
   "source": [
    "Y.value_counts()"
   ]
  },
  {
   "cell_type": "code",
   "execution_count": 252,
   "id": "20fa4cdc-72cd-4422-93e7-375c344fe32f",
   "metadata": {},
   "outputs": [],
   "source": [
    "kf = KFold(n_splits=5, shuffle=True, random_state=123)\n",
    "modelo = LogisticRegression()"
   ]
  },
  {
   "cell_type": "code",
   "execution_count": 253,
   "id": "7690eb7b-b25f-4424-9089-1f4b695235f3",
   "metadata": {},
   "outputs": [
    {
     "name": "stdout",
     "output_type": "stream",
     "text": [
      "Scores: [0.79 0.76 0.82 0.78 0.79]\n",
      "Mean Accuracy: 0.788\n"
     ]
    }
   ],
   "source": [
    "scores = cross_val_score(modelo, X, Y, cv=kf, scoring='accuracy')\n",
    "print(\"Scores:\", scores)\n",
    "print(\"Mean Accuracy:\", np.mean(scores))"
   ]
  },
  {
   "cell_type": "code",
   "execution_count": 254,
   "id": "b2bec9eb-274f-47fd-85ef-7c41ae2b1a28",
   "metadata": {
    "scrolled": true
   },
   "outputs": [
    {
     "data": {
      "text/html": [
       "<div>\n",
       "<style scoped>\n",
       "    .dataframe tbody tr th:only-of-type {\n",
       "        vertical-align: middle;\n",
       "    }\n",
       "\n",
       "    .dataframe tbody tr th {\n",
       "        vertical-align: top;\n",
       "    }\n",
       "\n",
       "    .dataframe thead th {\n",
       "        text-align: right;\n",
       "    }\n",
       "</style>\n",
       "<table border=\"1\" class=\"dataframe\">\n",
       "  <thead>\n",
       "    <tr style=\"text-align: right;\">\n",
       "      <th></th>\n",
       "      <th>Location_Category_Suburban</th>\n",
       "      <th>Location_Category_Urban</th>\n",
       "      <th>Customer_Loyalty_Status_Regular</th>\n",
       "      <th>Customer_Loyalty_Status_Silver</th>\n",
       "    </tr>\n",
       "  </thead>\n",
       "  <tbody>\n",
       "    <tr>\n",
       "      <th>0</th>\n",
       "      <td>0.0</td>\n",
       "      <td>1.0</td>\n",
       "      <td>0.0</td>\n",
       "      <td>1.0</td>\n",
       "    </tr>\n",
       "    <tr>\n",
       "      <th>1</th>\n",
       "      <td>1.0</td>\n",
       "      <td>0.0</td>\n",
       "      <td>0.0</td>\n",
       "      <td>1.0</td>\n",
       "    </tr>\n",
       "    <tr>\n",
       "      <th>2</th>\n",
       "      <td>0.0</td>\n",
       "      <td>0.0</td>\n",
       "      <td>0.0</td>\n",
       "      <td>1.0</td>\n",
       "    </tr>\n",
       "    <tr>\n",
       "      <th>3</th>\n",
       "      <td>0.0</td>\n",
       "      <td>0.0</td>\n",
       "      <td>1.0</td>\n",
       "      <td>0.0</td>\n",
       "    </tr>\n",
       "    <tr>\n",
       "      <th>4</th>\n",
       "      <td>0.0</td>\n",
       "      <td>0.0</td>\n",
       "      <td>1.0</td>\n",
       "      <td>0.0</td>\n",
       "    </tr>\n",
       "    <tr>\n",
       "      <th>...</th>\n",
       "      <td>...</td>\n",
       "      <td>...</td>\n",
       "      <td>...</td>\n",
       "      <td>...</td>\n",
       "    </tr>\n",
       "    <tr>\n",
       "      <th>995</th>\n",
       "      <td>0.0</td>\n",
       "      <td>1.0</td>\n",
       "      <td>0.0</td>\n",
       "      <td>0.0</td>\n",
       "    </tr>\n",
       "    <tr>\n",
       "      <th>996</th>\n",
       "      <td>0.0</td>\n",
       "      <td>1.0</td>\n",
       "      <td>1.0</td>\n",
       "      <td>0.0</td>\n",
       "    </tr>\n",
       "    <tr>\n",
       "      <th>997</th>\n",
       "      <td>1.0</td>\n",
       "      <td>0.0</td>\n",
       "      <td>0.0</td>\n",
       "      <td>0.0</td>\n",
       "    </tr>\n",
       "    <tr>\n",
       "      <th>998</th>\n",
       "      <td>1.0</td>\n",
       "      <td>0.0</td>\n",
       "      <td>1.0</td>\n",
       "      <td>0.0</td>\n",
       "    </tr>\n",
       "    <tr>\n",
       "      <th>999</th>\n",
       "      <td>0.0</td>\n",
       "      <td>0.0</td>\n",
       "      <td>0.0</td>\n",
       "      <td>0.0</td>\n",
       "    </tr>\n",
       "  </tbody>\n",
       "</table>\n",
       "<p>1000 rows × 4 columns</p>\n",
       "</div>"
      ],
      "text/plain": [
       "     Location_Category_Suburban  Location_Category_Urban  \\\n",
       "0                           0.0                      1.0   \n",
       "1                           1.0                      0.0   \n",
       "2                           0.0                      0.0   \n",
       "3                           0.0                      0.0   \n",
       "4                           0.0                      0.0   \n",
       "..                          ...                      ...   \n",
       "995                         0.0                      1.0   \n",
       "996                         0.0                      1.0   \n",
       "997                         1.0                      0.0   \n",
       "998                         1.0                      0.0   \n",
       "999                         0.0                      0.0   \n",
       "\n",
       "     Customer_Loyalty_Status_Regular  Customer_Loyalty_Status_Silver  \n",
       "0                                0.0                             1.0  \n",
       "1                                0.0                             1.0  \n",
       "2                                0.0                             1.0  \n",
       "3                                1.0                             0.0  \n",
       "4                                1.0                             0.0  \n",
       "..                               ...                             ...  \n",
       "995                              0.0                             0.0  \n",
       "996                              1.0                             0.0  \n",
       "997                              0.0                             0.0  \n",
       "998                              1.0                             0.0  \n",
       "999                              0.0                             0.0  \n",
       "\n",
       "[1000 rows x 4 columns]"
      ]
     },
     "execution_count": 254,
     "metadata": {},
     "output_type": "execute_result"
    }
   ],
   "source": [
    "X"
   ]
  },
  {
   "cell_type": "code",
   "execution_count": 255,
   "id": "ff891a24-ec2b-4164-af02-498e4400edd7",
   "metadata": {},
   "outputs": [],
   "source": [
    "# Dividir de nuevo los datos\n",
    "x_train, x_test, y_train, y_test = train_test_split(X, Y, test_size=0.3, random_state=000)"
   ]
  },
  {
   "cell_type": "code",
   "execution_count": 256,
   "id": "07ed4311-e821-41f6-80c6-f6b0cfe1a434",
   "metadata": {},
   "outputs": [],
   "source": [
    "# entrenar al modelo final\n",
    "logit_model_lasso= sm.Logit(y_train, x_train)"
   ]
  },
  {
   "cell_type": "code",
   "execution_count": 257,
   "id": "ee8f2ab8-7d9c-43b3-923b-10bf905e22e9",
   "metadata": {},
   "outputs": [
    {
     "name": "stdout",
     "output_type": "stream",
     "text": [
      "Optimization terminated successfully.\n",
      "         Current function value: 0.532595\n",
      "         Iterations 5\n"
     ]
    }
   ],
   "source": [
    "result_lasso = logit_model_lasso.fit(maxiter=100)"
   ]
  },
  {
   "cell_type": "code",
   "execution_count": 258,
   "id": "85f79304-e296-46a8-aac6-8a3cf231b4d8",
   "metadata": {},
   "outputs": [
    {
     "data": {
      "text/html": [
       "<table class=\"simpletable\">\n",
       "<caption>Logit Regression Results</caption>\n",
       "<tr>\n",
       "  <th>Dep. Variable:</th>    <td>Service_Ratings</td> <th>  No. Observations:  </th>  <td>   700</td> \n",
       "</tr>\n",
       "<tr>\n",
       "  <th>Model:</th>                 <td>Logit</td>      <th>  Df Residuals:      </th>  <td>   696</td> \n",
       "</tr>\n",
       "<tr>\n",
       "  <th>Method:</th>                 <td>MLE</td>       <th>  Df Model:          </th>  <td>     3</td> \n",
       "</tr>\n",
       "<tr>\n",
       "  <th>Date:</th>            <td>Sat, 26 Oct 2024</td> <th>  Pseudo R-squ.:     </th> <td>-0.03627</td>\n",
       "</tr>\n",
       "<tr>\n",
       "  <th>Time:</th>                <td>21:45:21</td>     <th>  Log-Likelihood:    </th> <td> -372.82</td>\n",
       "</tr>\n",
       "<tr>\n",
       "  <th>converged:</th>             <td>True</td>       <th>  LL-Null:           </th> <td> -359.77</td>\n",
       "</tr>\n",
       "<tr>\n",
       "  <th>Covariance Type:</th>     <td>nonrobust</td>    <th>  LLR p-value:       </th>  <td> 1.000</td> \n",
       "</tr>\n",
       "</table>\n",
       "<table class=\"simpletable\">\n",
       "<tr>\n",
       "                 <td></td>                    <th>coef</th>     <th>std err</th>      <th>z</th>      <th>P>|z|</th>  <th>[0.025</th>    <th>0.975]</th>  \n",
       "</tr>\n",
       "<tr>\n",
       "  <th>Location_Category_Suburban</th>      <td>    0.8306</td> <td>    0.197</td> <td>    4.208</td> <td> 0.000</td> <td>    0.444</td> <td>    1.217</td>\n",
       "</tr>\n",
       "<tr>\n",
       "  <th>Location_Category_Urban</th>         <td>    0.8939</td> <td>    0.180</td> <td>    4.971</td> <td> 0.000</td> <td>    0.541</td> <td>    1.246</td>\n",
       "</tr>\n",
       "<tr>\n",
       "  <th>Customer_Loyalty_Status_Regular</th> <td>    0.8166</td> <td>    0.193</td> <td>    4.237</td> <td> 0.000</td> <td>    0.439</td> <td>    1.194</td>\n",
       "</tr>\n",
       "<tr>\n",
       "  <th>Customer_Loyalty_Status_Silver</th>  <td>    0.8646</td> <td>    0.178</td> <td>    4.865</td> <td> 0.000</td> <td>    0.516</td> <td>    1.213</td>\n",
       "</tr>\n",
       "</table>"
      ],
      "text/latex": [
       "\\begin{center}\n",
       "\\begin{tabular}{lclc}\n",
       "\\toprule\n",
       "\\textbf{Dep. Variable:}                     & Service\\_Ratings & \\textbf{  No. Observations:  } &      700    \\\\\n",
       "\\textbf{Model:}                             &      Logit       & \\textbf{  Df Residuals:      } &      696    \\\\\n",
       "\\textbf{Method:}                            &       MLE        & \\textbf{  Df Model:          } &        3    \\\\\n",
       "\\textbf{Date:}                              & Sat, 26 Oct 2024 & \\textbf{  Pseudo R-squ.:     } &  -0.03627   \\\\\n",
       "\\textbf{Time:}                              &     21:45:21     & \\textbf{  Log-Likelihood:    } &   -372.82   \\\\\n",
       "\\textbf{converged:}                         &       True       & \\textbf{  LL-Null:           } &   -359.77   \\\\\n",
       "\\textbf{Covariance Type:}                   &    nonrobust     & \\textbf{  LLR p-value:       } &    1.000    \\\\\n",
       "\\bottomrule\n",
       "\\end{tabular}\n",
       "\\begin{tabular}{lcccccc}\n",
       "                                            & \\textbf{coef} & \\textbf{std err} & \\textbf{z} & \\textbf{P$> |$z$|$} & \\textbf{[0.025} & \\textbf{0.975]}  \\\\\n",
       "\\midrule\n",
       "\\textbf{Location\\_Category\\_Suburban}       &       0.8306  &        0.197     &     4.208  &         0.000        &        0.444    &        1.217     \\\\\n",
       "\\textbf{Location\\_Category\\_Urban}          &       0.8939  &        0.180     &     4.971  &         0.000        &        0.541    &        1.246     \\\\\n",
       "\\textbf{Customer\\_Loyalty\\_Status\\_Regular} &       0.8166  &        0.193     &     4.237  &         0.000        &        0.439    &        1.194     \\\\\n",
       "\\textbf{Customer\\_Loyalty\\_Status\\_Silver}  &       0.8646  &        0.178     &     4.865  &         0.000        &        0.516    &        1.213     \\\\\n",
       "\\bottomrule\n",
       "\\end{tabular}\n",
       "%\\caption{Logit Regression Results}\n",
       "\\end{center}"
      ],
      "text/plain": [
       "<class 'statsmodels.iolib.summary.Summary'>\n",
       "\"\"\"\n",
       "                           Logit Regression Results                           \n",
       "==============================================================================\n",
       "Dep. Variable:        Service_Ratings   No. Observations:                  700\n",
       "Model:                          Logit   Df Residuals:                      696\n",
       "Method:                           MLE   Df Model:                            3\n",
       "Date:                Sat, 26 Oct 2024   Pseudo R-squ.:                -0.03627\n",
       "Time:                        21:45:21   Log-Likelihood:                -372.82\n",
       "converged:                       True   LL-Null:                       -359.77\n",
       "Covariance Type:            nonrobust   LLR p-value:                     1.000\n",
       "===================================================================================================\n",
       "                                      coef    std err          z      P>|z|      [0.025      0.975]\n",
       "---------------------------------------------------------------------------------------------------\n",
       "Location_Category_Suburban          0.8306      0.197      4.208      0.000       0.444       1.217\n",
       "Location_Category_Urban             0.8939      0.180      4.971      0.000       0.541       1.246\n",
       "Customer_Loyalty_Status_Regular     0.8166      0.193      4.237      0.000       0.439       1.194\n",
       "Customer_Loyalty_Status_Silver      0.8646      0.178      4.865      0.000       0.516       1.213\n",
       "===================================================================================================\n",
       "\"\"\""
      ]
     },
     "execution_count": 258,
     "metadata": {},
     "output_type": "execute_result"
    }
   ],
   "source": [
    "result_lasso.summary()"
   ]
  },
  {
   "cell_type": "code",
   "execution_count": 259,
   "id": "08352965-7048-4267-96e2-2ba622852eea",
   "metadata": {},
   "outputs": [],
   "source": [
    "# evaluar el modelo final\n",
    "y_pred_prob_lasso = result_lasso.predict(x_test)"
   ]
  },
  {
   "cell_type": "code",
   "execution_count": 260,
   "id": "41bc46bf-1adf-4df2-a407-234d2d814851",
   "metadata": {},
   "outputs": [],
   "source": [
    "y_pred_log_lasso = [1 if prob_lasso > 0.5 else 0 for prob_lasso in y_pred_prob_lasso]"
   ]
  },
  {
   "cell_type": "code",
   "execution_count": 261,
   "id": "139a7277-4afd-471c-8860-84e6afc4764f",
   "metadata": {},
   "outputs": [
    {
     "data": {
      "text/plain": [
       "array([[  7,  58],\n",
       "       [ 25, 210]], dtype=int64)"
      ]
     },
     "execution_count": 261,
     "metadata": {},
     "output_type": "execute_result"
    }
   ],
   "source": [
    "conf_matrix_lasso = confusion_matrix(y_test, y_pred_log_lasso)\n",
    "conf_matrix_lasso"
   ]
  },
  {
   "cell_type": "code",
   "execution_count": 262,
   "id": "7c22a8b2-08ab-4a71-b861-db6fa3484398",
   "metadata": {},
   "outputs": [
    {
     "name": "stdout",
     "output_type": "stream",
     "text": [
      "              precision    recall  f1-score   support\n",
      "\n",
      "           0       0.22      0.11      0.14        65\n",
      "           1       0.78      0.89      0.83       235\n",
      "\n",
      "    accuracy                           0.72       300\n",
      "   macro avg       0.50      0.50      0.49       300\n",
      "weighted avg       0.66      0.72      0.69       300\n",
      "\n"
     ]
    }
   ],
   "source": [
    "print(classification_report(y_test, y_pred_log_lasso))"
   ]
  },
  {
   "cell_type": "markdown",
   "id": "ae30f2d4-85a1-434a-92c5-b58934966f63",
   "metadata": {},
   "source": [
    "##### Aplicar remuestreo con SMOTE"
   ]
  },
  {
   "cell_type": "code",
   "execution_count": 264,
   "id": "1f749fc6-f66d-4dce-8ecf-4929bfe1f034",
   "metadata": {},
   "outputs": [],
   "source": [
    "# Aplicar SMOTE\n",
    "smote = SMOTE(random_state=42)\n",
    "x_train_balanced, y_train_balanced = smote.fit_resample(x_train, y_train)"
   ]
  },
  {
   "cell_type": "code",
   "execution_count": 265,
   "id": "21bd209f-3e95-4213-8c6b-7d8f5041b17e",
   "metadata": {},
   "outputs": [],
   "source": [
    "# entrenar al modelo final\n",
    "logit_model_lasso= sm.Logit(y_train_balanced, x_train_balanced)"
   ]
  },
  {
   "cell_type": "code",
   "execution_count": 266,
   "id": "687d9408-8b6d-4ee9-9cac-9f5862e87ac7",
   "metadata": {},
   "outputs": [
    {
     "data": {
      "text/plain": [
       "Service_Ratings\n",
       "1    553\n",
       "0    553\n",
       "Name: count, dtype: int64"
      ]
     },
     "execution_count": 266,
     "metadata": {},
     "output_type": "execute_result"
    }
   ],
   "source": [
    "y_train_balanced.value_counts()"
   ]
  },
  {
   "cell_type": "code",
   "execution_count": 267,
   "id": "0d203784-dbb3-4435-90ae-809c831ce4f1",
   "metadata": {},
   "outputs": [
    {
     "name": "stdout",
     "output_type": "stream",
     "text": [
      "Optimization terminated successfully.\n",
      "         Current function value: 0.692260\n",
      "         Iterations 3\n"
     ]
    }
   ],
   "source": [
    "result_lasso = logit_model_lasso.fit()"
   ]
  },
  {
   "cell_type": "code",
   "execution_count": 268,
   "id": "6d75ff22-5344-4734-b4d5-ce20809915da",
   "metadata": {},
   "outputs": [
    {
     "data": {
      "text/html": [
       "<table class=\"simpletable\">\n",
       "<caption>Logit Regression Results</caption>\n",
       "<tr>\n",
       "  <th>Dep. Variable:</th>    <td>Service_Ratings</td> <th>  No. Observations:  </th>  <td>  1106</td> \n",
       "</tr>\n",
       "<tr>\n",
       "  <th>Model:</th>                 <td>Logit</td>      <th>  Df Residuals:      </th>  <td>  1102</td> \n",
       "</tr>\n",
       "<tr>\n",
       "  <th>Method:</th>                 <td>MLE</td>       <th>  Df Model:          </th>  <td>     3</td> \n",
       "</tr>\n",
       "<tr>\n",
       "  <th>Date:</th>            <td>Sat, 26 Oct 2024</td> <th>  Pseudo R-squ.:     </th> <td>0.001280</td>\n",
       "</tr>\n",
       "<tr>\n",
       "  <th>Time:</th>                <td>21:45:21</td>     <th>  Log-Likelihood:    </th> <td> -765.64</td>\n",
       "</tr>\n",
       "<tr>\n",
       "  <th>converged:</th>             <td>True</td>       <th>  LL-Null:           </th> <td> -766.62</td>\n",
       "</tr>\n",
       "<tr>\n",
       "  <th>Covariance Type:</th>     <td>nonrobust</td>    <th>  LLR p-value:       </th>  <td>0.5803</td> \n",
       "</tr>\n",
       "</table>\n",
       "<table class=\"simpletable\">\n",
       "<tr>\n",
       "                 <td></td>                    <th>coef</th>     <th>std err</th>      <th>z</th>      <th>P>|z|</th>  <th>[0.025</th>    <th>0.975]</th>  \n",
       "</tr>\n",
       "<tr>\n",
       "  <th>Location_Category_Suburban</th>      <td>    0.1604</td> <td>    0.133</td> <td>    1.202</td> <td> 0.229</td> <td>   -0.101</td> <td>    0.422</td>\n",
       "</tr>\n",
       "<tr>\n",
       "  <th>Location_Category_Urban</th>         <td>    0.0836</td> <td>    0.122</td> <td>    0.685</td> <td> 0.494</td> <td>   -0.156</td> <td>    0.323</td>\n",
       "</tr>\n",
       "<tr>\n",
       "  <th>Customer_Loyalty_Status_Regular</th> <td>   -0.0883</td> <td>    0.129</td> <td>   -0.686</td> <td> 0.492</td> <td>   -0.340</td> <td>    0.164</td>\n",
       "</tr>\n",
       "<tr>\n",
       "  <th>Customer_Loyalty_Status_Silver</th>  <td>   -0.0158</td> <td>    0.121</td> <td>   -0.131</td> <td> 0.896</td> <td>   -0.253</td> <td>    0.221</td>\n",
       "</tr>\n",
       "</table>"
      ],
      "text/latex": [
       "\\begin{center}\n",
       "\\begin{tabular}{lclc}\n",
       "\\toprule\n",
       "\\textbf{Dep. Variable:}                     & Service\\_Ratings & \\textbf{  No. Observations:  } &     1106    \\\\\n",
       "\\textbf{Model:}                             &      Logit       & \\textbf{  Df Residuals:      } &     1102    \\\\\n",
       "\\textbf{Method:}                            &       MLE        & \\textbf{  Df Model:          } &        3    \\\\\n",
       "\\textbf{Date:}                              & Sat, 26 Oct 2024 & \\textbf{  Pseudo R-squ.:     } &  0.001280   \\\\\n",
       "\\textbf{Time:}                              &     21:45:21     & \\textbf{  Log-Likelihood:    } &   -765.64   \\\\\n",
       "\\textbf{converged:}                         &       True       & \\textbf{  LL-Null:           } &   -766.62   \\\\\n",
       "\\textbf{Covariance Type:}                   &    nonrobust     & \\textbf{  LLR p-value:       } &   0.5803    \\\\\n",
       "\\bottomrule\n",
       "\\end{tabular}\n",
       "\\begin{tabular}{lcccccc}\n",
       "                                            & \\textbf{coef} & \\textbf{std err} & \\textbf{z} & \\textbf{P$> |$z$|$} & \\textbf{[0.025} & \\textbf{0.975]}  \\\\\n",
       "\\midrule\n",
       "\\textbf{Location\\_Category\\_Suburban}       &       0.1604  &        0.133     &     1.202  &         0.229        &       -0.101    &        0.422     \\\\\n",
       "\\textbf{Location\\_Category\\_Urban}          &       0.0836  &        0.122     &     0.685  &         0.494        &       -0.156    &        0.323     \\\\\n",
       "\\textbf{Customer\\_Loyalty\\_Status\\_Regular} &      -0.0883  &        0.129     &    -0.686  &         0.492        &       -0.340    &        0.164     \\\\\n",
       "\\textbf{Customer\\_Loyalty\\_Status\\_Silver}  &      -0.0158  &        0.121     &    -0.131  &         0.896        &       -0.253    &        0.221     \\\\\n",
       "\\bottomrule\n",
       "\\end{tabular}\n",
       "%\\caption{Logit Regression Results}\n",
       "\\end{center}"
      ],
      "text/plain": [
       "<class 'statsmodels.iolib.summary.Summary'>\n",
       "\"\"\"\n",
       "                           Logit Regression Results                           \n",
       "==============================================================================\n",
       "Dep. Variable:        Service_Ratings   No. Observations:                 1106\n",
       "Model:                          Logit   Df Residuals:                     1102\n",
       "Method:                           MLE   Df Model:                            3\n",
       "Date:                Sat, 26 Oct 2024   Pseudo R-squ.:                0.001280\n",
       "Time:                        21:45:21   Log-Likelihood:                -765.64\n",
       "converged:                       True   LL-Null:                       -766.62\n",
       "Covariance Type:            nonrobust   LLR p-value:                    0.5803\n",
       "===================================================================================================\n",
       "                                      coef    std err          z      P>|z|      [0.025      0.975]\n",
       "---------------------------------------------------------------------------------------------------\n",
       "Location_Category_Suburban          0.1604      0.133      1.202      0.229      -0.101       0.422\n",
       "Location_Category_Urban             0.0836      0.122      0.685      0.494      -0.156       0.323\n",
       "Customer_Loyalty_Status_Regular    -0.0883      0.129     -0.686      0.492      -0.340       0.164\n",
       "Customer_Loyalty_Status_Silver     -0.0158      0.121     -0.131      0.896      -0.253       0.221\n",
       "===================================================================================================\n",
       "\"\"\""
      ]
     },
     "execution_count": 268,
     "metadata": {},
     "output_type": "execute_result"
    }
   ],
   "source": [
    "result_lasso.summary()"
   ]
  },
  {
   "cell_type": "code",
   "execution_count": 269,
   "id": "5cbafc9f-2463-4900-bdae-e4687a7f74bd",
   "metadata": {},
   "outputs": [],
   "source": [
    "# evaluar el modelo final\n",
    "y_pred_prob_lasso = result_lasso.predict(x_test)"
   ]
  },
  {
   "cell_type": "code",
   "execution_count": 270,
   "id": "ffa998c4-e925-4af5-a4f5-435b8114a05d",
   "metadata": {},
   "outputs": [],
   "source": [
    "y_pred_log_lasso = [1 if prob_lasso > 0.5 else 0 for prob_lasso in y_pred_prob_lasso]"
   ]
  },
  {
   "cell_type": "code",
   "execution_count": 271,
   "id": "886a4dfd-0539-4d2d-8dec-8722edc30966",
   "metadata": {},
   "outputs": [
    {
     "name": "stdout",
     "output_type": "stream",
     "text": [
      "              precision    recall  f1-score   support\n",
      "\n",
      "           0       0.20      0.42      0.27        65\n",
      "           1       0.77      0.53      0.63       235\n",
      "\n",
      "    accuracy                           0.51       300\n",
      "   macro avg       0.48      0.47      0.45       300\n",
      "weighted avg       0.64      0.51      0.55       300\n",
      "\n"
     ]
    }
   ],
   "source": [
    "print(classification_report(y_test, y_pred_log_lasso))"
   ]
  },
  {
   "cell_type": "code",
   "execution_count": 272,
   "id": "ce97052b-8ea6-413d-870c-15cece92ec89",
   "metadata": {},
   "outputs": [],
   "source": [
    "fpr, tpr, thresholds = roc_curve(y_test, y_pred_prob_lasso)"
   ]
  },
  {
   "cell_type": "code",
   "execution_count": 273,
   "id": "0c77b6cf-60ec-457a-982c-fd12a162f427",
   "metadata": {},
   "outputs": [],
   "source": [
    "roc_auc = roc_auc_score(y_test, y_pred_prob_lasso)"
   ]
  },
  {
   "cell_type": "code",
   "execution_count": 274,
   "id": "b630f64d-726f-4690-8ac2-8ebbbc1b34fa",
   "metadata": {},
   "outputs": [
    {
     "data": {
      "image/png": "[encoded data removed]",
      "text/plain": [
       "<Figure size 640x480 with 1 Axes>"
      ]
     },
     "metadata": {},
     "output_type": "display_data"
    }
   ],
   "source": [
    "plt.figure()\n",
    "plt.plot(fpr, tpr, color='darkorange', lw=2, label='ROC curve %0.2f' % roc_auc)\n",
    "plt.plot([0, 1], [0, 1], color='navy', lw=2, linestyle='--')\n",
    "plt.xlim([0.0, 1.0])\n",
    "plt.ylim([0.0, 1.05])\n",
    "plt.xlabel('False Positive Rate')\n",
    "plt.ylabel('True Positive Rate')\n",
    "plt.title('Receiver Operating Characteristic')\n",
    "plt.legend(loc=\"lower right\")\n",
    "plt.show()"
   ]
  },
  {
   "cell_type": "code",
   "execution_count": null,
   "id": "9582a895-530c-4149-b9d6-e38bd84302b1",
   "metadata": {},
   "outputs": [],
   "source": []
  },
  {
   "cell_type": "code",
   "execution_count": 275,
   "id": "e8fd2390-5abb-4e06-950c-bd344627ea68",
   "metadata": {},
   "outputs": [
    {
     "data": {
      "text/plain": [
       "array(['Night', 'Evening', 'Afternoon', 'Morning'], dtype=object)"
      ]
     },
     "execution_count": 275,
     "metadata": {},
     "output_type": "execute_result"
    }
   ],
   "source": [
    "datos['Time_of_Booking'].unique()"
   ]
  },
  {
   "cell_type": "code",
   "execution_count": null,
   "id": "e5ebed25-2e0b-4f6e-a42e-ec4aa1277223",
   "metadata": {},
   "outputs": [],
   "source": []
  }
 ],
 "metadata": {
  "kernelspec": {
   "display_name": "Python 3 (ipykernel)",
   "language": "python",
   "name": "python3"
  },
  "language_info": {
   "codemirror_mode": {
    "name": "ipython",
    "version": 3
   },
   "file_extension": ".py",
   "mimetype": "text/x-python",
   "name": "python",
   "nbconvert_exporter": "python",
   "pygments_lexer": "ipython3",
   "version": "3.9.7"
  }
 },
 "nbformat": 4,
 "nbformat_minor": 5
}
